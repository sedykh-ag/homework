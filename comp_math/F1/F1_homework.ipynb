{
 "cells": [
  {
   "cell_type": "markdown",
   "metadata": {
    "id": "-e7GkuKSMH3u"
   },
   "source": [
    "# Task F1"
   ]
  },
  {
   "cell_type": "code",
   "execution_count": 1,
   "metadata": {
    "colab": {
     "base_uri": "https://localhost:8080/",
     "height": 473
    },
    "id": "azl3mvFJMA9S",
    "outputId": "4fee7ac7-f62d-41f3-bb71-018f4a498291"
   },
   "outputs": [
    {
     "name": "stdout",
     "output_type": "stream",
     "text": [
      "Absorbed: 0.086\n",
      "Passed: 0.0006\n",
      "Reflected: 0.9134\n"
     ]
    },
    {
     "data": {
      "text/plain": [
       "(array([172., 168., 106.,  83.,  73.,  52.,  48.,  36.,  27.,  24.,  26.,\n",
       "         14.,   9.,   7.,   3.,   4.,   4.,   3.,   0.,   1.]),\n",
       " array([2.60894950e-02, 4.71237581e+00, 9.39866212e+00, 1.40849484e+01,\n",
       "        1.87712347e+01, 2.34575210e+01, 2.81438074e+01, 3.28300937e+01,\n",
       "        3.75163800e+01, 4.22026663e+01, 4.68889526e+01, 5.15752389e+01,\n",
       "        5.62615252e+01, 6.09478115e+01, 6.56340978e+01, 7.03203841e+01,\n",
       "        7.50066705e+01, 7.96929568e+01, 8.43792431e+01, 8.90655294e+01,\n",
       "        9.37518157e+01]),\n",
       " <a list of 20 Patch objects>)"
      ]
     },
     "execution_count": 1,
     "metadata": {},
     "output_type": "execute_result"
    },
    {
     "data": {
      "image/png": "[encoded data removed]",
      "text/plain": [
       "<Figure size 432x288 with 1 Axes>"
      ]
     },
     "metadata": {
      "needs_background": "light"
     },
     "output_type": "display_data"
    }
   ],
   "source": [
    "import numpy as np\n",
    "from matplotlib import pyplot as plt\n",
    "sigma = 1\n",
    "N = 10000\n",
    "sigma_c = sigma * 10**(-3)\n",
    "L = 10**(2)\n",
    "c_xs = []\n",
    "N_c = 0\n",
    "N_t = 0\n",
    "N_r = 0\n",
    "for i in range(N):\n",
    "    x = 0\n",
    "    mu = 1\n",
    "    while True:\n",
    "        lmb = - 1 / sigma * np.log(np.random.uniform(1e-3, 1))\n",
    "        x = x + lmb * mu\n",
    "        if x >= L:\n",
    "            N_t += 1\n",
    "            break\n",
    "        elif x <=0:\n",
    "            N_r += 1\n",
    "            break\n",
    "        elif np.random.uniform(0, 1) <= sigma_c / sigma:\n",
    "            N_c += 1\n",
    "            c_xs.append(x)\n",
    "            break\n",
    "        mu = np.random.uniform(-1, 1)\n",
    "print(\"Absorbed: \" + str(N_c / N))\n",
    "print(\"Passed: \" + str(N_t / N))\n",
    "print(\"Reflected: \" + str(N_r / N))\n",
    "plt.hist(c_xs, bins = 20)"
   ]
  }
 ],
 "metadata": {
  "colab": {
   "name": "F1.ipynb",
   "provenance": []
  },
  "kernelspec": {
   "display_name": "Python 3",
   "language": "python",
   "name": "python3"
  },
  "language_info": {
   "codemirror_mode": {
    "name": "ipython",
    "version": 3
   },
   "file_extension": ".py",
   "mimetype": "text/x-python",
   "name": "python",
   "nbconvert_exporter": "python",
   "pygments_lexer": "ipython3",
   "version": "3.8.8"
  }
 },
 "nbformat": 4,
 "nbformat_minor": 1
}
