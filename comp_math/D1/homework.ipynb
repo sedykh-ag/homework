{
 "cells": [
  {
   "cell_type": "markdown",
   "id": "ba7d0ed1",
   "metadata": {
    "id": "WyxI9KMeLLrD"
   },
   "source": [
    "---\n",
    "\n",
    "# Практические задания."
   ]
  },
  {
   "cell_type": "markdown",
   "id": "1be66ce0",
   "metadata": {
    "deletable": false,
    "editable": false,
    "id": "JlostWXiLLrE",
    "nbgrader": {
     "cell_type": "markdown",
     "checksum": "6efb33090fabfc6a1f2cd087e5c642f7",
     "grade": false,
     "grade_id": "cell-9b523965d40334d3",
     "locked": true,
     "schema_version": 3,
     "solution": false,
     "task": false
    }
   },
   "source": [
    "# Задача Коши для ОДУ первого порядка."
   ]
  },
  {
   "cell_type": "markdown",
   "id": "dc1f7338",
   "metadata": {
    "deletable": false,
    "editable": false,
    "id": "qMxMtak5LLrE",
    "nbgrader": {
     "cell_type": "markdown",
     "checksum": "e46f70ffb5941b3311b63870881fb8fe",
     "grade": false,
     "grade_id": "cell-a23d606ae810688a",
     "locked": true,
     "schema_version": 3,
     "solution": false,
     "task": false
    }
   },
   "source": [
    "## I. Метод Эйлера для ОДУ первого порядка.\n",
    "\n",
    "Рассмотрим уравнение первого порядка\n",
    "\n",
    "$$\n",
    "\\frac{d u}{d t} = \\lambda u\n",
    "$$\n",
    "\n",
    "С начальным условием $u(t=0) = u_0$.\n"
   ]
  },
  {
   "cell_type": "code",
   "execution_count": 1,
   "id": "7aee7c41",
   "metadata": {
    "deletable": false,
    "editable": false,
    "id": "7VTkA9J5LLrF",
    "nbgrader": {
     "cell_type": "code",
     "checksum": "b3e4a6211d06b314baa2579de1607205",
     "grade": false,
     "grade_id": "cell-275adf71ea9912f4",
     "locked": true,
     "schema_version": 3,
     "solution": false,
     "task": false
    }
   },
   "outputs": [],
   "source": [
    "import numpy as np\n",
    "import matplotlib.pyplot as plt\n",
    "%matplotlib notebook\n"
   ]
  },
  {
   "cell_type": "code",
   "execution_count": 2,
   "id": "8f2b7a7f",
   "metadata": {
    "deletable": false,
    "editable": false,
    "id": "Rh7qHJx5LLrF",
    "nbgrader": {
     "cell_type": "code",
     "checksum": "e1d45e9a7a3a504a784ecd4c0e9d90ad",
     "grade": false,
     "grade_id": "cell-489aa147b6c22003",
     "locked": true,
     "schema_version": 3,
     "solution": false,
     "task": false
    }
   },
   "outputs": [],
   "source": [
    "def euler_solve(lam, u0, T, dt):\n",
    "    \"\"\"Решает $du/dt = \\lambda u$ на $0 < t < T$ с $u(t=0) = u0$ при помощи явного метода Эйлера.\"\"\"\n",
    "    num_steps = int(T/dt)\n",
    "    tt = np.arange(num_steps+1)*dt\n",
    "    y = np.empty(num_steps+1)\n",
    "    y[0] = u0\n",
    "    for k in range(num_steps):\n",
    "        y[k+1] = y[k] + dt*lam*y[k]\n",
    "    return tt, y"
   ]
  },
  {
   "cell_type": "code",
   "execution_count": 3,
   "id": "cd728754",
   "metadata": {
    "colab": {
     "base_uri": "https://localhost:8080/",
     "height": 265
    },
    "deletable": false,
    "editable": false,
    "id": "a8YycxCbLLrG",
    "nbgrader": {
     "cell_type": "code",
     "checksum": "3f4ac9179aeafd966b55cf34e9feaf5a",
     "grade": false,
     "grade_id": "cell-f544e90b58d49628",
     "locked": true,
     "schema_version": 3,
     "solution": false,
     "task": false
    },
    "outputId": "4f2ddb01-d914-4f84-815c-c3b7864bf1ec",
    "scrolled": false
   },
   "outputs": [
    {
     "data": {
      "application/javascript": [
       "/* Put everything inside the global mpl namespace */\n",
       "/* global mpl */\n",
       "window.mpl = {};\n",
       "\n",
       "mpl.get_websocket_type = function () {\n",
       "    if (typeof WebSocket !== 'undefined') {\n",
       "        return WebSocket;\n",
       "    } else if (typeof MozWebSocket !== 'undefined') {\n",
       "        return MozWebSocket;\n",
       "    } else {\n",
       "        alert(\n",
       "            'Your browser does not have WebSocket support. ' +\n",
       "                'Please try Chrome, Safari or Firefox ≥ 6. ' +\n",
       "                'Firefox 4 and 5 are also supported but you ' +\n",
       "                'have to enable WebSockets in about:config.'\n",
       "        );\n",
       "    }\n",
       "};\n",
       "\n",
       "mpl.figure = function (figure_id, websocket, ondownload, parent_element) {\n",
       "    this.id = figure_id;\n",
       "\n",
       "    this.ws = websocket;\n",
       "\n",
       "    this.supports_binary = this.ws.binaryType !== undefined;\n",
       "\n",
       "    if (!this.supports_binary) {\n",
       "        var warnings = document.getElementById('mpl-warnings');\n",
       "        if (warnings) {\n",
       "            warnings.style.display = 'block';\n",
       "            warnings.textContent =\n",
       "                'This browser does not support binary websocket messages. ' +\n",
       "                'Performance may be slow.';\n",
       "        }\n",
       "    }\n",
       "\n",
       "    this.imageObj = new Image();\n",
       "\n",
       "    this.context = undefined;\n",
       "    this.message = undefined;\n",
       "    this.canvas = undefined;\n",
       "    this.rubberband_canvas = undefined;\n",
       "    this.rubberband_context = undefined;\n",
       "    this.format_dropdown = undefined;\n",
       "\n",
       "    this.image_mode = 'full';\n",
       "\n",
       "    this.root = document.createElement('div');\n",
       "    this.root.setAttribute('style', 'display: inline-block');\n",
       "    this._root_extra_style(this.root);\n",
       "\n",
       "    parent_element.appendChild(this.root);\n",
       "\n",
       "    this._init_header(this);\n",
       "    this._init_canvas(this);\n",
       "    this._init_toolbar(this);\n",
       "\n",
       "    var fig = this;\n",
       "\n",
       "    this.waiting = false;\n",
       "\n",
       "    this.ws.onopen = function () {\n",
       "        fig.send_message('supports_binary', { value: fig.supports_binary });\n",
       "        fig.send_message('send_image_mode', {});\n",
       "        if (fig.ratio !== 1) {\n",
       "            fig.send_message('set_dpi_ratio', { dpi_ratio: fig.ratio });\n",
       "        }\n",
       "        fig.send_message('refresh', {});\n",
       "    };\n",
       "\n",
       "    this.imageObj.onload = function () {\n",
       "        if (fig.image_mode === 'full') {\n",
       "            // Full images could contain transparency (where diff images\n",
       "            // almost always do), so we need to clear the canvas so that\n",
       "            // there is no ghosting.\n",
       "            fig.context.clearRect(0, 0, fig.canvas.width, fig.canvas.height);\n",
       "        }\n",
       "        fig.context.drawImage(fig.imageObj, 0, 0);\n",
       "    };\n",
       "\n",
       "    this.imageObj.onunload = function () {\n",
       "        fig.ws.close();\n",
       "    };\n",
       "\n",
       "    this.ws.onmessage = this._make_on_message_function(this);\n",
       "\n",
       "    this.ondownload = ondownload;\n",
       "};\n",
       "\n",
       "mpl.figure.prototype._init_header = function () {\n",
       "    var titlebar = document.createElement('div');\n",
       "    titlebar.classList =\n",
       "        'ui-dialog-titlebar ui-widget-header ui-corner-all ui-helper-clearfix';\n",
       "    var titletext = document.createElement('div');\n",
       "    titletext.classList = 'ui-dialog-title';\n",
       "    titletext.setAttribute(\n",
       "        'style',\n",
       "        'width: 100%; text-align: center; padding: 3px;'\n",
       "    );\n",
       "    titlebar.appendChild(titletext);\n",
       "    this.root.appendChild(titlebar);\n",
       "    this.header = titletext;\n",
       "};\n",
       "\n",
       "mpl.figure.prototype._canvas_extra_style = function (_canvas_div) {};\n",
       "\n",
       "mpl.figure.prototype._root_extra_style = function (_canvas_div) {};\n",
       "\n",
       "mpl.figure.prototype._init_canvas = function () {\n",
       "    var fig = this;\n",
       "\n",
       "    var canvas_div = (this.canvas_div = document.createElement('div'));\n",
       "    canvas_div.setAttribute(\n",
       "        'style',\n",
       "        'border: 1px solid #ddd;' +\n",
       "            'box-sizing: content-box;' +\n",
       "            'clear: both;' +\n",
       "            'min-height: 1px;' +\n",
       "            'min-width: 1px;' +\n",
       "            'outline: 0;' +\n",
       "            'overflow: hidden;' +\n",
       "            'position: relative;' +\n",
       "            'resize: both;'\n",
       "    );\n",
       "\n",
       "    function on_keyboard_event_closure(name) {\n",
       "        return function (event) {\n",
       "            return fig.key_event(event, name);\n",
       "        };\n",
       "    }\n",
       "\n",
       "    canvas_div.addEventListener(\n",
       "        'keydown',\n",
       "        on_keyboard_event_closure('key_press')\n",
       "    );\n",
       "    canvas_div.addEventListener(\n",
       "        'keyup',\n",
       "        on_keyboard_event_closure('key_release')\n",
       "    );\n",
       "\n",
       "    this._canvas_extra_style(canvas_div);\n",
       "    this.root.appendChild(canvas_div);\n",
       "\n",
       "    var canvas = (this.canvas = document.createElement('canvas'));\n",
       "    canvas.classList.add('mpl-canvas');\n",
       "    canvas.setAttribute('style', 'box-sizing: content-box;');\n",
       "\n",
       "    this.context = canvas.getContext('2d');\n",
       "\n",
       "    var backingStore =\n",
       "        this.context.backingStorePixelRatio ||\n",
       "        this.context.webkitBackingStorePixelRatio ||\n",
       "        this.context.mozBackingStorePixelRatio ||\n",
       "        this.context.msBackingStorePixelRatio ||\n",
       "        this.context.oBackingStorePixelRatio ||\n",
       "        this.context.backingStorePixelRatio ||\n",
       "        1;\n",
       "\n",
       "    this.ratio = (window.devicePixelRatio || 1) / backingStore;\n",
       "\n",
       "    var rubberband_canvas = (this.rubberband_canvas = document.createElement(\n",
       "        'canvas'\n",
       "    ));\n",
       "    rubberband_canvas.setAttribute(\n",
       "        'style',\n",
       "        'box-sizing: content-box; position: absolute; left: 0; top: 0; z-index: 1;'\n",
       "    );\n",
       "\n",
       "    // Apply a ponyfill if ResizeObserver is not implemented by browser.\n",
       "    if (this.ResizeObserver === undefined) {\n",
       "        if (window.ResizeObserver !== undefined) {\n",
       "            this.ResizeObserver = window.ResizeObserver;\n",
       "        } else {\n",
       "            var obs = _JSXTOOLS_RESIZE_OBSERVER({});\n",
       "            this.ResizeObserver = obs.ResizeObserver;\n",
       "        }\n",
       "    }\n",
       "\n",
       "    this.resizeObserverInstance = new this.ResizeObserver(function (entries) {\n",
       "        var nentries = entries.length;\n",
       "        for (var i = 0; i < nentries; i++) {\n",
       "            var entry = entries[i];\n",
       "            var width, height;\n",
       "            if (entry.contentBoxSize) {\n",
       "                if (entry.contentBoxSize instanceof Array) {\n",
       "                    // Chrome 84 implements new version of spec.\n",
       "                    width = entry.contentBoxSize[0].inlineSize;\n",
       "                    height = entry.contentBoxSize[0].blockSize;\n",
       "                } else {\n",
       "                    // Firefox implements old version of spec.\n",
       "                    width = entry.contentBoxSize.inlineSize;\n",
       "                    height = entry.contentBoxSize.blockSize;\n",
       "                }\n",
       "            } else {\n",
       "                // Chrome <84 implements even older version of spec.\n",
       "                width = entry.contentRect.width;\n",
       "                height = entry.contentRect.height;\n",
       "            }\n",
       "\n",
       "            // Keep the size of the canvas and rubber band canvas in sync with\n",
       "            // the canvas container.\n",
       "            if (entry.devicePixelContentBoxSize) {\n",
       "                // Chrome 84 implements new version of spec.\n",
       "                canvas.setAttribute(\n",
       "                    'width',\n",
       "                    entry.devicePixelContentBoxSize[0].inlineSize\n",
       "                );\n",
       "                canvas.setAttribute(\n",
       "                    'height',\n",
       "                    entry.devicePixelContentBoxSize[0].blockSize\n",
       "                );\n",
       "            } else {\n",
       "                canvas.setAttribute('width', width * fig.ratio);\n",
       "                canvas.setAttribute('height', height * fig.ratio);\n",
       "            }\n",
       "            canvas.setAttribute(\n",
       "                'style',\n",
       "                'width: ' + width + 'px; height: ' + height + 'px;'\n",
       "            );\n",
       "\n",
       "            rubberband_canvas.setAttribute('width', width);\n",
       "            rubberband_canvas.setAttribute('height', height);\n",
       "\n",
       "            // And update the size in Python. We ignore the initial 0/0 size\n",
       "            // that occurs as the element is placed into the DOM, which should\n",
       "            // otherwise not happen due to the minimum size styling.\n",
       "            if (fig.ws.readyState == 1 && width != 0 && height != 0) {\n",
       "                fig.request_resize(width, height);\n",
       "            }\n",
       "        }\n",
       "    });\n",
       "    this.resizeObserverInstance.observe(canvas_div);\n",
       "\n",
       "    function on_mouse_event_closure(name) {\n",
       "        return function (event) {\n",
       "            return fig.mouse_event(event, name);\n",
       "        };\n",
       "    }\n",
       "\n",
       "    rubberband_canvas.addEventListener(\n",
       "        'mousedown',\n",
       "        on_mouse_event_closure('button_press')\n",
       "    );\n",
       "    rubberband_canvas.addEventListener(\n",
       "        'mouseup',\n",
       "        on_mouse_event_closure('button_release')\n",
       "    );\n",
       "    // Throttle sequential mouse events to 1 every 20ms.\n",
       "    rubberband_canvas.addEventListener(\n",
       "        'mousemove',\n",
       "        on_mouse_event_closure('motion_notify')\n",
       "    );\n",
       "\n",
       "    rubberband_canvas.addEventListener(\n",
       "        'mouseenter',\n",
       "        on_mouse_event_closure('figure_enter')\n",
       "    );\n",
       "    rubberband_canvas.addEventListener(\n",
       "        'mouseleave',\n",
       "        on_mouse_event_closure('figure_leave')\n",
       "    );\n",
       "\n",
       "    canvas_div.addEventListener('wheel', function (event) {\n",
       "        if (event.deltaY < 0) {\n",
       "            event.step = 1;\n",
       "        } else {\n",
       "            event.step = -1;\n",
       "        }\n",
       "        on_mouse_event_closure('scroll')(event);\n",
       "    });\n",
       "\n",
       "    canvas_div.appendChild(canvas);\n",
       "    canvas_div.appendChild(rubberband_canvas);\n",
       "\n",
       "    this.rubberband_context = rubberband_canvas.getContext('2d');\n",
       "    this.rubberband_context.strokeStyle = '#000000';\n",
       "\n",
       "    this._resize_canvas = function (width, height, forward) {\n",
       "        if (forward) {\n",
       "            canvas_div.style.width = width + 'px';\n",
       "            canvas_div.style.height = height + 'px';\n",
       "        }\n",
       "    };\n",
       "\n",
       "    // Disable right mouse context menu.\n",
       "    this.rubberband_canvas.addEventListener('contextmenu', function (_e) {\n",
       "        event.preventDefault();\n",
       "        return false;\n",
       "    });\n",
       "\n",
       "    function set_focus() {\n",
       "        canvas.focus();\n",
       "        canvas_div.focus();\n",
       "    }\n",
       "\n",
       "    window.setTimeout(set_focus, 100);\n",
       "};\n",
       "\n",
       "mpl.figure.prototype._init_toolbar = function () {\n",
       "    var fig = this;\n",
       "\n",
       "    var toolbar = document.createElement('div');\n",
       "    toolbar.classList = 'mpl-toolbar';\n",
       "    this.root.appendChild(toolbar);\n",
       "\n",
       "    function on_click_closure(name) {\n",
       "        return function (_event) {\n",
       "            return fig.toolbar_button_onclick(name);\n",
       "        };\n",
       "    }\n",
       "\n",
       "    function on_mouseover_closure(tooltip) {\n",
       "        return function (event) {\n",
       "            if (!event.currentTarget.disabled) {\n",
       "                return fig.toolbar_button_onmouseover(tooltip);\n",
       "            }\n",
       "        };\n",
       "    }\n",
       "\n",
       "    fig.buttons = {};\n",
       "    var buttonGroup = document.createElement('div');\n",
       "    buttonGroup.classList = 'mpl-button-group';\n",
       "    for (var toolbar_ind in mpl.toolbar_items) {\n",
       "        var name = mpl.toolbar_items[toolbar_ind][0];\n",
       "        var tooltip = mpl.toolbar_items[toolbar_ind][1];\n",
       "        var image = mpl.toolbar_items[toolbar_ind][2];\n",
       "        var method_name = mpl.toolbar_items[toolbar_ind][3];\n",
       "\n",
       "        if (!name) {\n",
       "            /* Instead of a spacer, we start a new button group. */\n",
       "            if (buttonGroup.hasChildNodes()) {\n",
       "                toolbar.appendChild(buttonGroup);\n",
       "            }\n",
       "            buttonGroup = document.createElement('div');\n",
       "            buttonGroup.classList = 'mpl-button-group';\n",
       "            continue;\n",
       "        }\n",
       "\n",
       "        var button = (fig.buttons[name] = document.createElement('button'));\n",
       "        button.classList = 'mpl-widget';\n",
       "        button.setAttribute('role', 'button');\n",
       "        button.setAttribute('aria-disabled', 'false');\n",
       "        button.addEventListener('click', on_click_closure(method_name));\n",
       "        button.addEventListener('mouseover', on_mouseover_closure(tooltip));\n",
       "\n",
       "        var icon_img = document.createElement('img');\n",
       "        icon_img.src = '_images/' + image + '.png';\n",
       "        icon_img.srcset = '_images/' + image + '_large.png 2x';\n",
       "        icon_img.alt = tooltip;\n",
       "        button.appendChild(icon_img);\n",
       "\n",
       "        buttonGroup.appendChild(button);\n",
       "    }\n",
       "\n",
       "    if (buttonGroup.hasChildNodes()) {\n",
       "        toolbar.appendChild(buttonGroup);\n",
       "    }\n",
       "\n",
       "    var fmt_picker = document.createElement('select');\n",
       "    fmt_picker.classList = 'mpl-widget';\n",
       "    toolbar.appendChild(fmt_picker);\n",
       "    this.format_dropdown = fmt_picker;\n",
       "\n",
       "    for (var ind in mpl.extensions) {\n",
       "        var fmt = mpl.extensions[ind];\n",
       "        var option = document.createElement('option');\n",
       "        option.selected = fmt === mpl.default_extension;\n",
       "        option.innerHTML = fmt;\n",
       "        fmt_picker.appendChild(option);\n",
       "    }\n",
       "\n",
       "    var status_bar = document.createElement('span');\n",
       "    status_bar.classList = 'mpl-message';\n",
       "    toolbar.appendChild(status_bar);\n",
       "    this.message = status_bar;\n",
       "};\n",
       "\n",
       "mpl.figure.prototype.request_resize = function (x_pixels, y_pixels) {\n",
       "    // Request matplotlib to resize the figure. Matplotlib will then trigger a resize in the client,\n",
       "    // which will in turn request a refresh of the image.\n",
       "    this.send_message('resize', { width: x_pixels, height: y_pixels });\n",
       "};\n",
       "\n",
       "mpl.figure.prototype.send_message = function (type, properties) {\n",
       "    properties['type'] = type;\n",
       "    properties['figure_id'] = this.id;\n",
       "    this.ws.send(JSON.stringify(properties));\n",
       "};\n",
       "\n",
       "mpl.figure.prototype.send_draw_message = function () {\n",
       "    if (!this.waiting) {\n",
       "        this.waiting = true;\n",
       "        this.ws.send(JSON.stringify({ type: 'draw', figure_id: this.id }));\n",
       "    }\n",
       "};\n",
       "\n",
       "mpl.figure.prototype.handle_save = function (fig, _msg) {\n",
       "    var format_dropdown = fig.format_dropdown;\n",
       "    var format = format_dropdown.options[format_dropdown.selectedIndex].value;\n",
       "    fig.ondownload(fig, format);\n",
       "};\n",
       "\n",
       "mpl.figure.prototype.handle_resize = function (fig, msg) {\n",
       "    var size = msg['size'];\n",
       "    if (size[0] !== fig.canvas.width || size[1] !== fig.canvas.height) {\n",
       "        fig._resize_canvas(size[0], size[1], msg['forward']);\n",
       "        fig.send_message('refresh', {});\n",
       "    }\n",
       "};\n",
       "\n",
       "mpl.figure.prototype.handle_rubberband = function (fig, msg) {\n",
       "    var x0 = msg['x0'] / fig.ratio;\n",
       "    var y0 = (fig.canvas.height - msg['y0']) / fig.ratio;\n",
       "    var x1 = msg['x1'] / fig.ratio;\n",
       "    var y1 = (fig.canvas.height - msg['y1']) / fig.ratio;\n",
       "    x0 = Math.floor(x0) + 0.5;\n",
       "    y0 = Math.floor(y0) + 0.5;\n",
       "    x1 = Math.floor(x1) + 0.5;\n",
       "    y1 = Math.floor(y1) + 0.5;\n",
       "    var min_x = Math.min(x0, x1);\n",
       "    var min_y = Math.min(y0, y1);\n",
       "    var width = Math.abs(x1 - x0);\n",
       "    var height = Math.abs(y1 - y0);\n",
       "\n",
       "    fig.rubberband_context.clearRect(\n",
       "        0,\n",
       "        0,\n",
       "        fig.canvas.width / fig.ratio,\n",
       "        fig.canvas.height / fig.ratio\n",
       "    );\n",
       "\n",
       "    fig.rubberband_context.strokeRect(min_x, min_y, width, height);\n",
       "};\n",
       "\n",
       "mpl.figure.prototype.handle_figure_label = function (fig, msg) {\n",
       "    // Updates the figure title.\n",
       "    fig.header.textContent = msg['label'];\n",
       "};\n",
       "\n",
       "mpl.figure.prototype.handle_cursor = function (fig, msg) {\n",
       "    var cursor = msg['cursor'];\n",
       "    switch (cursor) {\n",
       "        case 0:\n",
       "            cursor = 'pointer';\n",
       "            break;\n",
       "        case 1:\n",
       "            cursor = 'default';\n",
       "            break;\n",
       "        case 2:\n",
       "            cursor = 'crosshair';\n",
       "            break;\n",
       "        case 3:\n",
       "            cursor = 'move';\n",
       "            break;\n",
       "    }\n",
       "    fig.rubberband_canvas.style.cursor = cursor;\n",
       "};\n",
       "\n",
       "mpl.figure.prototype.handle_message = function (fig, msg) {\n",
       "    fig.message.textContent = msg['message'];\n",
       "};\n",
       "\n",
       "mpl.figure.prototype.handle_draw = function (fig, _msg) {\n",
       "    // Request the server to send over a new figure.\n",
       "    fig.send_draw_message();\n",
       "};\n",
       "\n",
       "mpl.figure.prototype.handle_image_mode = function (fig, msg) {\n",
       "    fig.image_mode = msg['mode'];\n",
       "};\n",
       "\n",
       "mpl.figure.prototype.handle_history_buttons = function (fig, msg) {\n",
       "    for (var key in msg) {\n",
       "        if (!(key in fig.buttons)) {\n",
       "            continue;\n",
       "        }\n",
       "        fig.buttons[key].disabled = !msg[key];\n",
       "        fig.buttons[key].setAttribute('aria-disabled', !msg[key]);\n",
       "    }\n",
       "};\n",
       "\n",
       "mpl.figure.prototype.handle_navigate_mode = function (fig, msg) {\n",
       "    if (msg['mode'] === 'PAN') {\n",
       "        fig.buttons['Pan'].classList.add('active');\n",
       "        fig.buttons['Zoom'].classList.remove('active');\n",
       "    } else if (msg['mode'] === 'ZOOM') {\n",
       "        fig.buttons['Pan'].classList.remove('active');\n",
       "        fig.buttons['Zoom'].classList.add('active');\n",
       "    } else {\n",
       "        fig.buttons['Pan'].classList.remove('active');\n",
       "        fig.buttons['Zoom'].classList.remove('active');\n",
       "    }\n",
       "};\n",
       "\n",
       "mpl.figure.prototype.updated_canvas_event = function () {\n",
       "    // Called whenever the canvas gets updated.\n",
       "    this.send_message('ack', {});\n",
       "};\n",
       "\n",
       "// A function to construct a web socket function for onmessage handling.\n",
       "// Called in the figure constructor.\n",
       "mpl.figure.prototype._make_on_message_function = function (fig) {\n",
       "    return function socket_on_message(evt) {\n",
       "        if (evt.data instanceof Blob) {\n",
       "            /* FIXME: We get \"Resource interpreted as Image but\n",
       "             * transferred with MIME type text/plain:\" errors on\n",
       "             * Chrome.  But how to set the MIME type?  It doesn't seem\n",
       "             * to be part of the websocket stream */\n",
       "            evt.data.type = 'image/png';\n",
       "\n",
       "            /* Free the memory for the previous frames */\n",
       "            if (fig.imageObj.src) {\n",
       "                (window.URL || window.webkitURL).revokeObjectURL(\n",
       "                    fig.imageObj.src\n",
       "                );\n",
       "            }\n",
       "\n",
       "            fig.imageObj.src = (window.URL || window.webkitURL).createObjectURL(\n",
       "                evt.data\n",
       "            );\n",
       "            fig.updated_canvas_event();\n",
       "            fig.waiting = false;\n",
       "            return;\n",
       "        } else if (\n",
       "            typeof evt.data === 'string' &&\n",
       "            evt.data.slice(0, 21) === 'data:image/png;base64'\n",
       "        ) {\n",
       "            fig.imageObj.src = evt.data;\n",
       "            fig.updated_canvas_event();\n",
       "            fig.waiting = false;\n",
       "            return;\n",
       "        }\n",
       "\n",
       "        var msg = JSON.parse(evt.data);\n",
       "        var msg_type = msg['type'];\n",
       "\n",
       "        // Call the  \"handle_{type}\" callback, which takes\n",
       "        // the figure and JSON message as its only arguments.\n",
       "        try {\n",
       "            var callback = fig['handle_' + msg_type];\n",
       "        } catch (e) {\n",
       "            console.log(\n",
       "                \"No handler for the '\" + msg_type + \"' message type: \",\n",
       "                msg\n",
       "            );\n",
       "            return;\n",
       "        }\n",
       "\n",
       "        if (callback) {\n",
       "            try {\n",
       "                // console.log(\"Handling '\" + msg_type + \"' message: \", msg);\n",
       "                callback(fig, msg);\n",
       "            } catch (e) {\n",
       "                console.log(\n",
       "                    \"Exception inside the 'handler_\" + msg_type + \"' callback:\",\n",
       "                    e,\n",
       "                    e.stack,\n",
       "                    msg\n",
       "                );\n",
       "            }\n",
       "        }\n",
       "    };\n",
       "};\n",
       "\n",
       "// from http://stackoverflow.com/questions/1114465/getting-mouse-location-in-canvas\n",
       "mpl.findpos = function (e) {\n",
       "    //this section is from http://www.quirksmode.org/js/events_properties.html\n",
       "    var targ;\n",
       "    if (!e) {\n",
       "        e = window.event;\n",
       "    }\n",
       "    if (e.target) {\n",
       "        targ = e.target;\n",
       "    } else if (e.srcElement) {\n",
       "        targ = e.srcElement;\n",
       "    }\n",
       "    if (targ.nodeType === 3) {\n",
       "        // defeat Safari bug\n",
       "        targ = targ.parentNode;\n",
       "    }\n",
       "\n",
       "    // pageX,Y are the mouse positions relative to the document\n",
       "    var boundingRect = targ.getBoundingClientRect();\n",
       "    var x = e.pageX - (boundingRect.left + document.body.scrollLeft);\n",
       "    var y = e.pageY - (boundingRect.top + document.body.scrollTop);\n",
       "\n",
       "    return { x: x, y: y };\n",
       "};\n",
       "\n",
       "/*\n",
       " * return a copy of an object with only non-object keys\n",
       " * we need this to avoid circular references\n",
       " * http://stackoverflow.com/a/24161582/3208463\n",
       " */\n",
       "function simpleKeys(original) {\n",
       "    return Object.keys(original).reduce(function (obj, key) {\n",
       "        if (typeof original[key] !== 'object') {\n",
       "            obj[key] = original[key];\n",
       "        }\n",
       "        return obj;\n",
       "    }, {});\n",
       "}\n",
       "\n",
       "mpl.figure.prototype.mouse_event = function (event, name) {\n",
       "    var canvas_pos = mpl.findpos(event);\n",
       "\n",
       "    if (name === 'button_press') {\n",
       "        this.canvas.focus();\n",
       "        this.canvas_div.focus();\n",
       "    }\n",
       "\n",
       "    var x = canvas_pos.x * this.ratio;\n",
       "    var y = canvas_pos.y * this.ratio;\n",
       "\n",
       "    this.send_message(name, {\n",
       "        x: x,\n",
       "        y: y,\n",
       "        button: event.button,\n",
       "        step: event.step,\n",
       "        guiEvent: simpleKeys(event),\n",
       "    });\n",
       "\n",
       "    /* This prevents the web browser from automatically changing to\n",
       "     * the text insertion cursor when the button is pressed.  We want\n",
       "     * to control all of the cursor setting manually through the\n",
       "     * 'cursor' event from matplotlib */\n",
       "    event.preventDefault();\n",
       "    return false;\n",
       "};\n",
       "\n",
       "mpl.figure.prototype._key_event_extra = function (_event, _name) {\n",
       "    // Handle any extra behaviour associated with a key event\n",
       "};\n",
       "\n",
       "mpl.figure.prototype.key_event = function (event, name) {\n",
       "    // Prevent repeat events\n",
       "    if (name === 'key_press') {\n",
       "        if (event.which === this._key) {\n",
       "            return;\n",
       "        } else {\n",
       "            this._key = event.which;\n",
       "        }\n",
       "    }\n",
       "    if (name === 'key_release') {\n",
       "        this._key = null;\n",
       "    }\n",
       "\n",
       "    var value = '';\n",
       "    if (event.ctrlKey && event.which !== 17) {\n",
       "        value += 'ctrl+';\n",
       "    }\n",
       "    if (event.altKey && event.which !== 18) {\n",
       "        value += 'alt+';\n",
       "    }\n",
       "    if (event.shiftKey && event.which !== 16) {\n",
       "        value += 'shift+';\n",
       "    }\n",
       "\n",
       "    value += 'k';\n",
       "    value += event.which.toString();\n",
       "\n",
       "    this._key_event_extra(event, name);\n",
       "\n",
       "    this.send_message(name, { key: value, guiEvent: simpleKeys(event) });\n",
       "    return false;\n",
       "};\n",
       "\n",
       "mpl.figure.prototype.toolbar_button_onclick = function (name) {\n",
       "    if (name === 'download') {\n",
       "        this.handle_save(this, null);\n",
       "    } else {\n",
       "        this.send_message('toolbar_button', { name: name });\n",
       "    }\n",
       "};\n",
       "\n",
       "mpl.figure.prototype.toolbar_button_onmouseover = function (tooltip) {\n",
       "    this.message.textContent = tooltip;\n",
       "};\n",
       "\n",
       "///////////////// REMAINING CONTENT GENERATED BY embed_js.py /////////////////\n",
       "// prettier-ignore\n",
       "var _JSXTOOLS_RESIZE_OBSERVER=function(A){var t,i=new WeakMap,n=new WeakMap,a=new WeakMap,r=new WeakMap,o=new Set;function s(e){if(!(this instanceof s))throw new TypeError(\"Constructor requires 'new' operator\");i.set(this,e)}function h(){throw new TypeError(\"Function is not a constructor\")}function c(e,t,i,n){e=0 in arguments?Number(arguments[0]):0,t=1 in arguments?Number(arguments[1]):0,i=2 in arguments?Number(arguments[2]):0,n=3 in arguments?Number(arguments[3]):0,this.right=(this.x=this.left=e)+(this.width=i),this.bottom=(this.y=this.top=t)+(this.height=n),Object.freeze(this)}function d(){t=requestAnimationFrame(d);var s=new WeakMap,p=new Set;o.forEach((function(t){r.get(t).forEach((function(i){var r=t instanceof window.SVGElement,o=a.get(t),d=r?0:parseFloat(o.paddingTop),f=r?0:parseFloat(o.paddingRight),l=r?0:parseFloat(o.paddingBottom),u=r?0:parseFloat(o.paddingLeft),g=r?0:parseFloat(o.borderTopWidth),m=r?0:parseFloat(o.borderRightWidth),w=r?0:parseFloat(o.borderBottomWidth),b=u+f,F=d+l,v=(r?0:parseFloat(o.borderLeftWidth))+m,W=g+w,y=r?0:t.offsetHeight-W-t.clientHeight,E=r?0:t.offsetWidth-v-t.clientWidth,R=b+v,z=F+W,M=r?t.width:parseFloat(o.width)-R-E,O=r?t.height:parseFloat(o.height)-z-y;if(n.has(t)){var k=n.get(t);if(k[0]===M&&k[1]===O)return}n.set(t,[M,O]);var S=Object.create(h.prototype);S.target=t,S.contentRect=new c(u,d,M,O),s.has(i)||(s.set(i,[]),p.add(i)),s.get(i).push(S)}))})),p.forEach((function(e){i.get(e).call(e,s.get(e),e)}))}return s.prototype.observe=function(i){if(i instanceof window.Element){r.has(i)||(r.set(i,new Set),o.add(i),a.set(i,window.getComputedStyle(i)));var n=r.get(i);n.has(this)||n.add(this),cancelAnimationFrame(t),t=requestAnimationFrame(d)}},s.prototype.unobserve=function(i){if(i instanceof window.Element&&r.has(i)){var n=r.get(i);n.has(this)&&(n.delete(this),n.size||(r.delete(i),o.delete(i))),n.size||r.delete(i),o.size||cancelAnimationFrame(t)}},A.DOMRectReadOnly=c,A.ResizeObserver=s,A.ResizeObserverEntry=h,A}; // eslint-disable-line\n",
       "mpl.toolbar_items = [[\"Home\", \"Reset original view\", \"fa fa-home icon-home\", \"home\"], [\"Back\", \"Back to previous view\", \"fa fa-arrow-left icon-arrow-left\", \"back\"], [\"Forward\", \"Forward to next view\", \"fa fa-arrow-right icon-arrow-right\", \"forward\"], [\"\", \"\", \"\", \"\"], [\"Pan\", \"Left button pans, Right button zooms\\nx/y fixes axis, CTRL fixes aspect\", \"fa fa-arrows icon-move\", \"pan\"], [\"Zoom\", \"Zoom to rectangle\\nx/y fixes axis, CTRL fixes aspect\", \"fa fa-square-o icon-check-empty\", \"zoom\"], [\"\", \"\", \"\", \"\"], [\"Download\", \"Download plot\", \"fa fa-floppy-o icon-save\", \"download\"]];\n",
       "\n",
       "mpl.extensions = [\"eps\", \"jpeg\", \"pdf\", \"png\", \"ps\", \"raw\", \"svg\", \"tif\"];\n",
       "\n",
       "mpl.default_extension = \"png\";/* global mpl */\n",
       "\n",
       "var comm_websocket_adapter = function (comm) {\n",
       "    // Create a \"websocket\"-like object which calls the given IPython comm\n",
       "    // object with the appropriate methods. Currently this is a non binary\n",
       "    // socket, so there is still some room for performance tuning.\n",
       "    var ws = {};\n",
       "\n",
       "    ws.close = function () {\n",
       "        comm.close();\n",
       "    };\n",
       "    ws.send = function (m) {\n",
       "        //console.log('sending', m);\n",
       "        comm.send(m);\n",
       "    };\n",
       "    // Register the callback with on_msg.\n",
       "    comm.on_msg(function (msg) {\n",
       "        //console.log('receiving', msg['content']['data'], msg);\n",
       "        // Pass the mpl event to the overridden (by mpl) onmessage function.\n",
       "        ws.onmessage(msg['content']['data']);\n",
       "    });\n",
       "    return ws;\n",
       "};\n",
       "\n",
       "mpl.mpl_figure_comm = function (comm, msg) {\n",
       "    // This is the function which gets called when the mpl process\n",
       "    // starts-up an IPython Comm through the \"matplotlib\" channel.\n",
       "\n",
       "    var id = msg.content.data.id;\n",
       "    // Get hold of the div created by the display call when the Comm\n",
       "    // socket was opened in Python.\n",
       "    var element = document.getElementById(id);\n",
       "    var ws_proxy = comm_websocket_adapter(comm);\n",
       "\n",
       "    function ondownload(figure, _format) {\n",
       "        window.open(figure.canvas.toDataURL());\n",
       "    }\n",
       "\n",
       "    var fig = new mpl.figure(id, ws_proxy, ondownload, element);\n",
       "\n",
       "    // Call onopen now - mpl needs it, as it is assuming we've passed it a real\n",
       "    // web socket which is closed, not our websocket->open comm proxy.\n",
       "    ws_proxy.onopen();\n",
       "\n",
       "    fig.parent_element = element;\n",
       "    fig.cell_info = mpl.find_output_cell(\"<div id='\" + id + \"'></div>\");\n",
       "    if (!fig.cell_info) {\n",
       "        console.error('Failed to find cell for figure', id, fig);\n",
       "        return;\n",
       "    }\n",
       "    fig.cell_info[0].output_area.element.on(\n",
       "        'cleared',\n",
       "        { fig: fig },\n",
       "        fig._remove_fig_handler\n",
       "    );\n",
       "};\n",
       "\n",
       "mpl.figure.prototype.handle_close = function (fig, msg) {\n",
       "    var width = fig.canvas.width / fig.ratio;\n",
       "    fig.cell_info[0].output_area.element.off(\n",
       "        'cleared',\n",
       "        fig._remove_fig_handler\n",
       "    );\n",
       "    fig.resizeObserverInstance.unobserve(fig.canvas_div);\n",
       "\n",
       "    // Update the output cell to use the data from the current canvas.\n",
       "    fig.push_to_output();\n",
       "    var dataURL = fig.canvas.toDataURL();\n",
       "    // Re-enable the keyboard manager in IPython - without this line, in FF,\n",
       "    // the notebook keyboard shortcuts fail.\n",
       "    IPython.keyboard_manager.enable();\n",
       "    fig.parent_element.innerHTML =\n",
       "        '<img src=\"' + dataURL + '\" width=\"' + width + '\">';\n",
       "    fig.close_ws(fig, msg);\n",
       "};\n",
       "\n",
       "mpl.figure.prototype.close_ws = function (fig, msg) {\n",
       "    fig.send_message('closing', msg);\n",
       "    // fig.ws.close()\n",
       "};\n",
       "\n",
       "mpl.figure.prototype.push_to_output = function (_remove_interactive) {\n",
       "    // Turn the data on the canvas into data in the output cell.\n",
       "    var width = this.canvas.width / this.ratio;\n",
       "    var dataURL = this.canvas.toDataURL();\n",
       "    this.cell_info[1]['text/html'] =\n",
       "        '<img src=\"' + dataURL + '\" width=\"' + width + '\">';\n",
       "};\n",
       "\n",
       "mpl.figure.prototype.updated_canvas_event = function () {\n",
       "    // Tell IPython that the notebook contents must change.\n",
       "    IPython.notebook.set_dirty(true);\n",
       "    this.send_message('ack', {});\n",
       "    var fig = this;\n",
       "    // Wait a second, then push the new image to the DOM so\n",
       "    // that it is saved nicely (might be nice to debounce this).\n",
       "    setTimeout(function () {\n",
       "        fig.push_to_output();\n",
       "    }, 1000);\n",
       "};\n",
       "\n",
       "mpl.figure.prototype._init_toolbar = function () {\n",
       "    var fig = this;\n",
       "\n",
       "    var toolbar = document.createElement('div');\n",
       "    toolbar.classList = 'btn-toolbar';\n",
       "    this.root.appendChild(toolbar);\n",
       "\n",
       "    function on_click_closure(name) {\n",
       "        return function (_event) {\n",
       "            return fig.toolbar_button_onclick(name);\n",
       "        };\n",
       "    }\n",
       "\n",
       "    function on_mouseover_closure(tooltip) {\n",
       "        return function (event) {\n",
       "            if (!event.currentTarget.disabled) {\n",
       "                return fig.toolbar_button_onmouseover(tooltip);\n",
       "            }\n",
       "        };\n",
       "    }\n",
       "\n",
       "    fig.buttons = {};\n",
       "    var buttonGroup = document.createElement('div');\n",
       "    buttonGroup.classList = 'btn-group';\n",
       "    var button;\n",
       "    for (var toolbar_ind in mpl.toolbar_items) {\n",
       "        var name = mpl.toolbar_items[toolbar_ind][0];\n",
       "        var tooltip = mpl.toolbar_items[toolbar_ind][1];\n",
       "        var image = mpl.toolbar_items[toolbar_ind][2];\n",
       "        var method_name = mpl.toolbar_items[toolbar_ind][3];\n",
       "\n",
       "        if (!name) {\n",
       "            /* Instead of a spacer, we start a new button group. */\n",
       "            if (buttonGroup.hasChildNodes()) {\n",
       "                toolbar.appendChild(buttonGroup);\n",
       "            }\n",
       "            buttonGroup = document.createElement('div');\n",
       "            buttonGroup.classList = 'btn-group';\n",
       "            continue;\n",
       "        }\n",
       "\n",
       "        button = fig.buttons[name] = document.createElement('button');\n",
       "        button.classList = 'btn btn-default';\n",
       "        button.href = '#';\n",
       "        button.title = name;\n",
       "        button.innerHTML = '<i class=\"fa ' + image + ' fa-lg\"></i>';\n",
       "        button.addEventListener('click', on_click_closure(method_name));\n",
       "        button.addEventListener('mouseover', on_mouseover_closure(tooltip));\n",
       "        buttonGroup.appendChild(button);\n",
       "    }\n",
       "\n",
       "    if (buttonGroup.hasChildNodes()) {\n",
       "        toolbar.appendChild(buttonGroup);\n",
       "    }\n",
       "\n",
       "    // Add the status bar.\n",
       "    var status_bar = document.createElement('span');\n",
       "    status_bar.classList = 'mpl-message pull-right';\n",
       "    toolbar.appendChild(status_bar);\n",
       "    this.message = status_bar;\n",
       "\n",
       "    // Add the close button to the window.\n",
       "    var buttongrp = document.createElement('div');\n",
       "    buttongrp.classList = 'btn-group inline pull-right';\n",
       "    button = document.createElement('button');\n",
       "    button.classList = 'btn btn-mini btn-primary';\n",
       "    button.href = '#';\n",
       "    button.title = 'Stop Interaction';\n",
       "    button.innerHTML = '<i class=\"fa fa-power-off icon-remove icon-large\"></i>';\n",
       "    button.addEventListener('click', function (_evt) {\n",
       "        fig.handle_close(fig, {});\n",
       "    });\n",
       "    button.addEventListener(\n",
       "        'mouseover',\n",
       "        on_mouseover_closure('Stop Interaction')\n",
       "    );\n",
       "    buttongrp.appendChild(button);\n",
       "    var titlebar = this.root.querySelector('.ui-dialog-titlebar');\n",
       "    titlebar.insertBefore(buttongrp, titlebar.firstChild);\n",
       "};\n",
       "\n",
       "mpl.figure.prototype._remove_fig_handler = function (event) {\n",
       "    var fig = event.data.fig;\n",
       "    if (event.target !== this) {\n",
       "        // Ignore bubbled events from children.\n",
       "        return;\n",
       "    }\n",
       "    fig.close_ws(fig, {});\n",
       "};\n",
       "\n",
       "mpl.figure.prototype._root_extra_style = function (el) {\n",
       "    el.style.boxSizing = 'content-box'; // override notebook setting of border-box.\n",
       "};\n",
       "\n",
       "mpl.figure.prototype._canvas_extra_style = function (el) {\n",
       "    // this is important to make the div 'focusable\n",
       "    el.setAttribute('tabindex', 0);\n",
       "    // reach out to IPython and tell the keyboard manager to turn it's self\n",
       "    // off when our div gets focus\n",
       "\n",
       "    // location in version 3\n",
       "    if (IPython.notebook.keyboard_manager) {\n",
       "        IPython.notebook.keyboard_manager.register_events(el);\n",
       "    } else {\n",
       "        // location in version 2\n",
       "        IPython.keyboard_manager.register_events(el);\n",
       "    }\n",
       "};\n",
       "\n",
       "mpl.figure.prototype._key_event_extra = function (event, _name) {\n",
       "    var manager = IPython.notebook.keyboard_manager;\n",
       "    if (!manager) {\n",
       "        manager = IPython.keyboard_manager;\n",
       "    }\n",
       "\n",
       "    // Check for shift+enter\n",
       "    if (event.shiftKey && event.which === 13) {\n",
       "        this.canvas_div.blur();\n",
       "        // select the cell after this one\n",
       "        var index = IPython.notebook.find_cell_index(this.cell_info[0]);\n",
       "        IPython.notebook.select(index + 1);\n",
       "    }\n",
       "};\n",
       "\n",
       "mpl.figure.prototype.handle_save = function (fig, _msg) {\n",
       "    fig.ondownload(fig, null);\n",
       "};\n",
       "\n",
       "mpl.find_output_cell = function (html_output) {\n",
       "    // Return the cell and output element which can be found *uniquely* in the notebook.\n",
       "    // Note - this is a bit hacky, but it is done because the \"notebook_saving.Notebook\"\n",
       "    // IPython event is triggered only after the cells have been serialised, which for\n",
       "    // our purposes (turning an active figure into a static one), is too late.\n",
       "    var cells = IPython.notebook.get_cells();\n",
       "    var ncells = cells.length;\n",
       "    for (var i = 0; i < ncells; i++) {\n",
       "        var cell = cells[i];\n",
       "        if (cell.cell_type === 'code') {\n",
       "            for (var j = 0; j < cell.output_area.outputs.length; j++) {\n",
       "                var data = cell.output_area.outputs[j];\n",
       "                if (data.data) {\n",
       "                    // IPython >= 3 moved mimebundle to data attribute of output\n",
       "                    data = data.data;\n",
       "                }\n",
       "                if (data['text/html'] === html_output) {\n",
       "                    return [cell, data, j];\n",
       "                }\n",
       "            }\n",
       "        }\n",
       "    }\n",
       "};\n",
       "\n",
       "// Register the function which deals with the matplotlib target/channel.\n",
       "// The kernel may be null if the page has been refreshed.\n",
       "if (IPython.notebook.kernel !== null) {\n",
       "    IPython.notebook.kernel.comm_manager.register_target(\n",
       "        'matplotlib',\n",
       "        mpl.mpl_figure_comm\n",
       "    );\n",
       "}\n"
      ],
      "text/plain": [
       "<IPython.core.display.Javascript object>"
      ]
     },
     "metadata": {},
     "output_type": "display_data"
    },
    {
     "data": {
      "text/html": [
       "<img src=\"data:image/png;base64,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\" width=\"640\">"
      ],
      "text/plain": [
       "<IPython.core.display.HTML object>"
      ]
     },
     "metadata": {},
     "output_type": "display_data"
    }
   ],
   "source": [
    "lam = -0.5\n",
    "tt, y = euler_solve(lam, u0=1.0, T=5, dt=0.1/abs(lam))\n",
    "plt.plot(tt, y, 'o--', label='numeric solution')\n",
    "plt.plot(tt, np.exp(lam*tt), '-', lw=2, label='ground truth')\n",
    "plt.legend(loc='best')\n",
    "plt.grid(True)"
   ]
  },
  {
   "cell_type": "markdown",
   "id": "6248c08f",
   "metadata": {
    "deletable": false,
    "editable": false,
    "id": "SV8GxFO1LLrG",
    "nbgrader": {
     "cell_type": "markdown",
     "checksum": "e2013ac761a56bb0a3b8ac058b5eb0e8",
     "grade": false,
     "grade_id": "cell-280070433659bcea",
     "locked": true,
     "schema_version": 3,
     "solution": false,
     "task": false
    }
   },
   "source": [
    "Теперь попробуем задать значение шага $\\tau$ (в коде это `dt`) такое, что $|\\lambda| \\tau > 1$."
   ]
  },
  {
   "cell_type": "code",
   "execution_count": 4,
   "id": "f645d5b9",
   "metadata": {
    "colab": {
     "base_uri": "https://localhost:8080/",
     "height": 265
    },
    "deletable": false,
    "editable": false,
    "id": "Cv48WZNLLLrH",
    "nbgrader": {
     "cell_type": "code",
     "checksum": "bdfe2833ec47c75cb0d3aab02790abf1",
     "grade": false,
     "grade_id": "cell-a4b2a8664c051974",
     "locked": true,
     "schema_version": 3,
     "solution": false,
     "task": false
    },
    "outputId": "82ca4dd3-cae8-429f-8fc5-889f0de3014e"
   },
   "outputs": [],
   "source": [
    "lam = -0.5\n",
    "tt, y = euler_solve(lam, u0=1.0, T=12/abs(lam), dt=2.1/abs(lam))\n",
    "plt.plot(tt, y, 'o--', label='numeric solution')\n",
    "plt.plot(tt, np.exp(lam*tt), '-', lw=2, label='ground truth')\n",
    "plt.legend(loc='best')\n",
    "plt.grid(True)"
   ]
  },
  {
   "cell_type": "markdown",
   "id": "efaf781f",
   "metadata": {
    "id": "9cV5JIStOVwg"
   },
   "source": [
    "## Задание 1. Неявный метод Эйлера."
   ]
  },
  {
   "cell_type": "markdown",
   "id": "cb5c8a59",
   "metadata": {
    "id": "zcxibCjxOdT3"
   },
   "source": [
    "Решите то же самое уравнение $$d u / d t=\\lambda u, $$\n",
    " используя невную схему Эйлера. Сравните поведение неявной и явной схем Эйлера.  Постройте решение для нескольких значений шага интегрирования, опишите поведение решения при $\\lambda\\tau > 2$. \n"
   ]
  },
  {
   "cell_type": "code",
   "execution_count": null,
   "id": "aea08b79",
   "metadata": {
    "id": "j8ttQQLfPTUn"
   },
   "outputs": [],
   "source": [
    "def implicit_euler_solve(lam, u0, T, dt):\n",
    "    \"\"\"Решает du/dt = lambda u на 0 < t < T с u(t=0) = u0 при помощи неявного метода Эйлера.\"\"\"\n",
    "\n",
    "    # YOUR CODE HERE\n",
    "    raise NotImplementedError()"
   ]
  },
  {
   "cell_type": "code",
   "execution_count": null,
   "id": "fef6d2db",
   "metadata": {
    "id": "3ChO1xGnPm6P"
   },
   "outputs": [],
   "source": [
    "# Нарисовать графики с разными значениями шага, и отдельно при lambda*tau > 2.\n",
    " \n",
    "lam = -0.5\n",
    "tt, y = implicit_euler_solve(lam, u0=1.0, T=8/abs(lam), dt=2.1/abs(lam))\n",
    "plt.plot(tt, y, 'o--', label='numeric solution')\n",
    "plt.plot(tt, np.exp(lam*tt), '-', lw=2, label='ground truth')\n",
    "plt.legend(loc='best')\n",
    "plt.grid(True)"
   ]
  },
  {
   "cell_type": "code",
   "execution_count": null,
   "id": "9ab596e8",
   "metadata": {
    "id": "LapDW2l9QABh"
   },
   "outputs": [],
   "source": [
    "# Для тестирования\n",
    "\n",
    "lam = -0.5\n",
    "tt, y = implicit_euler_solve(lam, u0=1.0, T=8/abs(lam), dt=2.1/abs(lam))\n",
    "\n",
    "assert (y > 0).all()"
   ]
  },
  {
   "cell_type": "markdown",
   "id": "ec5ab731",
   "metadata": {
    "deletable": false,
    "editable": false,
    "id": "u3Ng1TtKLLrJ",
    "nbgrader": {
     "cell_type": "markdown",
     "checksum": "e44aa4b10f2111e0620f93ad869b98eb",
     "grade": false,
     "grade_id": "cell-a1337f0a879c5260",
     "locked": true,
     "schema_version": 3,
     "solution": false,
     "task": false
    }
   },
   "source": [
    "## II. Системы линейных уравнений"
   ]
  },
  {
   "cell_type": "markdown",
   "id": "4161b79e",
   "metadata": {
    "deletable": false,
    "editable": false,
    "id": "GPA7RUE8LLrJ",
    "nbgrader": {
     "cell_type": "markdown",
     "checksum": "a8f61353cf70b80bb68dd39984b61b88",
     "grade": false,
     "grade_id": "cell-8d6421cfcbcc65e7",
     "locked": true,
     "schema_version": 3,
     "solution": false,
     "task": false
    }
   },
   "source": [
    "Рассмотрим систему двух уравнений первого порядка.\n",
    "\n",
    "$$\n",
    "\\frac{d \\mathbf{u} }{d t} = A \\mathbf{u}\n",
    "$$\n",
    "\n",
    "где $\\mathbf{u}$ есть вектор длины 2, $A = \\mathrm{const}$ - заданная матрица 2$\\times$2.\n"
   ]
  },
  {
   "cell_type": "markdown",
   "id": "ae1fdc99",
   "metadata": {
    "id": "FenE3bX8Q_tg"
   },
   "source": [
    "## Задание 2. Сравнение явной схемы Эйлера и матричной экспоненты."
   ]
  },
  {
   "cell_type": "markdown",
   "id": "6fe4d759",
   "metadata": {
    "id": "ilwQJcWRRBwg"
   },
   "source": [
    "\n",
    "Выполните обобщение алгоритма `euler_solve` для решения систем линейных уравнений первого порядка с матрицей $A$, не зависящей от времени, используя явную схему Эйлера."
   ]
  },
  {
   "cell_type": "code",
   "execution_count": null,
   "id": "2c3b4013",
   "metadata": {
    "deletable": false,
    "id": "S19kMOt6LLrJ",
    "nbgrader": {
     "cell_type": "code",
     "checksum": "b9da22bea2b0560c02d2c9e5b65e1f94",
     "grade": false,
     "grade_id": "cell-434639a2772a1867",
     "locked": false,
     "schema_version": 3,
     "solution": true,
     "task": false
    }
   },
   "outputs": [],
   "source": [
    "def euler_solve2(a, u0, T, dt):\n",
    "    \"\"\"Solve the system du/dt = Au via an explicit Euler scheme.\n",
    "    \n",
    "    Parameters\n",
    "    ----------\n",
    "    a : ndarray, shape(ndim, ndim)\n",
    "        The matrix of the l.h.s.\n",
    "    u0 : ndarray, shape(ndim,)\n",
    "        Initial condition\n",
    "    T : float\n",
    "        construct the solution for $t\\in [0, T)$\n",
    "    dt : float\n",
    "        Integration step size $\\tau$\n",
    "        \n",
    "    Returns\n",
    "    -------\n",
    "    t : ndarray, shape (n,)\n",
    "        Integration times\n",
    "    y : ndarray, shape (n, ndim)\n",
    "        Solution of the FD system. \n",
    "        y[k, :] is the solution at t[k].\n",
    "    \"\"\"\n",
    "    a = np.asarray(a, dtype=float)\n",
    "    u0 = np.asarray(u0, dtype=float)\n",
    "    num_steps = int(T/dt)\n",
    "    tt = np.arange(num_steps+1)*dt\n",
    "    ndim = a.shape[0]\n",
    "    # YOUR CODE HERE\n",
    "    raise NotImplementedError()"
   ]
  },
  {
   "cell_type": "markdown",
   "id": "d01e025b",
   "metadata": {
    "deletable": false,
    "editable": false,
    "id": "7rDykv9OLLrK",
    "nbgrader": {
     "cell_type": "markdown",
     "checksum": "1b7fdc73d9c5392d93929b6fe9407a19",
     "grade": false,
     "grade_id": "cell-a32b568a7b9bd426",
     "locked": true,
     "schema_version": 3,
     "solution": false,
     "task": false
    }
   },
   "source": [
    "Напишите функцию, возвращающую решение задачи Коши для системы уравнений $du/dt = A u$ с постоянной матрицей $A$ через матричную экспоненту. (Используйте библиотечную функцию `scipy.linalg.expm`)"
   ]
  },
  {
   "cell_type": "code",
   "execution_count": null,
   "id": "10fc8d3d",
   "metadata": {
    "deletable": false,
    "id": "G17JNr_LLLrK",
    "nbgrader": {
     "cell_type": "code",
     "checksum": "d9c8f15205dd8a918a22068a3d2af050",
     "grade": false,
     "grade_id": "cell-9f74c774b637d6b1",
     "locked": false,
     "schema_version": 3,
     "solution": true,
     "task": false
    }
   },
   "outputs": [],
   "source": [
    "from scipy.linalg import expm\n",
    "\n",
    "def mat_exp_solve(a, u0, tt):\n",
    "    \"\"\"Construct the solution of $du/dt = A u$ with $u(t=0) = u_0$ at times `tt`.\n",
    "    \n",
    "    Parameters\n",
    "    ----------\n",
    "    a : ndarray, shape (ndim, ndim)\n",
    "    \n",
    "    u0 : ndarray, shape (ndim,)\n",
    "    \n",
    "    tt : ndarray, shape (n,)\n",
    "        The values of $t$\n",
    "        \n",
    "    Return\n",
    "    ------\n",
    "    u : ndarray, shape (n, ndim)\n",
    "        u[:, k] is $\\exp(t[k] A)$\n",
    "    \"\"\"\n",
    "    # YOUR CODE HERE\n",
    "    raise NotImplementedError()"
   ]
  },
  {
   "cell_type": "code",
   "execution_count": null,
   "id": "792a0913",
   "metadata": {
    "deletable": false,
    "editable": false,
    "id": "JyrcpVjmLLrK",
    "nbgrader": {
     "cell_type": "code",
     "checksum": "470487b761abdbf342fc4b4a2854df64",
     "grade": false,
     "grade_id": "cell-fd07d545ad301ab9",
     "locked": true,
     "schema_version": 3,
     "solution": false,
     "task": false
    }
   },
   "outputs": [],
   "source": [
    "# Solve via Euler's method, compare to the matrix exponential\n",
    "\n",
    "from scipy.linalg import expm\n",
    "\n",
    "a = np.array([[-1, 1],\n",
    "              [0, -1]], dtype=float)\n",
    "t, y  = euler_solve2(a, u0=[1, 1], T=3, dt=0.1)\n",
    "ym = mat_exp_solve(a, [1, 1], t)\n",
    "\n",
    "plt.plot(t, y[:, 0], 'o', label='0, Euler')\n",
    "plt.plot(t, ym[:, 0], '-', label='0, expm')\n",
    "\n",
    "plt.plot(t, y[:, 1], 's', label='1, Euler')\n",
    "plt.plot(t, ym[:, 1], '-', label='1, expm')\n",
    "\n",
    "plt.legend(loc='best')\n",
    "plt.grid(True)"
   ]
  },
  {
   "cell_type": "code",
   "execution_count": null,
   "id": "60716aea",
   "metadata": {
    "deletable": false,
    "editable": false,
    "id": "BPajm1vjLLrK",
    "nbgrader": {
     "cell_type": "code",
     "checksum": "3e3665232eb2dfc917c7a598b10102c8",
     "grade": true,
     "grade_id": "cell-d987d6a24bb043dc",
     "locked": true,
     "points": 5,
     "schema_version": 3,
     "solution": false,
     "task": false
    }
   },
   "outputs": [],
   "source": [
    "# Сравните здесь метод Эйлера с методом матричной экспоненты\n",
    "\n",
    "a = np.array([[-1, 1],\n",
    "              [0, -1]], dtype=float)\n"
   ]
  },
  {
   "cell_type": "markdown",
   "id": "6fd688dc",
   "metadata": {
    "deletable": false,
    "editable": false,
    "id": "UVkegfBoLLrK",
    "nbgrader": {
     "cell_type": "markdown",
     "checksum": "d5d91bd6aadf71e047afef3e129f9b22",
     "grade": false,
     "grade_id": "cell-19ab81ee9161f6c5",
     "locked": true,
     "schema_version": 3,
     "solution": false,
     "task": false
    }
   },
   "source": [
    "## III. Жесткие системы\n",
    "\n",
    "Рассмотрим линейную систему, $du/dt = Au$, с матрицей правой части \n",
    "$$\n",
    "A = \\begin{bmatrix} -10 & 10 \\\\ 32 & -499 \\end{bmatrix}\n",
    "$$\n",
    "\n",
    "с начальным условием $u = (1, 0)^T$."
   ]
  },
  {
   "cell_type": "markdown",
   "id": "94d85f6a",
   "metadata": {
    "id": "L5lqz5YORoaH"
   },
   "source": [
    "## Задание 3.  Проверка жёсткости системы и неявные методы."
   ]
  },
  {
   "cell_type": "markdown",
   "id": "ac97fe17",
   "metadata": {
    "deletable": false,
    "editable": false,
    "id": "0uPQL8elLLrK",
    "nbgrader": {
     "cell_type": "markdown",
     "checksum": "53fac0c44910edae0858f34211cbaa06",
     "grade": false,
     "grade_id": "cell-ee45ceceb9547e65",
     "locked": true,
     "points": 2,
     "schema_version": 3,
     "solution": false,
     "task": true
    }
   },
   "source": [
    "Найдите собственные значения матрицы $A$ (используя `np.linalg.eigvals`) и прокомментируйте, является ли система жесткой.\n",
    "\n",
    "Решите систему, используя фиксированный шаг $$\\tau=0.01 .$$ \n",
    "\n",
    " Стабилен ли метод на шаге такого размера? \n"
   ]
  },
  {
   "cell_type": "code",
   "execution_count": null,
   "id": "452aac81",
   "metadata": {
    "deletable": false,
    "id": "pK0GAXruLLrL",
    "nbgrader": {
     "cell_type": "code",
     "checksum": "d99eff1408666071c1037e4c7b808944",
     "grade": true,
     "grade_id": "cell-e19423f8c0f9cb28",
     "locked": false,
     "points": 0,
     "schema_version": 3,
     "solution": true,
     "task": false
    }
   },
   "outputs": [],
   "source": [
    "# YOUR CODE HERE\n",
    "raise NotImplementedError()"
   ]
  },
  {
   "cell_type": "markdown",
   "id": "5c6acf25",
   "metadata": {
    "deletable": false,
    "editable": false,
    "id": "aXw2xLa6LLrL",
    "nbgrader": {
     "cell_type": "markdown",
     "checksum": "0fc2529145b738f2159158fd4020d485",
     "grade": false,
     "grade_id": "cell-94cde5760aab6d84",
     "locked": true,
     "points": 3,
     "schema_version": 3,
     "solution": false,
     "task": true
    }
   },
   "source": [
    "Постройте графики решения системы на интервале $0 < t < 1$ с начальным условием $u = (1, 0)^T$ используя функции `euler_solve2` и `mat_exp_solve`. Используйте несколько значений шага, например $\\tau = 4\\cdot 10^{-3}$ и $\\tau = 4.5\\cdot 10^{-3}$. Прокомментируйте поведение решений."
   ]
  },
  {
   "cell_type": "code",
   "execution_count": null,
   "id": "4c984c1d",
   "metadata": {
    "deletable": false,
    "id": "zdzpe_WmLLrL",
    "nbgrader": {
     "cell_type": "code",
     "checksum": "6e090a7c03c59d999abd50ad8a346590",
     "grade": true,
     "grade_id": "cell-c807f4452ea7853a",
     "locked": false,
     "points": 0,
     "schema_version": 3,
     "solution": true,
     "task": false
    }
   },
   "outputs": [],
   "source": [
    "# YOUR CODE HERE\n",
    "raise NotImplementedError()"
   ]
  },
  {
   "cell_type": "markdown",
   "id": "153102b3",
   "metadata": {
    "deletable": false,
    "editable": false,
    "id": "w8V9HU6QLLrL",
    "nbgrader": {
     "cell_type": "markdown",
     "checksum": "e0982a3d997e9431b1859288247949a8",
     "grade": false,
     "grade_id": "cell-df4fb53cd32cb17f",
     "locked": true,
     "schema_version": 3,
     "solution": false,
     "task": false
    }
   },
   "source": [
    "Реализуйте неявную схему Эйлера для системы линейных уравнений первого порядка с постоянными коэффициентами. Заметьте, что на каждом шаге вам необходимо решать систему линейных алгебраических уравнений (используйте np.linalg.solve ).\n",
    "\n",
    "Сравните решения, полученные явной и неявной схемами Эйлера."
   ]
  },
  {
   "cell_type": "code",
   "execution_count": null,
   "id": "debfc338",
   "metadata": {
    "deletable": false,
    "id": "9uKmcxCdLLrL",
    "nbgrader": {
     "cell_type": "code",
     "checksum": "21f0f5ac02c8a8ad53b1b99857d0d3a5",
     "grade": true,
     "grade_id": "cell-924511124def49d2",
     "locked": false,
     "points": 5,
     "schema_version": 3,
     "solution": true,
     "task": false
    }
   },
   "outputs": [],
   "source": [
    "# YOUR CODE HERE\n",
    "raise NotImplementedError()"
   ]
  },
  {
   "cell_type": "markdown",
   "id": "2ef811f4",
   "metadata": {
    "collapsed": true,
    "deletable": false,
    "editable": false,
    "id": "5oqAY7vmLLrL",
    "nbgrader": {
     "cell_type": "markdown",
     "checksum": "7a936f9ca540b79153d8c951cf6e9676",
     "grade": false,
     "grade_id": "cell-58e8135483477269",
     "locked": true,
     "schema_version": 3,
     "solution": false,
     "task": false
    }
   },
   "source": [
    "# Задача Коши для ОДУ второго порядка.\n"
   ]
  },
  {
   "cell_type": "markdown",
   "id": "3927c076",
   "metadata": {
    "id": "6R6dHXR4S4RW"
   },
   "source": [
    "Рассмотрим ОДУ второго порядка, описывающее осцилляции маятника\n",
    "\n",
    "$$\n",
    "\\frac{d^2 u}{dt^2} + \\omega^2 u = 0\n",
    "$$\n",
    "\n"
   ]
  },
  {
   "cell_type": "markdown",
   "id": "5dcb056e",
   "metadata": {
    "id": "KR_BpW6vTJi2"
   },
   "source": [
    "## Задание 4. Законы сохранения и решение ОДУ.\n"
   ]
  },
  {
   "cell_type": "markdown",
   "id": "481cc73e",
   "metadata": {
    "id": "FCrTwQuLTPLu"
   },
   "source": [
    "Преобразуйте данное уравнение второго порядка в систему ОДУ первого порядка.\n",
    "\n",
    "\n",
    "Решите данную систему уравнений, используя явную  схему Эйлера на интервале времени не менее десяти периодов осцилляций. \n",
    "\n",
    "Мы знаем, что в отсутствии трения выполняется закон сохранения энергии:\n",
    "\n",
    "$$\n",
    "E = \\frac{(du/dt)^2}{2} + \\frac{\\omega^2 u^2}{2}\n",
    "$$\n",
    "\n",
    "Постройте зависимость $E$ от времени для вашего численного решения. Используйте несколько значений шага. Выполняется ли закон сохранения энергии?"
   ]
  },
  {
   "cell_type": "code",
   "execution_count": null,
   "id": "ee6377eb",
   "metadata": {
    "deletable": false,
    "id": "ZZGCedKxLLrL",
    "nbgrader": {
     "cell_type": "code",
     "checksum": "3dac4fe917a4ee392f9e5b871362008a",
     "grade": true,
     "grade_id": "cell-1d935f818793fa57",
     "locked": false,
     "points": 5,
     "schema_version": 3,
     "solution": true,
     "task": false
    }
   },
   "outputs": [],
   "source": [
    "# YOUR CODE HERE\n",
    "raise NotImplementedError()"
   ]
  },
  {
   "cell_type": "markdown",
   "id": "848f40e6",
   "metadata": {
    "id": "DOdJDahzTsEu"
   },
   "source": [
    "Реализуйте схему Рунге-Кутта второго порядка. Используте ее для решения того же уравнения с теми же значениями шага $\\tau$. Сравните решения, полученные методом Рунге-Кутта и методом Эйлера на одинаковых промежутках времени. Проверьте закон сохранения энергии. Обсудите."
   ]
  },
  {
   "cell_type": "code",
   "execution_count": null,
   "id": "fd044d6d",
   "metadata": {
    "deletable": false,
    "id": "6PTj_YDuLLrM",
    "nbgrader": {
     "cell_type": "code",
     "checksum": "4b3c541284aaf3828b5a8ff9c9bd91c9",
     "grade": true,
     "grade_id": "cell-fc2381a56a533f8f",
     "locked": false,
     "points": 5,
     "schema_version": 3,
     "solution": true,
     "task": false
    }
   },
   "outputs": [],
   "source": [
    "# YOUR CODE HERE\n",
    "raise NotImplementedError()"
   ]
  },
  {
   "cell_type": "markdown",
   "id": "36b6ac7a",
   "metadata": {
    "id": "XMIEJXGtU9Gn"
   },
   "source": [
    "Проверьте соблюдение закона сохранения энергии после выполнения большого количества шагов. Нарисуйте графики решений вместе с графиком точного решения. \n",
    "\n"
   ]
  },
  {
   "cell_type": "code",
   "execution_count": null,
   "id": "a2ca043a",
   "metadata": {
    "id": "Cvw_uBhFVOTW"
   },
   "outputs": [],
   "source": [
    "# YOUR CODE HERE\n",
    "raise NotImplementedError()"
   ]
  },
  {
   "cell_type": "markdown",
   "id": "582bed76",
   "metadata": {
    "id": "0EORTqa2VOsX"
   },
   "source": [
    "Решите задачу используя предиктор и корректор. Предиктор - дифференциальное уравнение первого порядка, корректор - закон сохранения энергии. Убедитесь, что при большом количестве шагов закон сохранения энергии теперь сохраняется. Отличается ли полученное решение от точного решения после большого количества шагов?"
   ]
  },
  {
   "cell_type": "markdown",
   "id": "e046b5b9",
   "metadata": {
    "deletable": false,
    "editable": false,
    "id": "jYjF-aZgLLrM",
    "nbgrader": {
     "cell_type": "markdown",
     "checksum": "61660de023fb8c01de0d37560219de5e",
     "grade": false,
     "grade_id": "cell-f5c28b799b829224",
     "locked": true,
     "points": 5,
     "schema_version": 3,
     "solution": false,
     "task": true
    }
   },
   "source": [
    "## Задание 5. Методы предиктора и корректора для ОДУ."
   ]
  },
  {
   "cell_type": "markdown",
   "id": "7dca0091",
   "metadata": {
    "id": "5wfvrHe0TyUm"
   },
   "source": [
    "Используте для решения того же уравнения библиотечную функцию `scipy.intergrate_solve_ivp`.\n",
    "Сравните результаты с решениями, полученными методами Рунге-Кутта и Эйлера. Проверьте закон сохранения энергии. Обсудите."
   ]
  },
  {
   "cell_type": "code",
   "execution_count": null,
   "id": "4b22a5f2",
   "metadata": {
    "id": "WPyCmEvWLLrM"
   },
   "outputs": [],
   "source": [
    "# ... ENTER YOUR CODE HERE ..."
   ]
  },
  {
   "cell_type": "markdown",
   "id": "c2f4a2af",
   "metadata": {
    "id": "fe7vBGdEYxtB"
   },
   "source": [
    "Используя библиотечные функции, реализуйте метод прогноза-коррекции Адамса и метод Милна.  Проверьте закон сохранения энергии для каждого из них."
   ]
  },
  {
   "cell_type": "code",
   "execution_count": null,
   "id": "192b711b",
   "metadata": {
    "id": "jLcuCm1BZV_f"
   },
   "outputs": [],
   "source": [
    "# ... ENTER YOUR CODE HERE ..."
   ]
  },
  {
   "cell_type": "markdown",
   "id": "ce8563d6",
   "metadata": {
    "id": "lp6kehKJY6BQ"
   },
   "source": [
    "## Задание 6. Нелинейное уравнение Пуассона."
   ]
  },
  {
   "cell_type": "markdown",
   "id": "6ca94f74",
   "metadata": {
    "id": "t9PTbNrBUVw-"
   },
   "source": [
    "\n",
    "Напишите программу, которая решает нелинейное уравнение Пуассона:\n",
    "\n",
    "\n",
    "$$\n",
    "\\phi^{\\prime \\prime}(x)=e^{\\phi(x)}-n(x), \\quad \\text { где } n(x)=1+e^{-3(x-5)^{2}}  \n",
    "$$\n",
    "\n",
    "\n",
    "в области $0<=x<=10$ с граничными условиями $\\phi(0)=\\phi(10)=0 .$\n",
    "\n",
    "Для этого дискретизуйте дифференциальное уравнение на равномерную решётку $x_{j=1, \\ldots, N-1}$, так что значения потенциала в точках $x_{0}=0$ и $x_{N}=10$ зафиксированы граничными условиями, а внутри определяются дискретной версией исходного дифференциального уравнения: $G_{1}=0, G_{2}=0, \\ldots, G_{N-1}=0$, где\n",
    "\n",
    "$$\n",
    "G_{j}=\\frac{\\phi_{j+1}-2 \\phi_{j}+\\phi_{j-1}}{\\delta x^{2}}-e^{\\phi_{j}}+n\\left(x_{j}\\right)=0\n",
    "$$\n",
    "\n",
    "Используйте метод Ньютона (можно написать самостоятельно, можно использовать scipy) для того, чтобы найти решение этой системы. Сколько итераций нужно, чтобы получить решение с $10ю$ значащими цифрами?"
   ]
  },
  {
   "cell_type": "markdown",
   "id": "6b1fe9a2",
   "metadata": {
    "id": "f35bn8NXqBc3"
   },
   "source": [
    "## Задание 7*.  Движение планет вокруг Солнца."
   ]
  },
  {
   "cell_type": "markdown",
   "id": "0ce2081b",
   "metadata": {
    "id": "TCNT8-n7qKw4"
   },
   "source": [
    "### Постановка задачи."
   ]
  },
  {
   "cell_type": "markdown",
   "id": "126b7476",
   "metadata": {
    "id": "IlRUqNBLqQBg"
   },
   "source": [
    "Задача о движении тела в центральном поле тяготения является хорошим примером, демонстрирующим возможности использования ПК для изучения поведения объекта, подчиняющегося некоторым общим физическим законам. \n",
    "Процесс выведения спутника на орбиту обычно разбивается на два этапа. На первом этапе спутник поднимается над атмосферой практически вертикально на некоторую высоту. Затем обычно последняя ступень ракетоносителя придает спутнику необходимую горизонтальную скорость, и далее он двигается по инерции.\n",
    "\n",
    "Рассмотрим инерционный полет небольшого тела (спутника) около притягивающего центра с большой массой (Земли). Будем интересоваться тем, какие траектории спутника возможны, какой должна быть его минимальная скорость вблизи поверхности Земли, чтобы он, двигаясь по круговой траектории, не упал на Землю (первая космическая скорость), какой должна быть минимальная начальная скорость спутника, чтобы получилась незамкнутая траектория и спутник ушел от Земли (вторая космическая скорость). В численном эксперименте можно также проверить законы Кеплера: \n",
    "\n",
    "1) притягивающий центр расположен в одном из фокусов орбиты; \n",
    "\n",
    "2) радиус-вектор от Солнца до планеты “заметает” равные площади за равные промежутки времени; \n",
    "\n",
    "3) квадраты периодов обращения спутников вокруг притягивающего центра относятся как кубы больших полуосей эллипсов их орбит.\n",
    "\n",
    "В основу модели мы положим закон всемирного тяготения. Будем считать, что на тело, движение которого рассматривается, действует только сила тяготения и уравнение Ньютона имеет вид: \n",
    "\n",
    "$$m a=-\\frac{G M m}{r^{3}} \\mathbf{r}  $$\n",
    "\n",
    "Здесь m и M — масса спутника и масса притягивающего центра, G — гравитационная постоянная, r — радиус-вектор, задающий положение спутника относительно притягивающего центра, a — ускорение спутника.\n",
    "Хотя закон всемирного тяготения записан для материальных точек, он имеет такую же форму для сферически-симметричных тел.\n",
    "Движение тела под влиянием центральной силы происходит в одной плоскости, положение которой определяется векторами r0 и v0, задающими начальное положение тела и его начальную скорость. Декартову систему координат с началом в центре тяготения и начало отсчета времени выберем так, чтобы движение происходило в плоскости Oxy и в начальный момент скорость тела была перпендикулярна оси x. \n",
    " \n",
    " \n"
   ]
  },
  {
   "cell_type": "markdown",
   "id": "92cf8a94",
   "metadata": {
    "id": "czGu_XvUq2oC"
   },
   "source": [
    "![image.png](data:image/png;base64,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)  \n",
    "\n"
   ]
  },
  {
   "cell_type": "markdown",
   "id": "83e4fa2e",
   "metadata": {
    "id": "N6R7DISPq9NF"
   },
   "source": [
    "Тогда начальные условия можно записать в виде:\n",
    "$$\n",
    "t=0: x=x_{0}, y=0, v_{x}=0, v_{x}=v_{0}\n",
    "$$  "
   ]
  },
  {
   "cell_type": "markdown",
   "id": "72b7a2ef",
   "metadata": {
    "id": "4XZk6FQHrFmW"
   },
   "source": [
    "### Численная модель."
   ]
  },
  {
   "cell_type": "markdown",
   "id": "1a9b8f54",
   "metadata": {
    "id": "fZOfGLCRrJfe"
   },
   "source": [
    "Численный анализ задачи удобно проводить, используя в качестве единиц измерения характерные масштабы задачи. В качестве единицы длины удобно взять $x_{0} .$ Если разговор идет о спутнике Земли, то эта величина имеет порядок радиуса Земли $R$ и равняется $R+h$, где $h$ - высота спутника над поверхностью Земли. Всякое расстояние теперь будет задаваться числом, которое показывает, сколько раз в нем укладывается $x_{0}$. Безразмерное $x$ будет равняться $x$, измеренному в метрах, деленному на $x_{0}$, также измеренному в метрах. Единицу времени удобно построить, используя гравитационную постоянную и характеристики притягивающего центра. Из уравнения легко видеть, что множитель $G M / r^{2}$ имеет размерность ускорения $\\left(M / c^{2}\\right) .$ Вместо расстояния $r$ возьмем $x_{0}$ и сформируем выражение с размерностью времени $(c):$  $\\left(G M / x_{0}^{3}\\right)^{-1 / 2}$ "
   ]
  },
  {
   "cell_type": "markdown",
   "id": "ef68bcf6",
   "metadata": {
    "id": "L9_u-zgxrP-G"
   },
   "source": [
    ". Его и выберем в качестве единицы времени. В качестве единицы скорости тогда естественно взять $\\left(GM / x_{0}\\right)^{1 / 2} .$\n",
    "Измеренные в этих единицах проекции ускорения определяются следующими уравнениями (здесь и далее для безразмерных физических величин использованы те же обозначения, какие использовались для соответствующих размерных величин):\n",
    "\n",
    "$$\n",
    "\\partial_{x}=-\\frac{x}{\\left(x^{2}+y^{2}\\right)^{3 / 2}}, \\partial_{y}=-\\frac{y}{\\left(x^{2}+y^{2}\\right)^{3 / 2}}\\\\\n",
    "$$\n",
    "\n",
    "$$\n",
    "\\begin{gathered}\n",
    "t=0: x=1, y=0, v_{x}=0, v_{y} = V_{0}, \\\\\n",
    "\\operatorname{где} V_{0}=V_{0} \\cdot\\left(x_{0} / GM\\right)^{1 / 2} .\n",
    "\\end{gathered}\n",
    "$$\n",
    "\n",
    "Все физические величины измеряются теперь в относительных единицах и будут одинаковыми для всех систем “спутник — притягивающий центр”. Уменьшилось также число параметров задачи. \n",
    "\n",
    "Единственный безразмерный параметр Vo, который остался в задаче, показывает, как соотносятся между собой кинетическая и потенциальная энергии спутника в начальный момент. Действительно, кинетическая энергия спутника в начальный момент равна \n",
    "\n",
    "$\\mathrm{K}=m v_{0}^{2} / 2$, потенциальная энергия для закона тяготения равна П $=G M m / x_{0}$, и $\\mathrm{V}_{0}^{2}=2 \\mathrm{~K} /$ П.\n",
    "\n",
    "\n",
    "Для нахождения в различные моменты времени проекций скорости спутника и его координат на временной оси выберем дискретные точки $t_{n,}$ отстоящие друг от друга на малые интервалы $\\Delta t$. \n",
    "\n",
    "Тогда проекции скорости $\\mathrm{v}_{x}^{(n+1)}$ и $v_{x}{ }^{(n+1)}$ в момент времени $t_{n}+1$ будут приближенно (считаем, что ускорение на этом интервале времени не изменилось) представляться выражениями\n",
    "\n",
    "$$\n",
    "\\begin{aligned}\n",
    "&v_{x}^{(n+1)}=v_{x}^{(n)}+\\Delta t \\cdot a_{x}^{(n)}, \\\\\n",
    "&v_{y}^{(n+1)}=v_{y}^{(n)}+\\Delta t \\cdot a_{y}^{(n)} .\n",
    "\\end{aligned}\n",
    "$$\n",
    "\n",
    "а координаты в этот момент будем вычислять, как при равномерном движении (опять считая, что интервал времени Δt мал, и скорость в течение него такая, как в конце интервала):  \n",
    "\n",
    "$$\n",
    "\\begin{aligned}\n",
    "&x^{(n+1)}=x^{(n)}+\\Delta t \\cdot v_{x}^{(n+1)} \\\\\n",
    "&y^{(n+1)}=y^{(n)}+\\Delta t \\cdot v_{y}^{(n+1}\n",
    "\\end{aligned}\n",
    "$$\n",
    "В начальный момент времени проекции скорости и координаты спутника известны:\n",
    "\n",
    "$$\n",
    "\\begin{aligned}\n",
    "&t_{0}=0: x^{(0)}=1, y^{(0)}=0, \\\\\n",
    "&v_{x}^{(i)}=0, v_{y}^{(0)}=V_{0} .\n",
    "\\end{aligned}\n",
    "$$\n",
    "\n",
    "Система позволяет шаг за шагом, при малом $\\Delta t$, достаточно точно вычислить траекторию спутника и все ее характеристики.  \n",
    "\n",
    "Для классификации траекторий удобно вычислять их эксцентриситет е. В выбранной системе координат для вычисления эксцентриситета необходимо определить координату $y=p$ точки на траектории, для которой горизонтальная координата совпадает с фокусом эллипса. Тогда е $=|p-1|$. Если $e \\leq 1$, то траекторией является замкнутая кривая (окружность при $e=0$ и эллипс при е 0), при $e=1$ (в численном эксперименте это значение точно получено быть не может) траекторией является парабола, а при e > 1 траектория есть гипербола.\n",
    "Площадь, “заметаемую” радиус-вектором за некоторое время $T_{k}=t^{(n+k)}-t^{(i)}=k \\cdot \\Delta t$, можно вычислить следующим образом:\n",
    "$$\n",
    "S=\\frac{1}{2} \\sum_{l=n}^{n+k}\\left(x^{(1)} \\cdot v_{y}^{(l)}-y^{(0)} \\cdot v_{x}^{\\prime \\prime}\\right) \\Delta t\n",
    "$$\n",
    "Интересно сравнить эти площади, вычисленные на разных участках траектории. По второму закону Кеплера они должны быть равны.\n",
    "\n",
    "\n"
   ]
  },
  {
   "cell_type": "markdown",
   "id": "76687311",
   "metadata": {
    "id": "gL_rfW6QuBTq"
   },
   "source": [
    "![image.png](data:image/png;base64,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)  \n",
    "\n"
   ]
  },
  {
   "cell_type": "markdown",
   "id": "106431bc",
   "metadata": {
    "id": "cDvTVG3LuCuH"
   },
   "source": [
    "По третьему закону Кеплера квадраты периодов обращения относятся как кубы больших полуосей орбит, т.е. для каждой траектории величина $\\mathrm{K} 3=T^{2} / a^{3}$ должна оставаться постоянной. Для нахождения длины большой полуоси эллипса необходимо найти отрицательную координату $x_{\\text {мин }}$ при $y=0 .$ Момент времени $t_{M}$, когда это произойдет первый раз, соответствует половине периода обращения спутника. Таким образом, величина большой полуоси равна: $a=(1+$ $\\left.\\left|x_{\\text {диин }}\\right|\\right) / 2$, а период $T=2 t_{M} .$  "
   ]
  },
  {
   "cell_type": "markdown",
   "id": "9826067f",
   "metadata": {
    "id": "8Z1hSskeuLCA"
   },
   "source": [
    "## Задание 8*. Молекулярная динамика."
   ]
  },
  {
   "cell_type": "markdown",
   "id": "d08254be",
   "metadata": {
    "id": "i2CJlIL1EYSq"
   },
   "source": [
    "Промоделируйте с помощью формул, описанных ниже, движение 100 частиц, кинетическую энергию их задать по распределению Максвелла, а направлений начальных импульсов - равновероятным образом. Для этого можно сгенерировать 300 чисел с одинаковым нормальным распределением - это будут квадраты проекций скоростей. Затем направление вдоль или против осей - определять с вероятностью 1/2. \n",
    "\n",
    "Опишите, как изменяется характер движения с изменением температуры."
   ]
  },
  {
   "cell_type": "markdown",
   "id": "daad8cbf",
   "metadata": {
    "id": "Y8ZR6RBauP1r"
   },
   "source": [
    "Взаимодействия между частицами (например, атомами или молекулами) будут считаться с помощью классической физики:\n",
    "\n",
    "$$\n",
    "m \\cdot \\ddot{\\vec{r}}_{k}=\\sum_{i=1}^{N} \\varphi\\left(\\left|\\vec{r}_{i}-\\vec{r}_{k}\\right|\\right) \\cdot\\left(\\vec{r}_{i}-\\vec{r}_{k}\\right) ; \\varphi\\left(\\left|\\vec{r}_{i}-\\vec{r}_{k}\\right|\\right)=\\frac{f(r)}{r}\n",
    "$$\n",
    "\n",
    "Вот эта формула - на деле полный аналог обычного $\\mathrm{F}=\\mathrm{ma}$.\n",
    "(реальная «запутанная» формула длиннее, и выглядит менее эстетично, диссипативную составляющая здесь намеренно опущена).\n",
    "\n",
    "Математически, моделирование методом частиц, представляет из себя решение задачи Коши для уравнений выше. Вычисление, всего этого дела, лучше всего поручить алгоритму Верле.\n",
    "\n",
    "Алгоритм Верле используется для вычисления следующего местоположения точки по текущему и прошлому, без использования скорости. Формула получается следующим образом. Записывается разложение в ряд Тейлора для следующего и текущего положения:\n",
    "\n",
    "$$\n",
    "\\begin{aligned}\n",
    "&\\vec{x}(t+\\Delta t)=\\vec{x}(t)+\\vec{v}(t) \\Delta t+\\frac{\\vec{a}(t) \\Delta t^{2}}{2}+\\frac{\\vec{b}(t) \\Delta t^{3}}{6}+O\\left(\\Delta t^{4}\\right), \\\\\n",
    "&\\vec{x}(t-\\Delta t)=\\vec{x}(t)-\\vec{v}(t) \\Delta t+\\frac{\\vec{a}(t) \\Delta t^{2}}{2}-\\frac{\\vec{b}(t) \\Delta t^{3}}{6}+O\\left(\\Delta t^{4}\\right),\n",
    "\\end{aligned}\n",
    "$$\n",
    "\n",
    "Сложив эти 2 уравнения, получим:\n",
    "\n",
    "$$\n",
    "\\vec{x}(t+\\Delta t)=2 \\vec{x}(t)-\\vec{x}(t-\\Delta t)+\\vec{a}(t) \\Delta t^{2}+O\\left(\\Delta t^{4}\\right)\n",
    "$$\n",
    "\n",
    "Алгоритм оптимален по точности и скорости, но ему надо знать два предыдущих положения частицы. Первый шаг оставим методу Эйлера.\n",
    "\n",
    "Для моделирования идеального газа самым популярным является потенциал Леннарда-Джонса:   \n",
    "\n",
    "$$\n",
    "V(r)=D \\cdot\\left[\\left(\\frac{r_{\\min }}{r}\\right)^{12}-2 \\cdot\\left(\\frac{r_{\\min }}{r}\\right)^{6}\\right], f(r)=\\frac{12 \\cdot D}{a} \\cdot\\left[\\left(\\frac{r_{\\min }}{r}\\right)^{13}-\\left(\\frac{r_{\\min }}{r}\\right)^{7}\\right]\n",
    "$$\n",
    "$r_{\\min }$ межатомное расстояние (минимум потенциальной энергии),\n",
    "f - сила взаимодействия,\n",
    "r - расстояние между частицами.\n",
    "После обезразмерирования потенциал выглядит так:  \n",
    "\n"
   ]
  },
  {
   "cell_type": "markdown",
   "id": "6a5ee152",
   "metadata": {
    "id": "dOFwD-HJ-mEI"
   },
   "source": [
    "![image.png](data:image/png;base64,iVBORw0KGgoAAAANSUhEUgAAA+IAAALXCAYAAAAJ2vrhAAAAAXNSR0IArs4c6QAAAARnQU1BAACxjwv8YQUAAAAJcEhZcwAAFiUAABYlAUlSJPAAAIZHSURBVHhe7d0FgJRV28bxaxtYuru7S0LFRsECwXztwFbEFlQM7AAD+7O7sQtburtj6c5le/eb++wMDssuEruzE//f+z3fPPOc2SUcZuea+5z7ROV4CAAAAAAABES09xYAAAAAAAQAQRwAAAAAgAAiiAMAAAAAEEAEcQAAAAAAAoggDgAAAABAABHEAQAAAAAIIII4AAAAAAABRBAHAAAAACCACOIAAAAAAAQQQRwAAAAAgAAiiAMAAAAAEEAEcQAAAAAAAigqx8N7HvZWzfpeDw57XN9PWKVyiQna+w8epYxd21SuTU/dMmSIzj6sgfc6AAAAAACFI6Iq4htXzND8GX8paelCzZw1S7P2OmZq/pIkzV22Sht3pnq/CgAAAACAwhNBQXyXNixcpE1JWd77AAAAAAAEXuRMTc9I0is3DdSgF75Us1Ou19C7b1T7atFKy9gzmGdnZyqmZBlVqVJV5UsleK8CAAAAAFA4IqYinrNljeZvXqldqqjGLbqqc+cmqtegkZo2bbrH0bx5SzWpV4cQDgAAAAAoEhETxDevmq91SfOkMjVVuXkdVYz1DgAAAAAAEEARE8Q3LVuv9Ut2qmSdamrfqIpKeq7t3Lxey5cs0bIVq7Vle4qysnMfCwAAAABAUYmQNeLJ+nb4YF1787Mqe/wNGnpHf2Uu/FYvv/ipxs1aqszEKmrZ+Rj1O/s8XdC/pxpVK+39ugOTnZ2tBQsWaP78+e48OjqimtIjxNlz1l4O7HkbFRXlvQrsH3v+ZGVluSM2NlYxMTEBex7Zr23s1+O5i1Bir7n2/LXnLe8ZEGp434BQZe9VypUrpzZt2qhq1areq4EXGUE8bYleHHqLBj72pSrWaa3qpVK1fPEibc30jvtElVOX/tfq4Qdu0vEtDvw/SlpamoYNG6YRI0YoISHBHZHw14vQZz9Ak5OTlZqaqsTERJUoUYLnLvabPX927dql7du3uzdmpUqVUtmyZQPyxsx+DXve7ty5UyVLlnTPX567CAX23M3IyHD/buLi4lS6dOmA/JsBCoO9ztr7BnsO2+su73kRKux1dvPmzapfv76GDx+uXr16eUcCLyKCePaKX/XgXYP04HszZD3S40uVV5UqlZVYIsbzSuIZz0rT9i2btHnLDmXmJKhj/1s04ok71aNBmdxvsJ/sjejdd9+t1atXa/DgwapVq5Z7gQKCnQXvN954Q99++62uueYa9ezZ0z2fgf1RpkwZjRo1yr3uLV++XFdddZXuuece98YsMzPvJ56Fx358lS9fXr/88oseffRR9e3bV1dffbV7cwgEO/v3sWjRIj3yyCOqV6+ebr31VsXHx7tKDRDMfBXwkSNHatKkSbrpppvUqVMnV5ACgp196Pnee+/p3Xff1aBBg9SvXz/vSOBFRBBf8+enunPQzXp7ygrV6dZHN902WJf07qyKJb3TwLJStWTSD3rukWF6c9RkbU1opquGPa0nbj1ZBxLFU1JSNGTIEG3dutVVxmvWrOkdAYLfm2++qc8++0w333yzjj32WO9VYP/88MMP7gfavHnzdOONN+rxxx93QSMQfvvtNz388MM6++yzNWDAAO9VIPgtWbJE9957rxo0aOBurTIOhAqrJo4dO1Z33nmnOnbs6L0KBL+PPvpIr7zyiq677rpiDeIRsSCpTJMuuur+Z/XRJ9/oi7df0rV9u/wbwk1MCTXs2ldDH7hfZx/bVEqbrzHjR2vSyoOrZvvWKwKhxD6T8633Ag6UBQhfiEhPTw/466A9b3nuItT4v+7y/EWo8T1vee4iFAXD8zYignjpGnV1+Kl9dfaZp6hTk+oqUcCfunyb7up1fBc18JzPWrJS85ZvyB0AAOyTTam1w/DGDAAAYN8iIojvt6jSqli7tMpW9ryRXLFdO1Zt8w4AAPbFOqXbYWxdOP0xAAAACkYQz8veR9rfSmy0ouJi3CUAwL5ZNdx/ajpBHAAAoGDhH8Sz07Vl7SJNmzRO02YmafP2fXXwTVXKhlSlbpGiqpRS6UqlvNcBAPviXxG3EF6U3dIBAABCXfgH8aid+vvTR3XGCd3V7cQL9PrP01XQ28OcjQs1YeJCzc+QWjWqreZ1q3hHAAD74r9G3II4FXEAAICCRUAQr6gGDQ5T4yoVlbZ2kkb98KumrcnvDWKy/vryU3314z+e8wbq3PVota8fmK13ACDU5a2IBzqI0xwOAAKP117g4EXEGvHWXQ9Tz2NbqaRS9PdrD+jKy6/Va5/+pHHjx2nCxPH6c/TnevSmC3Xl4Kc0eZPU8oSTdd4pPVTB+/UAgH3z374s0EE8KirK/drR0RHxIw0Agoa9/gI4OJHxrqVyR5132Y06p2tjz52dmvr9axpw1knq3q27unbppqNP6K+7nvlC8zdkqErrk3TVzVfpmNaVcr8WiBDdu3fX9ddfr2bNmnmvAPuvOIO4PWcHDRqkHj16eK8AoaFy5cq67LLL1KdPH8XE0CAWoeX444/XlVdeqbp163qvADgQEVM+qNPtTD388nDd0rezyuTOntxLo+7n6PFnn9PVvdsod6UjEDmaN2+u3r17q1atWt4rwP6zEO5bI26N2gLZrK1GjRo66aST+BAJIadcuXI64YQTdNhhhxHEEXLatWunnj17qkoVeioBByOi5vHVaHeqnvhotCaMHqVHbrtKp514jI44pqfOv26wPvx+nMb++LYuObYJIRwADpB/Rdy2L7MDAAAA+Yu4BXVR8WXV/KjTdefjL+mrH3/T37/9pHeff0jn9OqqKmWI4ABwMCyE+5q1sY84AADAvtHZBgBwyPy3Lwv01HQAAIBQQxAHABwyq4YzNR0AAGD/EMQBAIfMtg7zBXEq4gAAAPtGEAcAFAr/NeJUxAEAAApGEAcAFIqEhAR3a43aqIgDAAAUjCAOACgUvqnpFsTpmg4AAFAwgjgAoFD4N2ujIg4AAFAwgjgAoFDY9mUxMTGsEQcAAPgPBHEAQKHwbWHGGnEAAIB9I4gDAAqFNWvzBXEq4gAAAAUjiAMACoVNTfdv2AYAAID8EcQBAIXCNzXdMDUdAACgYARxAEChsIq4hXGTlpbmbgEAALA3gjgAoFBQEQcAANg/BHEAQKHwr4jbGvGcnBx3DgAAgD0RxAEAhcKCuB3GpqbTOR0AACB/BHEAQKGwaem+irhNTWd6OgAAQP4I4gCAQmFB3LdG3CriBHEAAID8EcQBAIXCP4jbGnH2EgcAAMgfQRwAUCj8p6bb+nAq4gAAAPkjiAMACoX/9mVUxAEAAApGEAcAFAr/iriFcCriAAAA+SOIAwAKhX9FnKnpAAAABTuEIJ6iyZ8+o0tP7KHuRxyp3hfcrc/HrvSOHbiU5WP1wuDzdGzXjupx5jV67dc5yvGO7SlH8yd+rivOPl5HX/2Qflq0w3sdAFCc/PcRZ2o6AABAwQ4hiJdU2XI5Wr96osaN+Uc/fPaOfh4zURu9owcmQzMm/Kl33vlWv0+YqjXrklW5bAVFeUf3tFNLxn+t0aN+VVpyiipVLOO9DgAoTlYRZ2o6AADAfzukqekNOhyrrh26y9U/UtdoytRZWrjiIN54bV+uWRP+1pLVOzy/o6pqefgxat20hndwT9mblmrG2IVall5frdv0UPOK3gEAQLGKiYlxh7Gp6VTEAQAA8ndIQTy2ciN1P7yVmlSyexlaNu0vzZ4/340diPVL5mrMxPlany2Vq9taxx/eSQ3Legfz2Jg0V1MWz5IaN1bbzvWV6L0OAChe0dHR7jBWDaciDgAAkL9DCuJSaTVpc6RaNKjr7q1fskijx8/T2nR3dz9lat60XzV9zkJ3r+mRPXTYYW0L/I0tmzFZi6ZvU/NGrdSuTi3vVQBAcbMQ7puaTkUcAACgYIcYxKX6zVvqyMMaeSK5R8pSLZj8txau3unG9suOefr7z5mausFzXqKJuh3WRa1q5r86XDkrNG36fE1LLavGrdqrbk33qwIAgoAFcf9mbVTEAQAA8nfIQVyVG6pV+66qXz53y5ops+fprzkr3Pn+WDlljKZMG6dsz3nNLt3U44guKpc7tJeM5bM1c/4sZVeqoY6H1VON/Oal56Rq+cy/9MKDA9W/Vzd16nyYjjrxNF1504P68IfJWrMjzftAAEBhyhvEqYgDAADk79CDuEqrQ/t26tyicu7dBRM189cJWm3J+j9t0qSxkz1BPNlzXl5dOxypLq293ycfi6bM1azJK1Stdie1r9tCJbzXfTK2LNHr916ho484Wtfd+6w+/3G8pkyepL9+/kavPnOvzut9mNp3PVGDXxilpE2p3q8CABQGa9RGRRwAAOC/FUIQlyq176ROnTt6G6dt0oQ5kzR5YYq7ty8ZS2Zo/MTxWprjeQPXuJ26HHuY6iZ4B/eyQXOWzNTszRmq27aVajWu7r3ulb5Go154WA8/9Z6W74hW/U49dcM9j2jEiOF6+O5B6nNEC5WNydH6ueP03Q//aNH6Xd4vBAAUhqioqN1B3EI4FXEAAID8FUoQV3wTdevWTu292Xj15GmaM2W2snLvFiBLs2ZM15hpSz3nMerU/igd3b5pAXuHS9lrkrRw2hxtzaisNq2aq2FV74BX0tTRev+bb7TYk/8rtDtdtz3xkp594E4NHHiT7nrgKX341Vf6vxcf0B0PDtdLTw/RcS3Y9wwACpNvaroFcgviWVn7/ikAAAAQqQoniHs07ny0mnVo6c5TN03Xn1MnauF2dzd/ySs1Y9Kfmr/c86CyddW+R2c1rlPwZmSrli/XpDnLldHgMLXv0F57TmBP19Jx47Vs8jrPeYKOO66nTj6iYe6Q8bwpLFGxsc4ccI8evftadWtc0Cp0AMDB8nVNt1uCOAAAQMEKLYiXr9tKx7Ztqdp2J2uHFo6booUL17qx/GxcMlt/j52jdZ73adWbdNPRHTuoSoG/mwwtXzpJC5LWqlGbBmrewv0qftI84T9FqW4WZEWVLllJibmzIwEAAeKriFsYz87OJogDAAAUoNCCuEpUV8sjuqlBk7Lu7uLlUzV+wSJPRM5PlhZOHa2Zs+Z7zqPU4agu6tCxTu5QftJWa9G4mVq2qZTaNThMrWrlTdklVbpmaZV2BfU1WrZyrlasdwMAgACxIB4XF+eatlkIp1kbAABA/goviCtGzZp10OFN6ivWcy87aamm/jldy7fkju5h53z988dMTbWwXK2HDu/SQy1K5Q7lJ2XlIk1YMF87yrdUs66tVHOv33WsmvQ4Tm26505H/+vLdzXihfe0eDNvAgEgUHwVcV8QT09P944AAADAXyEGcSmxcVN1OLKtqrh9xTZr2uy/NXXJ3tPT104bp0kzJsreorU/oot6HJ67trwgKxdN16L5C1WpaX11bFLLe3VPVVv10i2DbtHp7Woqe/siffDkIJ11xhm68OILdf3gh/X9tGXK8T4WAFD4LIgnJCTsnpqelpb/nCgAAIBIV6hBXNG11aHtYWpfp7S7u3rqPE2YOt8F7n9t08QJ0zRp2lYprok6dj1a7eqW9I7lJ1nzJ83RnKWxatGyu5rWr+a9nle8Wva+ULcPOl/d68QqM3mDpv75jd59+1298NE3mrBknfZra3MAwEHzn5rO9mUAAAD5K9wg7tG4Yye169wi987OaZo4/i/N9Juenrl8uiZMHKPFmVK1ts11zOEtVN47lq9NMzV+zhStKlFdzbs0U53KMd6BPJKT9PmTt2jAbSM0dkWmEqs10eEn9dN5Z/XXxX1OUKf6VQrcGg0AUDh8zdp8U9Np2AYAALC3Qg/i0TXaq0fnDmrq7ac2a+IMTZ+elHtHOZozZ4b+mbLYc15abbv3VMcWjXKHCrBu1kLNn75Qpao10mH166qC9/qe0vXPpy/p0Sde09wNGZ6A31NDX3hf3436TO9//KneePoBndqxYeH/YQEAe7CKuE1Rt6npVhEniAMAAOytCLJpolp27aYW7Sq6e1sWT9Sk6VO10e6kr9as8X9o/pKtiq3SVEd2ba+GldzDCrBLcxbP1aylKaretKPqNywgtG+apm9+/V0TN+RIZdrp3OsH69p+nVUuwTsOAAiIvFPTLZADAABgT0VSJK7dvIuOaNVRZezOzjWa/M9MLVkjpSyfrz//mavVmVLDLkerS+fO2tfqcO1cpUXzpmhpqtS6U2s1b5h/a/UdG+Zp4/oF7rxy22bq3L6p3E5mAICA8t9HnKnpAAAA+SuSIB5bqZ7aH9FKdavbvTQlLfpHS1clacniKZq3YLbnWg316HK4OjXfZwzXtpUrNXvKMqUltFe71q1VO847sA+xnj+RHQCAwLNquB05OTlMTQcAAChAEUXW0mre/Ei1r93A3VubtFZjxv6hP36aqflJUnybLurSo5OquNGCLV0+XZOWLlBixxZq3qZxgb/ZMuUbqlJF7681f5mmzluu/HYQz9m0UN98MFL/99UfWpfivQgAKDRWDbfDWEWcqekAAAB7K7LacZ1WjdW5e125yeSb1mvsu+/orT9/11ol6NhuR+moDvXd4wq2RaumTNaKJTnq2KS52tbLXXOer+qHqWe3Hmpj89HXT9CHzzyu13+YrRRfISZrl5bP+FHDBg/UVZdfrysuu0r3vvCFVu70jgMACoVVw31B3PYRpyIOAACwt6KbxF2hhdp17KEmFe0N2RpNnvyrJk5Okmq1Vseju6hB+X1vJpazKUnTZy5RkuqraavOalDOO5CvBB159vk6739HunXpSRNH6fbLz9CJp/TR2WedqdNO7q1ep56vB175XqtTpMSEUkosVUIx+zHVHQCw/3xT041NTc/MzG9+EgAAQGQrwtXUCerUsZ06tbOF4jnKzsry/H+pRdMuOqp1c8/ovq1ZOFmT505SbIsmOqxL/f9svpZQrZMGDn1Oj932PzWvWVa71i3S3z9+pU8+/Uzf/PSnFq7bpfJ1mqjvtUP15U/f6slreqsGXdUBoFDlnZpORRwAAGBvRRjEpbJNj9a5V92jG6+9XgNvvF5X33yHbhx0gTo0q+x9RMGiS9XQEScN0D1XD9Bxzet4r+5bqVrtdc3jr+v3MaP14SsjNPTmQbrhxoG67b7H9dIHX+nP8eP06cj7dEKrGkX7BweACOUfxNm+DAAAIH9ROdbaFoUiJSVFQ4YM0ebNm/Xwww+rZs2a3hEAiAyTJ0/WwIED9c8//+jMM8/Uk08+qXr16nlHAQAAitdHH32kl19+Wddff7369evnvRp4FIYBAIXGv1kbU9MBAADyRxAHABQaC+Hx8fHu3KalMzUdAABgbwRxAEChiYuLc4exjulUxAEAAPZGEAcAFBqbmu6riFsIZ/syAACAvRHEAQCFxn+NOBVxAACA/BHEAQCFxn+NuAVx28IMAAAAeyKIFxF2hQMQiWx9eEJCgju3EE5FHAAAYG8EcQBAobGKuK9ZG2vEAQAA8kcQBwAUGv9mbVYRJ4gDAADsjSAOACg0/hVxC+KsEQcAANgbQRwAUGj8m7XZ1HSCOAAAwN4I4gCAQuNfEbdp6Wlpae4cAAAA/yKIAwAKja0R95+azhpxAACAvRHEAQCFJjo6eo+p6enp6e4cAAAA/yKIAwAKlVXEo6KiaNYGAABQAII4AKBQWUXcgrhNS6ciDgAAsDeCOACgUFlF3KaoWzWcIA4AALA3gjgAoFBZCLeD7csAAADyRxAHABQq317irBEHAADIH0EcAFCoLITb9HRbI25BPCcnxzsCAAAAQxAHABQqq4hbEM/OznZrxAniAAAAeyKIAwAKlYVw317iNGsDAADYG0EcAFCofFPTDVPTAQAA9kYQBwAUKl+zNsPUdAAAgL0RxAEAhcpCuC+IW8M2gjgAAMCeCOIAgEJlFXE7jO0lbgcAAAD+RRAHABSqvGvErSoOAACAfxHEAQCFyrd9mbEgbgcAAAD+RRAHABQq/4q4VcMJ4gAAAHsiiHtkpiYraf5MTRg/WyvW7fJeBQAcDP814tY1nSAOAACwJ4K4x8Lf3tTlfbqpa7cBevWzOaKtEAAcPKuG+3dNJ4gDAADsKeKD+JYFP2rkyBf0y/xd9u7R8xcS5fkfAOBg+U9NpyIOAACwt8gO4tsX6ZPnX9KH387xXgAAHCr/Zm0WxO0AAADAvyI3iGdv0eiPXtGLn36nTbtr4DneWwDAwbIQ7t+sje3LAAAA9hSxQXzxmK/13MjXNCumg3qfd5YOa15Cysj2jgIADpaFcF+zNpuWztR0AACAPUVkEN+1+De9/MhjGjU9VhdcM0iDzjtKFeKo2ABAYbA14r5mbQRxAACAvUVeEN+1RJ+/PkKvfz9H7c+6QtdffobqlpZS0wu3V3pUFC3fAEQm/zXiFsJZIw4AALCnCAviKfr7k7f01CtfKbXlyRpw3eXqVC1eqanpyimk5eEWwG09ZFpamnsDumvXrnyPnTt3en7dVGVnMx0eQHjx75pur4OsEQcAAEUpxxPm7P1GSkpKvtnLdxh7XDBksIgK4kl/f6nnR7ysaTtb6NobbtXFRzdy1wurRZuF8ISEBH399dc6/vjj1a5dO3Xq1Gmvo3PnzmrSpImuu+46rVq1yvvVABAeoqOj91gjTkUcAAAUJctho0aN0rHHHqtWrVrlm8HssLHrr7/eZTDfMrriEpVjHx9EgPS1E/XwLTfo/vdnquf1j+vZB69T8/K5Y9O+H64bb7pFfy04XENHPqN7r+10UJ9Q2CcwQ4cO1Z9//qnTTjtNlSpVKrASZI9t2rSpe7KULVvWexUAwsMdd9yhxx9/XA0bNtSIESPcayIAAEBRmT17tsaMGaPk5OTdBYG8SpQoob/++kuzZs3Svffeqz59+nhHAi8ygnjaan3w2O0aOPQ9le95nZ4dcb96tazkHSzcIH733Xdr27ZtGjZsmKpXr+4dAYDIcs8997jXwdq1a+uZZ55Rv379vCMAAADF5+OPP9bLL7/sZicX5/uTCJianqrJn7+mZ196T9vrH+f5C79aJ/qF8MLmW5+QlVW4zd8AIJTQrA0AAAQjy2vBUIsO+yC+cup3enbkqxq3pb4uuuUW/a9P673+0NHRUe6wv45oxYh+5wBwaHzrriyE06wNAABgT2EexLdpxudfa8I/K6Xszfr26UE6tm0rtWzZcvfRqlVL9R3wiCYssc55k/TcsP5q2rSBWra9SC9+Mr/QGrkBQCSxinhMTIyriNsBAACAf4V5EM9SVlqm5/97pG/X6qULNHvmHM2dO3f3MWfOXC1dsV4pbuZkijauWaJFC5dp/qIV2rglhSAOAAfBt4WZVcQJ4gAAAHsK+6npFqQJ0wAQWL4gzhpxAACAvYV5EC+n4+94Sr8sWKAFixZp0V7HEq1OWqbvXrtLhzWwleEddeODX2vR2iQtnvmurjunRfh/UgEARcC2DbEg7mtgCQAAgH+Fec6MUWKlqqrXpImaNGqkRnsdDVSjTj3VqlVVpeItiCeqUsXaalitjuo3qqWK5RJyvw0A4IBYRdy3hydT0wEAAPZEwdcjOyfHHZ4zz/+ymMoOAIfIquF2GCriAAAAeyKIAwAKnX9FnDXiAAAAeyKIm+wM29ndTpTjDgDAofCviFsQt7XiAAAAyEUQ96jXsa/uefoDvf3+/TrrxMb8pQDAIcq7Rpzp6QAAAP8ic3pUqNFUPU89Vxee11OtG1eQtW0DABy8vBVxGrYBAAD8iyAOACh0/kGcijgAAMCeCOIAgEJn09L9p6ZTEQcAAPgXQRwAUOjyTk2nIg4AAPAvgjgAoNBZCKdZGwAAQP4I4gCAQmch3L8iztR0AACAfxHEAQCFzn9qulXDqYgDAAD8iyAOACh0to84FXEAAID8EcQBAIUuOjp69xpxmrUBAADsiSAOACh0FsTtMDRrAwAA2BNBHABQ6GJiYgjiAAAABSCIAwAKnYVwWyduaNYGAACwJ4I4AKDQ+Qdxq4jTrA0AAOBfBHEAQKGzqem+rulMTQcAANgTQRwAUOioiAMAABSMIA4AKHQWxBMSEtw5FXEAAIA9EcQBAIXOgrhvH/Hs7GyCOAAAgB+COACg0PmmpttacQvhFsYBAACQiyAOACh0vmZtviCelZXlHQEAAABBHABQ6HwVcbu1anh6erp3BAAAAARxAECh8wVxWyduQZyu6QAAAP8iiAMACp1NSfdfI05FHAAA4F8EcQBAkbA14r6KOEEcAADgXwRxAECR8K0Rt0ZtNjWdzukAAAC5COIAgCLh65puQdwq4nROBwAAyEUQBwAUCf9mbRbEqYgDAADkIogDAIqEVcT9p6ZTEQcAAMhFEAcAFAmrhtvhm5pORRwAACAXQRwAUCSsGm5rxA0VcQAAgH8RxItIVFSU9wwAIpOvIm5o1gYAAPAvgjgAoEhYNZwgDgAAsDeCOACgSFizNjsMa8QBAAD+RRAHABQJq4azRhwAAGBvBHEAQJGgIg4AAJA/gjgAoEj4rxG3inhmZqY7BwAAiHQEcQBAkfDvmm7T0qmIAwAA5CKIAwCKhE1LT0hIcOcWxFkjDgAAkIsgDgAoEjY13bdGnIo4AADAvwjiAIAiYdPSfUHc1ofbOnEAAAAQxAEARcR/ajrN2gAAAP5FEAcAFAn/qekWxKmIAwAA5CKIAwCKRN6p6TRrAwAAyEUQBwAUCQvi8fHx7pyKOAAAwL8I4gCAIuG/j7hVxFkjDgAAkIsgDgAoEhbC/Zu1paenu3MAAIBIRxAHABQJ/6nptj6cIA4AAJCLIA4AKBLWqM0XxC2EE8QBAAByEcQBAEXGNzU9LS1Nqamp7hwAACDSEcQBAEWmRIkSioqKctVwgjgAAEAugjgAoMjExMS4IG7N2qwqDgAAAII4AKAI2dR0q4pTEQcAAPgXQRwAUGQshFsYt2o4zdoAAAByEcQBAEXGQrh/wzYAAAAQxAEARci2MPMFcZuanp2d7c4BAAAiGUEcAFBk/CvirBEHAADIRRAHABQZ/yCelZXlDgAAgEhHEAcAFBlr1maHsYo468QBAAAI4gCAImTV8Pj4eHduXdPpnA4AAEAQBwAUIQvhviBORRwAACAXQRwAUGT814hbNZwgDgAAQBAHABQh/yBuIZyp6QAAAARxAEARyhvEqYgDAAAQxAEARcjWh8fFxblzgjgAAEAugjgAoMj4V8RtWnpGRoY7BwAAiGQEcQBAkcm7j7gdAAAAkY4gDgAoMrGxsUxNBwAAyIMgDgAoUr59xG1qOl3TAQAACOIAgCLmPzWdIA4AAEAQBwAUMf8gztR0AAAAgjgAoIhZ13RbJ04QBwAAyEUQBwAUKQvitk6crukAAAC5COIAgCLlC+I5OTnKysryXgUAAIhcBHEAQJGyNeIWxg1T0wEAAAjiAIAi5lsjbgjiAAAABHEAQBHzTU03tkac6ekAACDSEcQBAEXKP4hbRTwjI8OdAwAARCqCOACgSNkacYI4AADAvwjiAIAiZSHcf2p6enq6OwcAAIhUBHEAQJHKu0acijgAAIh0BHEAQJGyjun+QZzO6QAAINIRxAEARcoq4nYY1ogDAABEYBDfuTFJf7z/vK4+u5eaNa2nhs3bqdf5N+jFT37Xii0p3kcBAAqLVcRjY2Pdua0PZ404AACIdBEUxDO14M93dE2/49TTE7xf/uRHLViYpKXzZ+hHTzC/9uyeOrHvVfrgn4Vi0iQAFB4L4RbGDWvEAQAAIiiIrxj7kR64fbDe/Wux8n8LmKl5nqB+9y33atS4JO81AMChiomJcYehIg4AABApQXzrLH36/tv6bPxKKaGqjj3/Lo36a7qSVq/RutUrNeG7N3Vpz1Yq5Xnokom/6u3Pf9bC7blfCgA4NBbCbS9xY2vECeIAACDSRUQQXzRxkv4YPVWpStSJ19yr5597WKcf2VZ1alRX1Rq1dFjvi/Xc88N19Wmtpez1WjTlTy1avt771QCAQ2FT031B3EI4U9MBAECki4AgnqMKLQ7XtQ+P1Eeffqzhg/qrWQXvkJ/Eph3UpXNXVfGcr926UWu2b8sdAAAcEv+KOFPTAQAAIiKIR6lS7aY6se9ZOrv/yWpZt7pyVyrmFa3omCh3Vj6xjCollnbnAIBDY0Hct32ZVcMzMzPdOQAAQKSKmGZt/2XHgin6/e8x2qAyatHuWDWvV8M7cuDsTWdUVG6oB4BI56uIR0dHuyDO1HQAAFCcgiGrReV4eM8jiv2p7e8/I2WTpv/1hV544jm998sMVT/ifD064lGd17m295H7LyUlRffcc4+mT5+uSy65RNWqVSuw8mNTM2vUqKFWrVqpVClrEwcA4cm2LHvyySf1wAMPqEqVKnr22WfVv39/7ygAAMChW7lypebPn+8aw9qH//mx3PXtt9/q999/11133aW+fft6RwIvYoP40gkfaOCgwfp6zDLFegJ5Zk60WvW9To8/fI9ObmErxQ+cvdm8//77NXLkSJUvX14lS5b0BP69/3rtE5gtW7bo1FNPdY+vU6eOdwQAwo9VwIcPH+5e70qXLq2nn35a559/vncUAADg0H388cfug/+1a9fu7k2TlwX0NWvWuMLAiBEjXB4rLhEbxCd/84Tuf+r/tHhrKWnbci1Ytl0VGnXSqWdfossu7q/uTasUsJa8YFYRv/vuu7V06VLdcsstruJd0BRMq5SXLVtW1atXV1xcnPcqAIQf+zHz3HPPuddHe717/PHHdfnll3tHAQAADp0VOjdu3OhyVkEVcSsIfPLJJ/r0009dXjvjjDO8I4EXoWvEc9So69l6+rVR+vH7b/XDz3/o61cHq0OppXrj4Wt0xY336Lvpa7yPPTD2hrNChQpq2LChO5o1a5bvYVPSrRJOCAcQ7mwWkH0ybWvF7YejTRkDAAAoTJbBmjRpohYtWuSbv+yoVauWK5ZaE9nirkdHaBCPUvkq9dS4UTPVrl5DdRq1Vq/L79dzw4fqlDZlNf/H9/TaW19rSYr34QcoKyur2P/DAkAwsSBuHzxaELdlPPY6CQAAUByCIavRNd1P02P668I+J6uWdurPCX9r3OyN3hEAwKHIG8TtFgAAIFIRxP1FV1DN5uVVpZq0dck6rVyx3jsAADgUFsJtarpVwm1qOhVxAAAQycI/iGenaUPSbP3z+8/6c8I8rduS7h3IX2aqlGX91dI8bxJTeaMIAIXBgrgdBHEAAIBICOJRyRr/1Qhd2PdEHXfK//Tyd+NV4NLvHYs1e/ISLdsslW5cWdUbVPYOAAAORWxsrAvihqnpAAAg0kVAEK+oRo26qFn1KsraOFWff/ilxs71JO29bNNv77+u1z75RTs89zo1baU2jWvkDgEADomvIm5o1gYAACJdRKwRb3FED5126mGqECVN/+YlXX/ltXry1Y/18+hf9etvv+jbL9/W3VeeqysGD9f0jdkq1bSnTju3rzpQEAeAQhEfH+8OQxAHAACRLjKatZVtrv9ddoMuObGVYrRLc//+SLddeY5OPOF4HX9cT516xsV66NUftGRzluKrt9NVN92mi09s4/1iAMCh8g/irBEHAACRLjKCuEf5lr109zMv6e4LjlHlklHeq17ubpzqdThdj774su67sqcq586gBAAUAv8gnp6ezhpxAAAQ0SImiJuKzY7UfW9+p8mTRuulx27VBf1OU++efXXpNfforR//1pg/P9Wgvl1VNsb7BQCAQmHrwxMSEty5hXCCOAAAiGQRFcSdmJKq2/JYXXX7E3rns6/03U9f6PWRD+iiE7uoZmnK4ABQFKwaXqJECXdu09KZmg4AACJZ5AVxAEDA+VfEbY24HQAAAJGKIA4AKHJWEfcFcVsjbgcAAECkIogDAIqcf0XcQnhGRoY7BwAAiEQEcQBAkbMQ7lsjbtPSqYgDAIBIRhAHABQ5/4q4VcNZIw4AACIZQRwAUOT89xGnWRsAAIh0BHEAQJGLjY3dPTXdpqUTxAEAQCQjiAMAAsK/WVtqaqo7BwAAiEQEcQBAQPgq4qwRBwAAkY4gDgAIiJiYGHdrIZyKOAAAiGQEcQBAQFhF3A6bms72ZQAAIJIRxAEAAWFd022dOM3aAABApCOIAwACwqrhFsRzcnKYmg4AACIaQRwAEBBWEfc1bKMiDgAAIhlBHAAQEFYN921hRkUcAABEMoI4ACAg/IN4VlaWsrOz3TkAAECkIYgDAAIib0WcqjgAAIhUBHEAQEDYGvG4uDh3bmvEWScOAAAiFUEcABAQvn3EjVXDCeIAACBSEcQBAAHhPzU9IyPDHQAAAJGIIA4ACAibmm6HYWo6AACIZARxAEBAEMQBAAByEcQBAAFh68N9U9PT09MJ4gAAIGIRxAEAAeFfEbdmbRbGAQAAIhFBHAAQEP5d05maDgAAIhlBHAAQELGxse4wBHEAABDJCOIAgICIjo7evUacIA4AACIZQRwAEDD+QZw14gAAIFIRxAEAAeML4tasjYo4AACIVARxAEDAWLO2mJgYKuIAACCiEcQBAAHj65zO9mUAACCSEcQBAAFjU9Pj4uKUmZmpjIwM71UAAIDIQhAHAASMVcMtiBvWiAMAgEhFEAcABIwFcV/DNqamAwCASEUQBwAEjFXDY2Nj3bmtE8/KynLnAAAAkYQgDgAIGP+KuE1NZ504AACIRARxAEDAWAiPj4935ykpKUxPBwAAEYkgDgAIGP8gTkUcAABEKoI4ACBgLIT7gritEbdtzAAAACINQRwAEDAWwn3bl9m0dKamAwCASEQQBwAEjH9FnKnpAAAgUhHEAQABY1uX+SriNjWdijgAAIhEBHEAQMBYCPcP4lTEAQBAJCKIAwACJiYmxlXFDWvEAQBApCKIAwACxoK4bWFmWCMOAAAiFUEcABAwVg0vUaKEO6ciDgAAIhVBHAAQMP5B3CridgAAAEQagjgAIGBsaroviGdmZiorK8udAwAARBKCOAAgYKwi7lsjThAHAACRiiAOAAgYX0XcArkFcZq1AQCASEQQBwAEjK9rut1aELe9xAEAACINQRwAEDC+Zm1xcXEEcQAAELEI4gCAgImOjnZB3CriNi2dIA4AACIRQRwAEFD+a8Rt+zIatgEAgEhDEAcABFR8fPzuNeIEcQAAEIkI4gCAgLIg7quI29R0gjgAAIg0BHEAQEBZozb/Zm0EcQAAEGkI4gCAgLJp6XYYpqYDAIBIRBAHAASU7SNuDdsMFXEAABCJCOIAgICyaem2TtxQEQcAAJGIIA4ACCiriPuCOBVxAAAQiQjiAICAshDuC+Lp6ekEcQAAEHEI4gCAgPKfmm4hnCAOAAAiDUEcABBQ/s3aMjIy3AEAABBJCOIAgICyiriFcWNT0+0AAACIJARxAEBA2bR0XxC3rukEcQAAEGkI4gCAgLKKuG9qOhVxAAAQiQjiAICA8l8jThAHAACRiCAOAAgo/67pTE0HAACRiCAOAAgo/zXiFsItjAMAAEQSgjgAIKDyrhFPTU115wAAAJGCIA4ACLhSpUq5W6uGp6SkuHMAAIBIQRAHAAScb2q6hfBdu3a5cwAAgEhBEAcABFzJkiXdWnEL4lTEAQBApCGIAwACzoK4TU+39eFUxAEAQKQhiAMAAs6CuB2GijgAAIg0BHEAQMBZCE9MTHTnVMQBAECkIYgDAALOgrhvCzPrnJ6dne3OAQAAIgFBHAAQcP5B3CriVMUBAEAkicAgnq2Ureu0YOZk/fHHr/rll981bvJsrd68Q5neRwAAipYFcd9e4rZG3Jq2AQAARIqICuJpmxbp69eG6Ypz+6r3icfp+OOPV8+ex+mEnj11Sv+LdM9TH2veyp3eRwMAigoVcQAAEMkiJoinrJigJ267UudfNVTv/zhOS9ZuV1aWjeQoecsaTfv9Sz1622W6+PaH9fvCLe5rAABFw4K4Hcaq4VTEAQBAJImMIJ68WB+NeEzPvfGbdmRL5arUU+fDj1XvXr3Vu/dJOqpLG1UvW8KTyZM14YMX9NCI1zVrPRPVAaCo+Adxm5rOFmYAACCSREQQXzzhH301eozWK0rNjjlPT7/zhUaP/kXfff+dvvvuB/0y+ie9/+wdOrpFVc+jt+m3X3/Qd5Pn5X4xAKDQ+Qdxm5ZOEAcAAJEk/IN49ibNnPG7pixeqxK1jtaVA+/QxSd1UNmEKO8DchRburqOvfh23T/of+pQXsqat0wLJi3zRHIAQFGw9eG+NeJMTQcAAJEm/IN4RqbKVa6tLkcfpT7/O1vd2zRSjF2P8gXxKM//TCm16dpdrTtU95yv0uY1K7WF94UAUCRiYmIUHx/vzpmaDgAAIk3YB/Gc+Ko65n/366Ovf9cHj12tbg0TvSN7i45NkOJiPWelFJdQVnG57xEBAIUsKipq9/ZlTE0HAACRJuyDuL3Zy3sUZP3Kxdq4bKVUur6qta6nqhGxgh4AAs9ei31rxJOTkwniAAAgohA1fXYu1O/f/KY/F0h1OjbRMR0aKM47dKDsDWZOTo47t9t9HQAQiex1MjExUQkJCS6Es0YcAAAcqvzylv8RTKI8vyHSoHbqj7cf0aC7HtXUzXV02f0jNGxQX9U4wCRubyTvu+8+vf/++2rWrJnKlCmj7Oxs7+i/7A3o9u3b1aNHD11zzTWqVq2adwQAIsdLL72kO++8Uzt27NDzzz/vXg8BAAAOxi+//KK33npLmzdvVlxc/kHOrs+fP1+ZmZl67LHHdNppp3lHAo+KuLI0/dvXNOyRkZq6WjrynIt0zQUnHXAI97HPNazKU7t2bdWtW1d16tTZ67Cx+vXrq2rVqq5hEQBEIpuabp3T7QNLWycOAABwsCyD1axZM9/85Tssn1WuXFmxsdYXrHhFdkU8J1lTPn9Bt9z9qH6ft1nNe9+opx6/Wye3ruJ9wIGx6ZVDhgzR1q1bNWzYMPdE2J+/3n2tWweAcPXJJ5/o1ltvVVJSkh588EH3+snrIQAAOFD7G2ntfcZHH32kl19+Wddff7369evnHQm8yK2IZ2zRr289pmtuedATwreq2YnX6JFhtx90CPfnPx3d/mP/1wEAkci6ptsacWMV8fT0dHcOAABwIPLLWPkdwSQig3jW9iR98OgtuuamBzVhearanXGTnnnmAfXtWEtixTwABIQFcZuabiyI07ANAABEiggL4jnaMPtH3X3FObr63je0ILWqTrruMb3x7AM6qXnl3AxOgRoAAsKq4f5BnIo4AACIFBEVxJdN+FiDbrhaj34yTrsqttQV97yoF4fdqA61E904GRwAAsdCuG9quvXYSEtLc+cAAADhLmKC+IrJH+vOW+/Ue78tU/kGx+iB51/XiMH91KB8NLPRAaAYxMfH71ERJ4gDAIBIERFBPGvVJL01/Fl9+tcyVWjTRw+9/ILuOq+rEqMsgkdRCQeAYmDVcN8+nwRxAAAQSSIgiKfor9+/0md/TFSW517UtkX67JkhOuvMfurb9wzP0Xevo3evE3XdQy9p6tqM3G8BACh0FsKtKm6sURtrxAEAQKQI+yCetX6Bpv78l5atzH2Dtzlptn799gt9+tkXGjVqVL7HDz/+rNHjZ2hdskV3AEBRsCCemJjbo4Ou6QAAIJKEfRDftHa1JiWt1Vbv/f1lk9ZZOw4ARceCuG1hZmxaOlPTAQBApAj7IF6mXkfd9OCL+mLU1/ruu+/26/j6q6/06r3X6rAauWsXAQCFLzY2ViVLlnTnNi2dqekAACBShHkQz1GJslXV+fCj1ee0U9SrV6/9Ok459VT16NRKlUpGwBJ6ACgm/hVxC+EZGfTlAAAAkSHMk2aUoqIO7QAAFA3fGnG7tSBue4kDAABEAkq+AIBiYQHcpqbbFHUL4tawDQAAIBIQxAEAxSImJmZ3RdwatSUnJysnhzaZAAAg/BHEAQDFxtaIWxC39eG2fVl2drZ3BAAAIHwRxAEAxcZ/arpVxDMzM70jAAAA4YsgDgAoNhbC4+PjXUXc1ogTxAEAQCQgiAMAik1CQoI7DEEcAABECoI4AKDY2NT0EiVKuHOCOAAAiBQEcQBAsbEQbg3bjAXxrKwsdw4AABDOCOIAgGJjQdw3Nd0atlERBwAAkYAgDgAoNhbCfRVxa9hmYRwAACDcEcQBAMXG1oj7T01PSUlx5wAAAOGMIA4AKDY2Nd3CuElLS6MiDgAAIgJBHABQbPyDOBVxAAAQKQjiAIBi479GPDU1lSAOAAAiAkEcAFBs/CviFsTtAAAACHcEcQBAsYmJidldEbdquE1PBwAACHcEcQBAsfKviBPEAQBAJCCIAwCKlU1PN1YRZ404AACIBARxAECxsqnpdhDEAQBApCCIAwCKlVXELYhnZWUxNR0AAEQEgjgAoFjZGnFfw7adO3e6WwAAgHBGEAcAFCsL4b514unp6e4WAAAgnBHEAQDFyirivs7pycnJ7CUOAADCHkEcAFCsrBruC+I0bAMAAJGAIA4AKFb+FXEL4VTEAQBAuCOIAwCKlf8acSriAAAgEhDEAQDFyn9qelpaGhVxAAAQ9gjiAIBiZRVx1ogDAIBIQhAHABQrq4j7pqZb13SCOAAACHcEcQBAsYqJiVF8fLw7t2npNj0dAAAgnBHEAQDFyoK4TU83VhG3AwAAIJwRxAEAxco/iFtFnGZtAAAg3BHEAQDFKioqyjVri42NZY04AACICARxAECxsiDu20vc1odnZGR4RwAAAMITQRwAUOwsiCckJCgrK4up6QAAIOwRxAEAxc6mplvn9OzsbO3atct7FQAAIDwRxAEAxS4xMdFNTc/JyXHrxJmeDgAAwhlBHABQ7KwiblPTjTVrYy9xAAAQzgjiAIBi5x/EbWo6QRwAAIQzgjgAoNhZCLep6campqenp7tzAACAcEQQBwAUOwvhVMQBAECkIIgDAIpdbGys65pubI04zdoAAEA4I4gDAIqdVcN9Qdwq4uwlDgAAwhlBHABQ7CyEW8M2Y9PSmZoOAADCGUEcAFDs4uLiVKpUKXduIZyp6QAAIJwRxAEAxS5vEKciDgAAwhlBHABQ7CyIJyYmunML4WxfBgAAwhlBHABQ7HwV8aioKBfEadYGAADCGUEcAFDsfM3abBszWx9undMBAADCFUEcAFDsfBVxC+I2LZ0gDgAAwhlBHAAQFCyIWyC3qekWxHNycrwjAAAA4YUgDgAICr6KuE1NT0lJUWZmpncEAAAgvBDEAQBBwarhtlbcNzU9KyvLOwIAABBeCOIAgKBgIdwOC+AWxKmIAwCAcEUQBwAEBeuaXqJECXdOEAcAAOGMIA4ACAoWwm2duLEgnp2d7c4BAADCDUEcABAULIj7KuLWOZ014gAAIFwRxAEAQcGmptthrGGbHQAAAOGIIA4ACAr+QTw1NdUdAAAA4YggDgAICjYt3RfEbR9xOwAAAMIRQRwAEBQSEhJ2N2ujIg4AAMIZQRwAEBT8K+LWNZ2KOAAACFcEcQBAULAQ7quIW8d0uqYDAIBwRRAHAASF+Ph4JSYmuvOMjAy6pgMAgLBFEAcABA1fEF+/fr3WrVvnzgEAAMINQRwAEDTKlCmjmJgY7dy50x0AAADhiCAOAAgaFsTtsI7pO3bs8F4FAAAILwRxAEDQsKnpFsQNFXEAABCuCOIAgKBhIbx06dLu3CrimZmZ7hwAACCcEMQBAEHDQrgviFtFPDk52Z0DAACEE4I4ACBo+Afx7du3E8QBAEBYIogDAIKGhXDfFmZ0TgcAAOGKIA4ACBr+a8StGk5FHAAAhCOCOAAgaJQqVcodxpq1UREHAADhiCAOAAgasbGxBHEAABD2COIAgKARHR29xz7iTE0HAADhiCAOAAgaVhEvW7as4uLiqIgDAICwRRAHAAQNX0Xcpqenp6crLS3NOwIAABA+COIAgKBiQbxkyZLKzMx0VXEAAIBwE/FBPGf9DD1yzpE67PDT9dWU5d6rAIDiYlPTrSKenZ2t7du3KzU11TsCAAAQHiI7iGdv1LcfvKhXv/5HazJylJGR6R0AABQXq4iXKFHCnRPEAQBAOIrcIJ69Q3++M0LDhr+tpSlSfGyUorxDAIDiY9PSExMT3bk1a0tJ8bxIAwAAhJGIDOJZu1br46fv1FW3PKnxy3flXiSFA0BQsCBORRwAAISzCAvimVo5/ScNvfJ/uuHuFzQvJVaVypZXvGckO/cBAIBiZiHc1ogbC+JUxAEAQLiJnCCetUk/vTBE/U8/Uw+994fWx9TTRTfcqdsuOV21PcOZ2Tm5jwMAFCv/IL5r1y6COAAACDuRE8Qztmj2tJmakbRDdbucqqff/UKvPnqb2tQtK1q0AUDwsCBuDdtMcnIyQRwAAISdyAniOTFq2PF43fXwu/r2yw806IwOileasjJyRC0cAIJHQkKCypUr587T0tKUnp7uzgEAAMJFxATx7IRa6nXZDbrr9v+pVfXEIg3fMTExioqi+xsAHAwL4raXuLFquHVOBwAAKCzBkNUiJohHRcUpPi5OsdFR7i++qP7q7Xtv3LhR8+bNc8fMmTM1a9asvY6pU6dq6dKlVHoAIA/rmm5T0+Pj413H9B07dnhHAAAA8rd582bNnTtXM2bMyDd/WS6z/LVixQqXwYo7jEdQEPcG8CL8+7bvb5WcX375Rf3799exxx6rnj176oQTTtjjsGvdu3fX4MGDtWbNGu9XAwBMdHS0SpcurdjY2N0V8ZwcFhEBAICC/fDDDy6DHX300QVmsCOOOEJDhgzR6tWr3Qf+xSnK8+Ymgt/dbNfXjw7WdXeNVHbXU/XsMyPUr2sj79iBszeM99xzj6uEX3vttapRo0aBFe+MjAxVqlRJDRo02L1fLgAg1zvvvKMbb7zRVcQfeOABDRo0yAVzAACAvCzSbtiwYXe12z7Uz09iYqK+/PJLfffdd7r99tvVt29f70jgRU6ztgDJzs5WtWrV1KFDB3d06dIl38M+jWnevLmroAMA9mSfUtuHlL6p6fbhJQAAQEGqVKmijh07qlu3bvnmLztat26tJk2auGVwltuKE0G8CGRlZe2eRvnvlPiCDwDAnmyNuE1PN9u3b3evqwAAAPnJL2Pld/gEw6RwgjgAIOiUKlVqdxCnIg4AAMINQRwAEHT8K+I2PZ0gDgAAwglBHAAQdPwr4snJye4AAAAIFwRxAEDQsRBOEAcAAOGKIA4ACDq2vYhNTze2jzhBHAAAhBOCOAAg6BDEAQBAOIvwIJ6tTGV5/iflZHvuFX8XewCAR0JCwu4gbiHcOqcDAACEiwgP4vGq26qrTutzsk47/nDVr5L7pg8AUPysKm4shBPEAQBAOInsIJ5TUh1PvVgvfvGNXnz4TnVqWEUUxQEgOFhFPDY2lqnpAAAg7ER2EI+K8vxfnsM7BAAoXmXLlnWH7SO+bds271UAAIDQR7M2AEBQ8t/CzKriAAAA4YIgDgAISrZG3LdO3IJ4ZmamOwcAAAh1BHEAQFCyNeK+zunWrI2qOAAACBcEcQBAULJp6f6d03ft2uXOAQAAQh1BHAAQlKwa7h/EqYgDAIBwQRAHAAQlC+G+qem2fRlbmAEAgHBBEAcABKUSJUq4w1ARBwAA4YQgDgAISjExMXt0TaciDgAAwgVBHAAQlGJjY1WuXDl3TkUcAACEE4I4ACAoWUXcOqcnJCS4anhKSop3BAAAILQRxAEAQckq4tasrWTJksrIyCCIAwCAsEEQBwAErbJly+4O4tu2bfNeBQAACG0EcQBA0PJVxDMzM90acariAAAgHBDEAQBBy4K4bwuz7du3Ky0tzZ0DAACEMoI4ACBoWTW8VKlS7tw6p1MRBwAA4YAgDgAIWlYNpyIOAADCDUEcABC08lbEU1NT3TkAAEAoI4gDAIKWVcNtL3Gza9cupqYDAICwQBAHAAQtC+K2hZmxEE5FHAAAhAOCOAAgaFkQt87phiAOAADCBUEcABC0EhIS9qiI2zpxAACAUEcQBwAELWvWZhXxuLg4F8R37tzpHQEAAAhdBHEAQNCKiopyFfHY2Fgq4gAAIGwQxAEAQc22L/NVxG0v8czMTO8IAABAaCKIAwCCmjVsszBujdqsIk4QBwAAoY4gDgAIarZG3LeXuAXxrKwsdw4AABCqCOIAgKCWmJi4RxCnIg4AAEIdQRwAENQshPuCuE1PT09Pd+cAAAChiiAOAAhq/kE8OTmZLcwAAEDII4gDAIKa/9R0C+EWxgEAAEIZQRwAENQshNte4mbz5s3asmWLOwcAAAhVBHEAQFCzEO4L4lYNpyIOAABCHUEcABDUoqOjVb58eXe+detWKuIAACDkEcQBAEGvQoUKiomJ0aZNmwjiAAAg5BHEAQBBr2LFiqpUqZLbQ9zWiQMAAIQygjgAIOhZEPdNT7eKuAVyAACAUEUQBwAEPQvhviBuFfFt27a5cwAAgFBEEAcABD1bI+4fxK1pGwAAQKgiiAMAgp4F8XLlyrlzC+EEcQAAEMoI4gCAoFeyZEklJia6cwvh27dvd+cAAAChiCAOAAh6cXFxrmu6sWZtVMQBAEAoI4gDAIKeL4gnJCS4anhycrJ3BAAAIPQQxAEAQc+CuG1hZtPT09LS2EscAACENII4ACAkWEW8TJkyLohv2rRJKSkp3hEAAIDQQhAHAIQE277MKuI5OTmuIr5r1y7vCAAAQGghiAMAQkLp0qXdYawizjpxAAAQqgjiAICQYNVwm5purHM6FXEAABCqCOIAgJBgIbxChQru3KrhVMQBAECoIogDAEKCVcStc7qxLcx27tzpzgEAAEINQRwAEBIsiFvndGNB3KanAwAAhCKCOAAgJJQqVcpVxG1PcauGs5c4AAAIVQRxAEDIsDXiCQkJ2rFjhwviWVlZ3hEAAIDQQRAHAIQMa9hWtmxZpaamuiCemZnpHQEAAAgdBHEAQMiwinj58uXdue0lThAHAAChiCAOAAgZ5cqV2x3Ebfsy9hIHAAChiCAOAAgZ1qzNF8Stazqd0wEAQCgiiAMAQoZVxG16utm6das7AAAAQg1BHAAQMqwi7ttL3KrhBHEAABCKCOIAgJARExPD1HQAABDyCOIAgJBiVXEL5NY1nYo4AAAIRQRxAEBIsTXiFsYzMjKoiAMAgJBEEAcAhBRbI25N24wF8aysLHcOAAAQKgjiAICQYmvEfevEN2/erG3btrlzAACAUEEQBwCEFJua7tvCjHXiAAAgFBHEAQAhxaally1b1p1TEQcAAKGIIA4ACCklS5ZUqVKl3LmF8O3bt7tzAACAUEEQBwCElPj4eFWpUsWdW7M2pqYDAIBQQxAHAIQUC+LWOd1ud+zYoeTkZO8IAABAaCCIAwBCigVw20c8MTFRqampbp04AABAKCGIAwBCjlXEy5QpszuI2y0AAECoIIgDAEKO7SNuFfHs7Gy3hdmuXbu8IwAAAMGPIA4ACDkWwkuXLu3OrSJOEAcAAKGEIA4ACDkWwgniAAAgVBHEAQAhx9aHW8M2s3PnTjqnAwCAkEIQBwCEHKuG+wdxKuIAACCUEMQBACHHgrh1TjcbNmzQ1KlTtW3bNncfAAAg2BHEAQAhp2TJkq4ibnuKr1ixQnfddZc++ugj7ygAAEBwI4gDAEKSbWFmQdzY9PTt27e7cwAAgGAXkUE8M3Wbls6eqNHffqMvv/hKP/4+TgvXbFR6To73EQCAYFe2bFl3AAAAhJrICuI5KZr3+ye6+6pzdNrJp+iU0/vojH59dNppJ+vkPv107ZDn9M/8Dd4HAwCCmVXE7QAAAAg1ERTEszX1+5d0zXVX6rG3f9TspA1Ky852Ixk7t2jRxL/0f4/cqssHPqgvZqx31wEAwatChQoqV66c9x4AAEDoiJggvnHSZ3rmkRH6fc5Wz5+6hGo376yT+56l8847R6efeISaVCvr+cvI0Pwf39Mrr3yseRtzQzoAIDhZEKciDgAAQlGEBPEN+uXnn/Tj2CTPeQUdecEtemfU1xr1xcd6//0PNeqb7/TRK0N1UqcanvHNGj/2R/09d4n7SgBAcLIQbmEcAAAg1EREEM9YOl2zp47R2iyp+XH/05BbB+qYptUV4+3NlhNbVh1OH6j7b71Uh3uy+JYp8zV23HxtzR0GAAQh277Mt5c4AABAKImIIL5m6TotnLvZ86etoNbHdFPLJlXc9agod+O9jVHb7ieqc9d2nvOFWjJnipZvsesAgGAUExNDEAcAACEpAoJ4ppK2rtaCbVsUXbaO2jeoq2olvEN5JFSrr9aew1Yczl2TpIVrduQOAACCUo0aNXZvYZbtbcAJAAAQ7CIgiO/S9k1rtH1nmkqWrKUqpaorwTuylxLlVaNBOVWOktat36YNm7d7BwAAwciCeNWqVd35unXrlJqa6s4BAACCWfgH8axUpexcq7Q0KaZEGcWWKKAc7pRUmWqlVMp6/yRnKCslPfcyACAoWQivUiV3udGaNWu0YcMGdw4AABDMwj+I56QrO8tzZEqxVRNVsvK+grg1bvP8v3jPsTZFu9anuGsHKjo6WlG+BegAgCJTvXr13RVxC+KbNm1y5wAAAMEsKsfDex6eMlfqkxE36aYhnym98wCNfPYRnd2poOY+6fr93YEaePtLmrH+GD34wnANvrL9fn9aYVMihw4dqq+//lpdunRRuXLllJWV5R3dU2Zmpuv4W69ePZUoUaLAxwEA8hcfH6+tW7fqnXfe0YQJE1S7dm1ddNFFat26tVJSDu6DVAAAQpGvCPhfxUD/8bxfY8VEXzS084Lkfcx//ZqBsn79eq1atUrp6emuoWt+Mddy1+TJk7V69Wo99NBDOu2007wjgRcRQfzj4Z4gfvdnyuh4hV7wBPGzDqvsHczLG8Rv9QRxnagnRg7Xrf1besf+mwXx+++/Xy+99JIqV66skiVL5vsEMNZUqFSpUm4f3IKeKACAgtkbAPsQc9GiRVq6dKni4uLUvHlzF8j5cBMAUJQKCp92Pb9Amzf0FnRbkPweb3nCft5Zgc93a0dBzUvtuu8xeb8mv/v55RO75v/r2lHQrxfMGjdurBEjRuiUU07xXgm88A/iORv11fO36MbBb2tr1XM14vkndUnvWt7BvDxB/E1PEL/ZE8Sr9NGzzz+tG3o29I79N6vA3H333Vq+fLnuuOMO1apVy30ikx97wiYkJLhuvxbEAQAHJjY2VmlpaXrqqaf06KOPuiD+wAMP6JprrnHjofjGAACwb/6B1c7zC6j+/O/7x579Obev/a/H2a39vLGfR1aUs1v/w65ZRrBM4H/drtmtXfed5xd+7fdgodf3ve3Wd26PtzE77Pfgu5/3e/jYY3yPz/s1ee/buR152ff2/Zl9X2dfk99jg5kF8WeeeUYnn3yy90rghX8Q10798H8P6Ibbn9DaEr319PPPaMAZTbxjeW3VN4/fqEF3vKPFnc/VC88N19XdqnvH/pv9IxoyZIibKjls2DDVrFmzwH8IAIBD43tz9dprr2nw4MFuffidd96pu+66S6VLl+b1FwDCjO91317fLQBmZGS4w0Kp3foCoX9I9J1beN21a9fuQOwLtHbYe3i79YXivNftsK+xw/+a77Bf235Pdtiv53/rf/hfy+9xCJwmTZq4ijhBvEjlaNwXz2vgwLs0cUc93ffM87r9omOVb8u21OV64/abdOtzXyrhpCv0/PCn1K9F7v60+8MXxDdv3uzWHFhFHABQtD7//HPdcsstWrZsmS655BI98sgjrokbAKD4WTj2BWZf0N25c6e7TU5O3n3uq/DmDdZ2a2HXvtYO33372u3bt2vHjh3ue9itBW0bs6/3PdZCOCE3eNjsNTusz4v/FP7/Yh/C2Ew4/6/3nec9bKyg72/j8+fPd88Nm03HGvEitvr3T3TnwIF6Z3aK+t7/rEbceqHq5bOZePrKv3XbTTfp2c8m66gL79Pwp4eqY0HLyfNBEAeAwLMGmYMGDdLixYvVu3dv9wl306ZNvaMAgANh0cA/Hti5VW0t+G7btm33sWXLFheEbSao/3W7b6HYQrSFYLv1nfsq0xaUfbe+w/eYCIgmB803I8DYuR221NX6UtmtNSKzcwusef8e7bG2HNYe53us79z/ay3A2q3dt++Tl31fu+77ev/b/B7vY2P+h/1efOvn95c93ve1eb9X3nO79f/78rE/2/vvv69XX31VN9xwg/r16+cdCbyICOI5K//Qg3fdpKHvTlPDowZo+IgHdXqHat5Rn0xNfP9e3XTrIxqzprEufvApPX336aroHd0fBHEACDz/IN69e3cXxG3nCgCINBaYfSHXDqsQW+XPqsN23SrHFpR9IdpufeHZDrtmgdv/e/gCs4Vk+/75HaEaJyyoWWizgGfBzRfifKHVDt+YVVLzu26HfY0FWAujeQ9fqPUPuL7g6n9uY75fw5/93dqv4Xus/9fa4+33YV/juzV2XhB7TH6H/9eHM/szfvTRR3r55Zd1/fXXE8SL3hZ99tQ9GnTXSK3IKKt2p12kewffpFO7NXJbhuekbtLYL1/SfQ89p59nrVPp1r316PARuu6EA6uoEMQBIPD8g7h1TX/yySeLtQsqABQmC8BWYbbQbO8x7dzCsh0WtO3WrlmItnE77LHWN8MXtC2AWyAPZRZGfdOOLYxacE1MTFSZMmXcufUGsR2JbMwXjH2Ptfv2tRZefdfzHr7vXdBh38du8z7Ofl/hIhKCuCGIB9iWaV/oppsG6e0/lnvuxahKzQZq3KiuypSIVsrW9Vq2aLFWb0lWVnQlnXzDAxox9Bo1qXBgT0aCOAAEnn8Qr1q1qnv9veKKK7yjABA87G2377BKsoVsC9C2//G6deu0du1ad+u7b4eNW+D2HVad9h1W6bbvEwx8FVVfddUXfP0ruHZYYLbteytUqKBy5cq5w3YRshDte4wvaFvQtRDtX3n23fqCsD3WF5Lt1sYCWd2NlPAaTgjiAZemiZ89qVvveER/Lk72XsurpNr0vVFPPHK7Tmp+IJPScxHEASDw/IO4vQG799573WvxvqbmAUBhsjBsU7jtvaCvWm0B2oL1ihUrXDPJDRs27J4C7j8d3AK1fzAPdLC2IOkLtf7hNu81qz5bgM4bon3X/O9bsLav8X1/X1j1BWT/0O4bK2xF9X0R+gjixSEzWfP+/kHvf/ievvltguYvWqNdnhe7uNLl1ah5Z/U87TxdemFfdWhQUfaXcqD/fAniABB4/kHcXHfddRo+fLirxgDAobJg7Jv27ZvybQF648aNu8O1b+q4nds1q2Tb/UBPB/cFZqs6+9/a9G2rONt931Ruu26BOe9j7dZ37rtflK+nBGYEGkG8GNgf1f6xZ6Qla8PqlVqzepN2ZmWrZOlyql6rtqpVrqCE6Bzl2Kdz3q85EARxAAi8vEH83HPPdQ3bqlXL25QTAPZkIdvXrduCc1JSkpYvX66lS5e6czsscNuUcHuf57u1w1fJLgo2/dqqxnZrQdhez+yoUaOGKlWqtLsKbUG6YsWKrkJtVWwLzPlVs33XbPxgZwsRmBEuCOLFaF9/5EN5kSGIA0Dg5Q3ixxxzjAvi7dq1c/cBRC5bQ22NynwNy6xybdPFLWDblHFf2LbD3r/5poYX5ttjWzJjVWirLvuHYru19dA2Zv0tqlev7sK2nftu7ZqN2/tTC+V2e6iBmECNSEcQD0MEcQAIvLxBvFWrVm5qes+ePd19AOHNKto2XXzNmjVavXq1C9q+pmc2Tdy/8ZlNHS/s6eIWkH1ro606bRVrC9FWvfYFajusap13yrcF8gNFkAYODUE8DBHEASDwLIjfdNNNrhmSTbm0N8RWEb/gggu8jwAQyuytqoVnC9xW2V6yZInmzJmjefPmaf78+Vq1atXurbys6m3nVtk+lLe49lpilWw7LDT7qtMWrn3nderUce/17DXH1yHcDlt/7ev4vT8I1kBgEcTDEEEcAALPgviNN97o3oTbm2ariD399NOuSg4gdPi28rL3UVbhtkq2rdW2sL1w4UJ3WOi26eaHyqrYNuXb1+nbDqtm23u3+vXrq169eqpbt647KleufNDTwgnZQPAhiIchgjgABN6oUaNcRdzeVFsVa/r06br99tvd67AFcwDBx94zWVM0q2771mvbYR+k+Q4L5YfyNtVCsE0Hr1mzpntPZlVsO7fbKlWq7D4saNt0cqtm/9evR7AGQh9BPAwRxAEg8CyIW/W7adOmrqL2yy+/6MILL9Tjjz/u3nADKB72FtOmlFt3cVu/PXPmTE2dOtV9WGYB3KaZW/M031TyA+U/fdzWW1v1ukWLFrsPq2rbB3S2bZdNL7dbX2U7P4RsIDIQxMMQQRwAAu/LL7/ULbfcoh49ergpqx988IFr1GbT01u3bu19FICiZG8nrYJtTdIsdFuVe/bs2S58z5o1y00pt27kB8rX98Eq1/6N0Ow9lgXt2rVru6nkFsItaO/P21oCNxDZCOJhiCAOAIH3xRdf6Oabb9app57qmjm99NJLat++veucbluZASh81pPB1m/buu25c+e6XQssfNt085UrV7rxA2VTw60BWsOGDV24tsOCtk0ntyZpNsPF9s22cJ4fAjaA/UEQD0MEcQAIPAvitkb83HPPddNT7733Xlcds87pZ5xxhvdRAA6WzTSxKeTWNO3333/XX3/95QK4b19ue/+zv28nfftn21ZfzZo1c7NWmjRpopYtW7oQbt3Gfdt72ZTz/L4vgRvAoQiWIJ7/R4oAAIQQW19q1TSrnNkbeAsHtn8wgANna7YtdP/000966qmn3Idcbdu21RFHHOEKDj/88IOrgNu+3Fb5LiiE27/JBg0auK8755xz3Idkb7/9tsaPH68FCxbo559/dktIrrnmGh199NGuEm6Vb6t621puY6E77wEA4YAgDgAIebb21N7025t4W09qQdy6LlulDsC+WZieMmWKXnvtNbcV4FlnnaXTTz/dzSi59dZb3awT+/e0LzZd3GYCWn+GgQMH6vnnn9dnn33mejjYFoPWu+G+++7T2WefrebNm7uquMkvaPsOAAhnBHEAQEizN+wWxC0I2DZEVk2zteIWHGzqLIB/2b+NLVu2uM7l1k/hzDPPVLt27XTCCSfo2muv1XPPPafvv//eVazzW+dt08Xt35hVuk866STdcccd+vDDDzVt2jRNnDjRhW+rotv36t27t9q0aeOmoRuCNgD8iyAOAAgLNj3W3vBbV2Vj02YJ4oh0tmzD9uf+9ddfNXLkSF1++eXq3r27DjvsMDcl3ILzokWLXDi3rcbyssBcrVo1N738iiuucN/j77//dh3RbYr6I4884qrcttbbmqlZnwb7UCxv6LYDAPAvgjgAICxYVdy2N7KtjYztUWwHEGlsacY///yjJ598UhdccMHuaebWmMjWaNv67/xCt4/tvW3B25ogvvHGG26vfptibs2NBgwY4EK3LQUx+QVuOwAA+0YQBwCEBQviVg23hm1m48aNNGxDRLBQbVuGWVi+6KKL3FTzE088cY9p47bHd15WubYKtk0zP+WUUzRs2DCNHj16d7Xbgrx9vy5durh/W4RtACg8BHEAQFiwIG7hwBq2mU2bNmnNmjXuHAg3tuzCGqy9+uqruvjii9W1a1dX9X7nnXfc/t62vtv+TeRlzQw7derkKuWPPvqovvvuO02dOlXffPONBg8erGOPPdbt3W27D+Q3xRwAUDgI4gCAsOALHTY13fYqtoo4QRzhZOvWrfrxxx915513ur1v+/Tp45qiWUfygrqa2zZgjRs31qWXXuqas3311Veucv7666/rtttu05FHHumar5m8oZvgDQBFhyAOAAgr1jndquK+zunWrAoIRbaf99y5c13Vu2/fvmrVqpUL34899pjbg9umo9vz3J9tC2ZTza06bh3QJ0+e7LqZv/LKK7rqqqvUo0cPt82YdT83BG4AKB4EcQBAWLHOzdbl2WzevNlVEYFQYc/Z33//3XUjt6r34YcfriuvvNI1TLMPltLS0ryP/Jet87ap6TfccINbEz5+/Hh9/vnnuu6669S2bVs3Hd0q44ZqNwAEB4I4ACCsVKlSxR3GtjCzAwhm1mxt7NixuvXWW3Xqqaeqf//+br32Tz/9VOAHSVb57tatm2uwZuu7bbr58OHDXeXcZoXYdn7+oZvgDQDBhSAOAAgrVg33NWyz6qI1bQOCjVW2bf/u559/Xsccc4xOOOEEPfXUUy6Q2/M2L9tSrFmzZjr33HPdlmLW2dwq53fddZeOOuoo97y35mqG4A0AwY8gDgAIKxZYfFuYzZs3z+2ZDAQDq1InJSW56eO2XtsCtE0nHzNmjOtynpfti28BfejQofrkk0/0999/u8Zs1iW9YcOGrimhf8Wb8A0AoYMgDgAIO9asyqanW7OrFStWeK8CxcP28LY13pdffrl69erlOpi/9dZb+Xb1tw+STjrpJFcptw7pFsDvu+8+ty+47eXNlHMACA8EcQBA2LHtmurWrevObfrvqlWr3DkQCLaVni2JsM7m11xzjWuYZo3XbEq5dUFPTU31PjJ3ezH70Oj444/XyJEjNWPGDH377beu0Zrt922N1vKGbwBA6COIAwDCjq0R960TX7x4MVVxBIRtlWdB+oknnnBN10455RS3d/fy5ct373PvY9Xt3r17u+7oFti///57tyd4vXr19lrrTfgGgPBDEAcAhAX/sFK+fHnVqVPHna9du9YdQFGxxmsWpC+44AKdfPLJruP5uHHjXDd0fxaw27Vrtzt821rx2267zVXM2dcbACILQRwAEHYsiDdt2lSJiYmuA3V+FUngUNjzyRqvvfjii26vbwvgFqxtGYT/c80aqjVq1EgDBgzQ6NGjXVf0O++8U+3bt3frwf2nnQMAIgdBHAAQdmzdbf369d1+yjt27HDrxAvajxk4EJmZmZo8ebKGDBniGqhdf/31mjJlinf0X/bcO/PMM/Xyyy/r119/dbdHH320SpQo4cZ94ZsADgCRiSAOAAhL1atX371O3CqX27Ztc+fAwbBp5lbR9k0/f/TRR93WeP7Vb9/Ucxuzx1pn9EsuuWT3MgmCNwDAhyAOAAhLtWrVcnstG5suTOd0HCgL2StXrtSbb77p9vO25mofffSR1q9f731Ebri2BmuXXXaZ227Mpp7fcccdatOmjUqWLLn7MQRwAIA/gjgAICxZFbJJkybu3MLUkiVL3DnwX2zd9syZM/XAAw+4zue2//eff/65V/M1W+c9bNgw16jt//7v/9wWZHmnngMAkB+COAAgbFkYL1WqlNatW+e2MQP2xdZ/W0X70ksvdRXwBx980G1H5j/9PC4uTkcddZTeffdd/fTTT6763bx5c5quAQAOCEEcABC26tatu3t6uu0lvn37dncO+LPnxXfffeeaq1kAt7XdNv3cP4BXq1ZN5513nnucBfDzzz/fNWSzdeEEcADAgSKIAwDClnVOt/W7ZunSpe4AfKyTvm05ds455+jcc8/VqFGjtGvXLu9oLtsGzzqkWwD3rRW3LckMARwAcLAI4gCAsGUVcTuMhXDWicPs3LnTTS0/9dRTXVfzH374wW1z52NV7i5durgtx6z7+f3336+OHTu6aemG8A0AOFQEcQBA2EpISHBT02NjY13DNjsQuWy6+TvvvOP2/77ooov0zz//KC0tzTsqlSlTxnVG/+STT/Tbb7/pyiuvdN33LZgbAjgAoLAQxAEAYc2CuDVty8rK0rJly5ScnOwdQaSwKegWwG0N+IABA1xDNmuu5mMB/KyzznJbk9nRr18/th4DABQpgjgAIKzZ1HSrappFixZp9erV7hzhLzU1VR9//LHbguyKK67QX3/9tVcF3Crj1nzt7bffVq9evVS6dGk3RvgGABQlgjgAIKxZt2s7TFJSklatWuXOEb62bdumL774QieffLLrdD5mzBilp6d7R+W6nV988cX68ccfXQO2bt26uWUMhgAOAAgEgjgAIKyVL19ejRs3ducbN25064QRnixsf//997rgggt04YUXunXe/luQlStXzl3/7LPP9OKLL6p79+7eEaagAwACiyAOAAhrNv24SZMmqlixogvhCxYscFOWET5s/b9VvS2A2zrwb775Zo9eAPYcsH2/rTv6//3f/+moo45SiRIl3BjhGwBQHAjiAICwZ2vEq1at6iqmCxcu1Pbt270jCGVW7Z41a5Zuvvlm9enTx3U7998HvEqVKrr00kvdFHRbA25T0K2DviGAAwCKE0EcABD2LIj7GratXbtWmzZtcucIXfbf8fHHH9cZZ5yhZ5991i078KlQoYIuu+wyff755xo5cqSbgu4L3gRwAEAwIIgDAMKehfBGjRq58xUrVmj58uXuHKFn586deuutt9x+34MHD3ad8H1sCrpVwG1t+KuvvqojjzySKegAgKBEEAcAhD1bH+4fxBcvXuzOETpsWYEFbFvrfeWVV2ratGm79wK3Pb9tizJrwvbKK6+oXbt2VMABAEGNIA4AiAi1a9d2a4atorps2TLvVYSCJUuWuOq3bUX21Vdf7bEVWYcOHVwH9HfffVc9e/ZUTEyMu04ABwAEM4I4ACAiWEXcVxW3hm2E8eBnTfUsZJ900kl66qmntG7dOu+IVK9ePT388MOuE7rtCW5bkxkCOAAgFBDEAQARwYJb/fr13fnMmTM1Y8YMd47gY9uR/frrrzr77LN144037rEO3AL35Zdf7irjd911l5vlYFPUCeAAgFBCEAcARAQLbA0bNnTn1qxt7ty57hzBxdbwDxkyROeee67bdiwzM9M7Ih199NF6//339dxzz6lt27a7AzghHAAQagjiAICIYGuHO3fu7MK4VVwnTpyopUuXekdR3FJSUtw675NPPlmPPfaYNmzY4B2R+282fPhwffHFF26cTugAgFBHEAcARIwWLVqoSZMm7nz+/Pl0Tw8CVtW2D0VsnfeAAQM0a9Ys70juNHTrkP7NN9/opptuUvny5d11AjgAINQRxAEAEaNGjRpq3bq1O1+5cqVmz57tquMoHps2bXLV7zPPPFOffPKJUlNTvSNS9+7d9c477+iZZ55xH6CwDhwAEE4I4gCAiGEVVpueboF869atmjRpkjZv3uwdRaDY9mPfffed+vbt6xquJSUleUekmjVr6qGHHnJV8NNOO00JCQnuOiEcABBOCOIAgIjSuHHj3duYWTdu26MagWNbx91yyy264IIL9Pfff3uvSiVLlnQN2j7//HPdeeedqlixortOAAcAhCOCOAAgorRs2VKdOnVy57aN2eTJk905ilZaWpqbam5V8Oeff15btmzxjuSu3R85cqRefvllde3alfANAAh7BHEAQEQpVaqU2/qqdOnSSk5O1rRp09wtio5tFWdN12z/7zlz5nivSmXLlnX7hNs09UsvvVRlypRx1wniAIBwRxAHAEScdu3aqX379u58xowZrjKOwufbkuycc87R22+/rYyMDO+I1KNHD33wwQd68sknVb9+fZqxAQAiCkEcABBxmjdv7qaom3nz5rmKLQqXbQ1nW45dffXVe3zQUa1aNQ0bNkyfffaZ2xM8NjbWXSeEAwAiCUEcABBxEhMT1aFDB1WoUEHbtm3TlClT9lizjINnVfD333/frQV/5ZVXdk/7j46OVu/evfXll19qyJAhqly5MlVwAEDEIogDACKSTU9v2rSpO7d14nRPP3S2/nvgwIG69tprNWvWLO/V3Cr4fffdpzfffFPdunXbHcAJ4QCASEUQBwBEpLp16+4O4suXL3dbmeHgZGVl6eOPP3ZrwV999VU3y8DH1oK/9957rgpetWpVd40ADgCIdARxAEBEqlWrlrp06eI6da9YsULjx4/Xzp07vaPYX0lJSbr55ptd13P/KnilSpV0991369NPP9Xxxx9P+AYAwA9BHAAQsawiXqdOHXc+f/58rVmzxp1j/4wePVoXXHCBnnvuOe3atct7NbcKbuvEhw4dShUcAIB8EMQBABGrTZs2rmmbsc7etlYc/81mDjz11FM6//zz9ddff7k138b2aL/tttv0+eef68QTT1RMTIy7DgAA9kQQBwBErBo1auzeT9ymp0+ePNmdo2D2gcXll1+uO++8U+vWrfNezW1+98477+jhhx+mIzoAAP+BIA4AiGht27ZVixYt3PmECRM0Y8YMd449paen66OPPtJ5553nGrNlZma66yVLltQll1zixvr167e7Ck4IBwCgYARxAEBEs+npdpiJEye6qdbYk62dt67nV111lWbPnu29KtWvX1/PPPOMnn/+eTVr1owqOAAA+4kgDgCIaNWrV3fd0xMTE93a5++//17z5s3zjkY225bszz//1IUXXqgnn3xy97ZksbGxOvnkk10VfMCAAe7vzhDCAQDYPwRxAEBEs/B41FFH7V4rPmXKFI0bN86dRyJf4zUL3S+88IIL4dYd3ce2JbOGbP/3f//nPsAAAAAHjiAOAIh4rVu31gknnKCEhAQ3Dfvbb7/VqlWrvKORwze13GYEXHfddRo0aJDbJ9zHPqx47bXXNGzYMDeTAAAAHByCOAAg4lnDseOPP94FcvP333/rjz/+cOeRxBqyffDBBzrzzDP13nvvuanpxv5+Lr74YjcVvW/fvoqO5u0DAACHgp+kAAB4HH744erZs6c7X7t2rX766Sdt2rTJ3Q9nvqnoNgPgnnvu0TXXXLNHQ7Z69erp8ccf17PPPqumTZt6rwIAgENBEAcAwMO23erVq5fbD9v8+uuv+u2339x5OLMg/vPPP+vcc8/VE088sbshm7G/jw8//FDXX3+9ypYt670KAAAOFUEcAACvzp0767jjjnPnK1ascFXxdevWufvhxFcFtz/bgw8+qP/9739uOr5PlSpVNHToUL399tvq1q2b9yoAACgsBHEAALxsGy6rArds2dLdHzNmjGbMmOHOw4EvgFtDNvuz2brv+++/Xxs3bnTXTadOnfTqq6+6aeoWyAEAQOEjiAMA4KdDhw46+uij3bmtlbZ9xZOTk939UObriL59+3Y9/fTTOuuss/Tjjz/uDufWkO2qq67Sp59+qj59+rip+gAAoGgQxAEA8GNV4JNOOkkNGjRw9617+uTJk915KLMQPnbsWJ133nm69dZbtXr1au+I1KZNG7cvuDVkq1+/vvcqAAAoKgRxAADyOPLII3XMMce48ylTpriqeEZGhrsfSnzV7i1btujJJ590VfDvvvtu9/X4+Hidf/75bssyC+h2HwAAFD2COAAAeVSqVEm9e/dW7dq13f133nnHhdVQY4HbmrBZM7bbb7/dbVHm06hRIz3//PNuPXirVq28VwEAQCAQxAtgb158BwAg8vTo0UNHHXWUO7cA+9xzz+3RWTxY+X5urV+/Xo899pirgv/www+7r1tDugsvvFCff/65BgwY4NaGAwCAwCKI58MF8OxsZXkOe99CFAeAyFO9enW3t3bTpk3d/UmTJrkKclJSkrsfbHxB29aC2/7nVgW/++67tXbtWnfdNGnSxDVqGzlypNq2beu9CgAAAo0gno+o7TP1zJW91K5VP701eqGivNcBAJHFpqdbJ/GyZcu6+5988oleeOEF7dq1y90PFhbCLYBbAzYL3/369dPo0aOVnZ3txkuUKKGLLrpIX331la688kqVKVPGXQcAAMWDIO7H1RKyNuuX91/X61/8olWZqcrOyn0TAwCIPLGxsW6vbasuGwu2b775pt577z13v7j5quDWSM5Ctk1Df+ihh7R161Z33Vjl+7XXXtNLL72k5s2be68CAIDiRBB3clwIj9IOjflohO579BXN2iKViI3LHQYARCxr3HbNNdfouOOOc/fXrVvnQq1ta1Zc3BIqbxV88eLFuuuuu3TppZdqzJgx3kfkrgW3ar5V8a0zOmvBAQAIHhEfxHOrCVHKTlmrUcMH6+qbHtU/SSm5gwAAeFhV2fbebtGihbtvW5rZWmsLwcZXmS5qvl/HKvO2Vv2BBx5wDeXs97J582Y3ZuG8a9eurmpva9p9a9wBAEDwiOwg7nk/ExWVqZWzftH9V1+oAYNHau72GJWvWMH9xeTk2LR0VogDAKQTTzzRra8uV66cu//NN99o2LBhWrZsmQu/RR3GfRXwlStX6tlnn9XJJ5+soUOHunXhPlWrVnXblFkVvE+fPm5qPQAACD6RHcSjtuj7Vx/S6b3O1LC3f9GGmLo67/r7desNF6tWeSmT9eEAAK+YmJh814tbY7RRo0a5a6YwA7l9L9/327Ztm/v1+vfv76rzc+bMcdd9bOr8+++/79aI16lTx3sVAAAEo8gO4pk7NX/RPE1btV012/bWE298qtefvFVt6pVWVpb3MQAAeFWoUEE33nijTjnlFO8VaerUqW4N9s033+ymixdGddz39enp6Zo3b56rvNt0c1sHPmHChN3d0KOjo920+TfeeENff/21jj/+ePeBAQAACG6RHcSzYtSo/TG6e8Q7+vG7j3TrWZ0VqxRlZhbt9EIAQOiyzuP33nuvevXq5b0iJScna8SIEW7f8W+//VZZ3k9zfRXt/wrm/o+zw7qg//XXXxo4cKBOOukk3XPPPVqwYIH30bkaNmzoArr9epdccolKlSrlHQEAAMEu5IJ43jcrB3x4v48TW1W9z7pcQ288X61qsacqAGD/dOnSRW+99ZZbj+3bY9yMHTvWVcctpD/55JOaO3euC9X5/jzyO6zCvWPHDv39999uH3Bbj963b1+9/PLLWrFihfe756pYsaKuv/56t0bduqXXrl3bOwIAAEJFlOcNQGiVf7OStWLOXC1YvlZpcXGKsTcx3qGC5ORYZaKCGjRvoSYNKmjfk/aS9fmrj+iGWx5SatWT9Pjzz+jyXs28Y/uWkpKiIUOGuM61tkavVq1a3hEAQFH58ssvdfXVV7stxqx5WSBZgLZAfP/997tO6nnFx8erffv2OuOMM9StWzeVKFHC/azYtWuXtm/frp07d7rbGTNm6LffftsrdPvEeX7eWQX89NNPd9Xvli1bekcAAMCB+Oijj9wH3fahtvV5KS6hF8R3LNDLNw7U3W/+oI3eS/ung25+8hk9dEsPlfBeyd+hBXGrZGzZssVNF6xZs+budXwAgMJna6StUZqFcOtoft999wX8ddd+D9Y5/amnnnJVcqts58c6mNtjbd33/rLgbmvDzznnHFdlb9CggXcEAAD4+CLtf0Vb+zlMED9YniD+yk036e7Xv9cG76X908kTxIcXaRBPTU11e7q+8MILrqFPyZIl9/lksIY+1lTHbgEAB85+oG7dulWrVq1yU7btA1Df+uxAssq3VbatWVtaWpr36oGznwdW/a5WrZpOOOEEF8Ctku7bMg0AAOTPZsgNHz5c69atcx9k55fDLHvZNqDly5fX008/rVNPPdU7EnihF8RT1ujnl17SW1//o41lEpXgvbwv2VmpysppqTMHXKWL+jbXvndVPbQgbtWYDz/80E0bLFOmTIFvCK1iY411Kleu7Kok9p+BQA4A+8f3mmmvn7YOe/To0a57+DHHHHNAFefCYr8f+1DAt2+3NW+zZUpr1qzRokWL3K2tFc/L/gz2s8DWeTdr1sxVv63zuf1Z7MNcAACwfyZPnqyffvrJbfdpH5DnZT+rExISNHHiRC1fvtwtK+vTp493NPBCL4gXuUOfmm7VmUceeURVq1b1jgAAiopt23XVVVe5deLWzTyY2Ae0tv2YvTmwbc5+/PFHF8yt8/oFF1ygJk2aKDEx0YXw+vXr7w7yAACgaHzyySd66aWXdN111xXr1PTI3r6sCNjnGlYFz6/yAQAofPaaa7OMgvFzZZsaZ83aLr/8cg0ePFgdO3Z01y109+/fX2effbbbk7xx48aEcAAAAiBY3jMQxAEACAD7oe/7wZ+ZmVksa9kBAEBwIIgDABBgtjacviAAAEQugjgAAAAAAAFEEAcAAAAAIIAI4gAc3/rVYGheAQCRwP91l9dehBqeu8ChIYjvxfNikpPbQCdHWcr2HEC48/0gteZR/EAFgMCx110a9yHU2HsF6zzN+wbg4BHE9xKn+i26qN/Zl+js03urRZ2K3utA+LKmUf/884+ee+45zZ0713sVAFCUNmzYoNdee02jRo1yoQYIFfa+4aefftKLL76opKQk71UAB4IgvpcEdexxhp577Q299PTNOrJVde91ILwtXLjQ/VBds2aN9woAoCjt2LFDf/75pyZNmkRVHCFn9uzZ+vXXX7Vx40bvFQAHgiAOwImOjlZMTAxbKgFAANlrrr3+AqHG976B5y9wcPiXAwAAAOCgsEYcODgEcQAAAAAAAoggDgAAAABAABHEAQAAAAAIIII4AAAAAAABRBAHAAAAACCACOJFwL97pJ1zcAT7kZ/8HsfBEWyH8W2557uf9zHBcOxLfo/nCP/DJ++Wkfk9loMjmI68/F+DOTiC/QgmUZ7fUHD9jkJYSkqKhgwZoo0bN+qhhx5SnTp1lJGR4R0FgldcXJxee+01ffbZZ7r55pvVs2dPnrsIevbmLzY2Vp9++qmuv/56XXnllXrggQeC8rlr/8aSkpI0aNAgff755zr++OM1YsQItW7dmn9rEcqeEwsXLtTQoUNVr149dxsfH6+srCzvI4DgZPuG2+vvU089pbFjx2rw4MHq3Lkzr2UICfba+8EHH+iVV15x7x369+/vHQk8gnghSk1N1f3336+XX35ZlStXVqlSpYLukxcgP/ZDdfPmzdq+fbsqVaqksmXL8mYQIcGeu1u3btWaNWtUsWJFVa9ePSifu/am1d6krl692v1+7d9YjRo1VLJkSWVnZ3sfhUhiz4n09HStW7fOBfAqVaooJiaG5wNCgj1/N23apF27drnnLq9lCBX2OrtixQr3c3j48OE6/fTTvSOBRxAvRJmZmRo3bpz7dNDecNmLFBAqfJ9w2w9SXhYQSuy5az9YLYDbEayvvfb7st+rHfbvjH9rsOeE7/lqzwWeDwgVvueuHbyWIdRYZrMP7k844QQ1aNDAezXwCOIAAAAAAAQQzdoAAAAAAAgggjgAAAAAAAFEEAcAAAAAIIAI4gAAAAAABBDN2gqDdTrdfer/12ndJL2ne5wDAAqTe+31vha7LtTWzTd3CABQWPze8+5x7uHbAcD4nwPIH0H8ENnfXlRUtravXaDff/pCX3z5i2bMWy+VrKpWPU5Qv3PP0DHtmqpcydzJB7wsAUARSF6mt4berU9mZmrAww+pT6dG3gEAQGGwyGABO3X7Wk0b+5O++fJ7jZkyX+t3ZahKnbY6qtcZ6nPaMWpdv5Li7QsI48A+EcQPVeY2jf/sBQ2+9yn9umCT96K/RB3W/zoNe+AWndiyqvcaAKDwJGvsB4/o+kEPaVnl4/TMyGd1wdGtvGMAgMKRqvm/faBh9z6k9/9erGzvVX/xlVvoktuGafA1fVWvDCtggX3hX8ghydLMH1/XPQ885g3hUYqKjla098idlpOsiZ89rXsfG6mxq1PdVwEADl3up8gZmvXtG3ro0Vc1ZZ1UMj6GIgwAFIFFv7+re26+U++6EL7ne97o6NwlmOkb5+qV+2/WA89+ojXp3i8EkC+C+CFISRqvj177UL/N2SbFlVHHU6/SG1+P0bwF8zVn2hi9/fgNOqxhBc8jMzX+y2/05XcTlJb7pQCAg+Vdlxilnfrnw6d07U336tsZ691Q1B4rFgEAhWLTZH389tv6dJrntTamvLr1vVr/9+2fmj57rubNm6+Jv36i288/RpVsTvqu5Xr/nTf14eiFuV8LIF8E8UOwYMpv+mfaBE/MLqXjBtyrN958Xhef3FVNGjVWszZddcGtw/XaM/fo+CZlpO1T9Pf43zQ9v9nrAID94hZTReVoR9JUvXTH5brw2nv019JdKl0qUbE27h4FAChMi8b9ozF/jPG8xlbRGTc/pQ/eeUGX9jpCrZs3VZMmjdXx6P569NX39dI9F6tegpQ6f6JmTBintd6vB7A3gvhB26hFU+dr0TIppuWx6n/GGWpbKcY75hOttsf01blnHCeriy+YsEALZ67KHQIAHLCoqJ2a9PmzurBfXw188mMt3VFWvS++QjdddIYaeX6iZWQHJopbe5Xs7GxlZWW5W7uf472/xzU+GQAQ8rZr4eIVmp+UpTItW+qEEzqofmnvkL8SNdTjlLN0fNcmnjubNHflci3bmDsEYG8E8YO1bbVmrFqhlZ7Tjs1bqkPTmrnX8ypdU806dFHdarHatHqaFq+apxTvEADgAGVv0ZQ//tJvk5MUW7e9Bj71lt75v6d0fLtanvAbuIp4VMpSvffwJarRvLXOeuZLLd+0Tn++fq9O6d5SzVu1V58Bd+rLCQuUznp1ACEvUUdeeLt+nDNfM75/Vxf3aOm9vrdyiZXUMLGCrDS1LTNdOzP5NBIoCEH8IKVtW6nNW5I8Z+VUvVJjVa1YMndgLwmqXbaWGpQur5zkjVq+bpN2ZHmHAAAHxhO2q9Rvo/Ove0zf//yTRtx4qiopQ+npAX5hzUnXlg1rtCFplbYtGKNX7r1RA258SD9OXKBF82fpn9FjtHTVdjddHgBCW4zKVKiihk2aqn7d2kosmeC9vreUjDStz0hRlqLUsHJ1NSjHp5FAQQjiB2nXlg1K3mjNgRJVonpZlXAbJuavQtUyqlnFFsxkat3OXdpBF0kAODhRVdTrqjs1/OnbdVTjKr6L3ttAilJUXJxiM3do3Luv6cV3/lLl467QiDff1csjHtKggdeoe6tmrioEAJFi6aJxmrpoplSyndo0ba06BdWpABDED1bKtkzPkSXFxSuubAnF7ePdVmyi5zGl46ScLGWke478Nl4EAPy3mBIqWarEPj/8DAhb/B0Vo2jP63nyzmS1OOEyPT3yOQ28+HxdOfAuDb7pXB1mjToBIELsWjpWX7z1pf5aJjU7rruOPbazivulGghmBPFDYW/ESsYpvlxJxe8jiNvDclzFJkPp63cqbRdJHADCgVv9WLWVuvbpqY71SrhrVi2P8YT02GimZAKIDNmb5urt4cP0whfjFF23hy64aICOb1zKOwogPwTxQ5Dje49lnXG9pwVyrXM9XxDj+SuP4s0ZAIS+HNnK9MrVKqpN3YpUfgBEmNx3vxnbFurdZ4bq0Ve/0+ZSjTXg6pt0RZ8O9MgA/gNB/CBFRUcp2qodKVnK3JGurH30CbLcHeVerOJUompplShFEAeA0Gav49nWO07lStdSlTK+9eoAEAG8Baa0dTP04pAbdcuDn2h5Tn2dM+ge3X5DX1UvuJ8bAC+C+EEqWS5WpTyHMtKUujNFaZnegXxYUE/fkSHFxCihRLzi+YgQAMJGVFSc56cpH7ACiBDeSZ6bF/6uhwZeq8Ejf9Dm0g112eDH9OhdF6lhaeIFsD/4l3KQEstVU+mKVT1nO5W6eptS99EJfeumnVq3yfOAhDhVSyypMp73bACAcJHtm6G5lxxburTPY/cD81zPPQAgmLhXpahUzRn9lq6+bICGffSPMqq11XUPPauH7jhb9RPdwwDsB4L4QYqrVEdVqjb0nG3Tmg0LtGZLSu7AXtK0fMcKLU7eqphSlVS7cgWVpnACABEhI2WDFs+boXmL1islI0rZ6clatXS+ps+cq6T12//dRSMqR6nbN2jRvFmaNmue1mzcrixrREIYBxBEolI36YeXhuh/Fw3QJ38vUuVWvfX4C2/qiRtPYTo6cIAI4gcrsY7a1a4ni+JT583VlHkrc6/nlbxGy6dP1Oq1mSpfrY3qV2siX19dAEB4WzvtDd3Q/zBdOOgNTZo2Ue89ca2O79pRHdq103H9rtabP8+STahaMfl73X1Ff3Xr0FYdOxymY/tephe+HKvNWXxyCyBIpK7RVyPv0y13PqPpq6PUpte1+r83XtPAfh1EBi9sNisqW9lZniM7mxlSYYogftDKqEmXVmrWMk7Zc3/RJx99qIlrUt1I7pRCO0vX5J8/1Bsf/aINnnv1OzRRw5a1bAAAEAGssWdciRJKWTtJIx+9Vbc+9o4WbEpXbEyOloz5UI8/OVwvv/mCHrn3Fj396d/amhmjWKVowZjPNey+J/TlH8u83wkAilOmJn31ih4f/rzmbCupHv+7Ry+98qhOO6xmgUtrdh/e74ADka0537+tAcedoktveVUzkwqaeYtQRhA/BPVbHamurbsowRO4/359mP531oV66t2vNXn6DE0ZM1ov33etLr1+mH5fnCxV6KgTj+2pzjWobgBA5IhXfMIOzZn8mcZuqKYHPp2p5NR0rZ7xvW47raNWjH5dA6+9TzNK9Nbnk5ZrV8ZOzf/1bf2vawNtmPObxs8Yo43e7wQAxWXHnJ/06qvv6Z9VUtW2h+vUU7qr/I5lmjRhgsZ7jokTJ/odEzRu3HhNnb5Um7dnuD0mcIAy12r8P9/orT9/V1JmtmLKsSd7OCKIH4KEmh3V5+J+OrJFOc+9dC3651PdeuHpOqxDe3U+8gRdff//aeYqTwhXKfU480z1P7U7U3cAoAjkuI3EvAJWfsn9hf7rl8tKl6JqH6Nbbr9HV5/UWqXio1Wl5dE69ewT1LSiVKHNCbruzsE6o1NdJUSVUMOjTlH//j1VtUSG1m1KUco+moECQNHbpj9+/UWjxyx099bP+El3nN9TrVq11WFdu6pbt27q6rn99+imww/vrlPPHaofxvJR4sFIWT5Ps6bOVE7p2jqicxM1Ku8dQFghiB+SaLU/8XI9eNcgHdW4grtie4bvIa6ijr7wdj10x9XqVJV9ywCg8OXu551lp55UHJAcnuP51bJ94d9+/YJ+1SxlZkpNGjZT+8a1vddMjOJKllOU58dC80a11bqJ/z7kJVUxsbwqR3u32KCcBKA4rZujeTPGaMUu7/39FMO2jgdt6cLFmj5nhRLrtVXTBq3oLxWmCOKHKracul84VN/+M14/vPu0bvjfGTrm8CN13HF9dM1dj+vrMWP19etD1aNRblAHABS2OFWu1VidurRTp1ZNVa18APbPiSutmo3bqVv7TmrfoqWqli1ovlOGJ6/Hq1TJOipVYs/flzXi8fyf4mOitOfHtDnK9gR9i/dRUVGB+WABAAqQlhGvslUaqFvXTjr8yKN01FH/dRyhLp26qWPbFqpRkbmgB26LFi+aqPlrU9S0TSs1a17Dex3hJirHuigAAIBCt2Lco7p6wFCtrnWvXnnxNh3WIN47kqUxnz6iq669R5VOul0vPPeYWu6eepiqX0ferevuelXNBw7XM/deprre4jgAILxlb5ytZ2++Tne8M0PnPviKht99pip6xxBeqIgDAAAAQCHJycpU6q5kbd++XSmpae5a8uoZevPB63TM4d3V6+JBeue3WdqSO7SHjauWasLixUqv3UktO7bdRwjP0MakGfri5Yd16Tknq2v3Ljqp7wV65JWvNWfZJu3y/Po7duzI99iVkqrMLGqxxY0gDgAAAACFJCVpvG449xiVK1dO59/5pMZN/k33XXe+Lr/3Bf0xdpx+fHuELjr5RN345Ptakach59J5f2vevJVq2raRurTw7y3yr63LJuv5W85R1w6Hqd/VQ/Tmx99rwriJ+mnUexp8dV+1bVJDFSpUVOXKlfc6ypYtqx5nX6exS7d7vxuKC0EcAAAAAAqJ6wFiTUA8ti2foTdGPK/3v5vlGov6xMWVV52qlVXRt2LJ5KzS/InztXBzaTVt3EUNqu+9bdmKyZ/prgH/061Pf6Elm/PZVsPz62ZlZig9PT3fw2RlR3kOd4piRBAHAKCI5Hje7Fgnlpwo66vuPw3Qcy870zVrs9mB2XvMEMzxXMtRRk7uGyU6uQBAKMrtGj/2x1F6/f2vlN7wWN396ihNmztTo15/UJcMOF8dW7eVfxvPrJXzNXHhXO0sV1etOjdWzZLeAa+t877X0/fco1d+WSCb1R5Tpq5OHjBUn/78j6ZNnaapU8brm7ef1nk9WsoX4aOi45RYpoIqVayoChUqKD5GSiwZq7hYutoXN4I4AABFpFSlRmrf/RR1a99MFRI97352i1LF2s11+Ak91aVtC5Xzr4goRtXqt9QJvXqpa4s6KsVPagAIPd6cm5KSpsTGR2nw40/rvitOV7vmrXXaJXfpuUdv1+ldquY+yCtp1gwtmj5f1Rq3VpemjbXHj4bUlfrh03f18R9zXWW9TNPj9OAbn+vTV+5T/xMOV7v27dS+QxedcuEgvTvqcw2/ua+qeX7s5JSor3MHv6GZqzdp8+aNSknP0l8fv6jDG5TN/b4oNvx4BwCgiFRudqYefvVzvfTI2WpS1X+Tshi1OPxcvfLhT3rq9ktUZ4+dzeLV9tTL9dInH2rIBT1VZc+9zQAAISVBbY7upR5d2nte+XNFRcUoIS5O8TH+UWybZs6apxnL41WncQfVrrNnSF+3YLp++XWKVu/yfH2F1rr0hjt0Zb9OylM0d6IrNNM5V16v83q1kXYt1BcfvKSvxs6xEUVH2xHl+T3kPhbFhyAOAAAAAEUhvpxaNa2tetW89wuyab5mzPYE7fhSatWlgerX2PNT2OULx2jOsnnuvHHXY3XSsV1VaR9hulyzLjrltF5qXVbaPGOqvvt2gpZ4QjyCB0EcAAAAAIpAbFx9Va9QX+W99wuyeuFyzZq5TPEV2qlDw1aqukfI3qb181Zp0zI7L6EWbVqoccNybqRgZdS2VSu1a1rBc75OS+aO17JV23KHEBQI4gAAAABQBGKiyysxupzivPfzl6Yly+dpbtIGVW3lCdnNGnive+XsUsq6FKVa886o6qpdqaaq5DcnPY8KdaqqUt3cKe5J61Zr2fpN7hzBgSAOAAAAAEXAdszYc9eMfKSsU9LMSVqxMVrt2x6mVk32aBziGd+ptZ5js7sTp9jYuN3rzfclLqGcEkrkVs63p6ZrTZr1WkewIIgDAAAAQDHZsSpJ4ycv1pa4jmrVvo3q5W3SGROrhOjYPbuo7y+/Ke5sHR5cCOIAAAAAUExWrZis2UtnK7FDA7VtXds/O+eKL6kKCSVVxs5zUpWelqpMN7BvaTs3KGX7Bu89i+H/UZlHQBHEAQAAAKBYJGvZ1OlaMl/q0KitWtfbc9syJ6qMyjQorVJuXfhqrdy0Uhv2owP6+uXrtXbZFndeuWxZNSjN3uHBhCAOAAAAAMVhxxJNmb5QS6PqqXHXTqpbKb/V34mq0byNqjUo5TnP0ozxUzV79rrcoQJt0rQZ0zR1yVZ3r16V2qpfxTqoI1gQxAEAAACgGGxeOEOz5k1TfIMG6tKyjsoXsDd4/cbt1al+Mxfekqb/qa9H/63V++i9tnby3/ryi1+0ONlzJ6a2GrTsrPrV8jSBQ7EiiAMAAABAwGVqzuS5mjUlVfUbtFfzWnW91/dWrnEbHdv7CDWq5EnqO5foneH36oGRn2nVzizvI3xytGbat3r4gaH64K8F7kq1Vh3Vq2dX1baCOoIGQRwAAAAAAi11qWYsmqSZilL9Di1Vs+4+1nBHVdSJfS7QpSd1ldW1s9bP0ct3XqW+Z1yo+x57Vi+/8qpefukZPXDjhTqt7yV67qvpSrGvq9hU/S6/XH16NLZ7CCIEcQAAAAAIsOQVy7Vw+hLFRjdQ5xaNVLe0d6AAcXW66qr7H9cN5x2u0jaFPWOTJv3yge6/c6CuvupKXX3NTRr63HuavHxj7uMrttCVdzyqOy8/XZXzbomGYkcQBwAAAIDCkp2Ve3jkKNsde8vRwoXzNHHucsW36aiWrdrKNUX/DxUb99ADL76vN567RUe1q6cyJRMU5beuPCo6XmUq1NThpwzQ6x98quG3nqG6LA0PSlE5Ht5zAAAAAMAhSN+4WJ9+9plGT1ygcuU76uSzztAJXWt4R33SNX/893rv0x8V17KXzj/rdDX8j4p4Ximb12j65DEaM2W6lq/aqujYMqrTsJW6HNVDHVrWUSJV8KBGEAcAAAAAIICYmg4AAAAAQAARxAEAAAAACCCCOAAAAAAAAUQQBwAAAAAggAjiAAAAAAAEEEEcAAAAAIAAIogDAAAAABBABHEAAAAAAAKIIA4AAAAAQAARxAEAAAAACCCCOAAAAAAAAUQQBwAAAAAgYKT/B87of0cP3TArAAAAAElFTkSuQmCC)  \n",
    "\n"
   ]
  },
  {
   "cell_type": "markdown",
   "id": "14e35064",
   "metadata": {
    "id": "0zMshSNu-zBJ"
   },
   "source": [
    "Для ускорения расчётов потенциал Леннард-Джонса часто обрывают:\n",
    "\n",
    "\n",
    "$$\n",
    "V(r)=\\left\\{\\begin{array}{c}\n",
    "D \\cdot\\left[\\left(\\frac{r_{\\min }}{r}\\right)^{12}-2 \\cdot\\left(\\frac{r_{\\min }}{r}\\right)^{6}\\right]-V\\left(r_{c}\\right), \\text { при } r \\leq r_{c} ; r_{c}=\\frac{2.5 \\cdot r_{\\min }}{\\sqrt[6]{2}} \\\\\n",
    "0,\n",
    "\\end{array}\\right.\n",
    "$$\n",
    "\n",
    "\n",
    "Ещё одним из способов ускорения вычислений является\n",
    "использование сплайнов (плавно соединяемых между собой многочленов). При этом потенциал взаимодействия разбивается на несколько участков, на каждом из которых он приближается простой функцией. Часто используется следующее приближение: \n",
    "\n",
    "\\begin{aligned}\n",
    "&V(r)=\\left\\{\\begin{array}{c}\n",
    "D \\cdot\\left[\\left(\\frac{r_{\\min }}{r}\\right)^{12}-2 \\cdot\\left(\\frac{r_{\\min }}{r}\\right)^{6}\\right], \\text { при } r \\leq r_{s} \\\\\n",
    "k_{1} \\cdot\\left(r-r_{c}\\right)^{3}+k_{2} \\cdot\\left(r-r_{c}\\right)^{2}, \\text { при } r_{s}<r \\leq r_{c} \\\\\n",
    "0, \\\\\n",
    "\\text { при } r>r_{c}\n",
    "\\end{array}\\right. \\\\\n",
    "&\\text { Где: } r_{s}=r_{\\min }\\left(\\frac{13}{7}\\right)^{1 / 6} ; r_{c}=\\frac{67 \\cdot r_{s}}{48} ; k_{1}=-\\frac{96768}{61009} \\cdot \\frac{D}{r_{s}^{3}} ; k_{1}=-\\frac{6048}{3211} \\cdot \\frac{D}{r_{s}^{2}}\n",
    "\\end{aligned}   \n",
    "\n"
   ]
  },
  {
   "cell_type": "markdown",
   "id": "3d9c1992",
   "metadata": {
    "id": "novUN3qkJZl_"
   },
   "source": [
    "## Задание 9*. Закон естественного радиоактивного распада."
   ]
  },
  {
   "cell_type": "markdown",
   "id": "e056e370",
   "metadata": {
    "id": "0_7v8N8aLJH3"
   },
   "source": [
    "Промоделируйте радиоактивный распад группы атомов. Постройте графики количества оставшихся атомов с течением для случаев $N_0$ = 10, 100, 1000, 1000000. Постройте их также в логарифмическом масштабе по N."
   ]
  },
  {
   "cell_type": "markdown",
   "id": "e7d1321e",
   "metadata": {
    "id": "rrsLBiMYJgH3"
   },
   "source": [
    "Эксперименты с тяжелыми атомами говорят, что их ядра распадаются, выбрасывая частицы и превращаясь в более легкие. Распад ядра происходит спонтанно и практически не зависит от внешних условий, в которых оно находится. Число распадов, регистрируемых в единицу времени, не зависит от внешних полей, концентрации радиоактивных атомов, химической структуры молекул, в которые входят радиоактивные атомы, а зависит только от числа атомов, ядра которых способны распадаться. Вероятность естественного распада ядра определяется его устройством и не зависит от того, что происходит вне ядра. Эта вероятность может быть описана некоторым числом, характерным для данных ядер. Таково главное свойство естественного радиоактивного распада. \n",
    "\n",
    "Вопросы для численного эксперимента на математической модели можно поставить следующим образом:\n",
    "\n",
    "1. Как меняется со временем число нераспавшихся ядер, если в начальный момент их было $N_{0}$ ?\n",
    "2. Каково среднее время жизни $T_{1}$ ядра?\n",
    "3. Через какое время $T_{2}$ распадется половина ядер?\n",
    "Ответы на первый и последний вопросы достаточно легко проверить в натурном эксперименте с быстро распадающимися ядрами.\n",
    "\n",
    "\n",
    "Приступим к построению математической модели. В принятой концепции явления можно сказать, что на малом интервале времени $\\Delta t$ число распавшихся ядер $-\\Delta N=N(t)-N(t+\\Delta t)$ пропорционально $N^{*} \\Delta t .$\n",
    "Кроме того, это число пропорционально числу нераспавшихся ядер в данный момент времени, поскольку каждое ядро независимо от других может испытать распад на рассматриваемом интервале времени Dt. \n",
    "\n",
    "Учитывая сказанное, для достаточно малого интервала времени можно написать следующее уравнение радиоактивного распада  \n",
    "\n",
    "$\\Delta N=\\frac{N}{\\tau} \\cdot \\Delta t$\n",
    "\n",
    "Коэффициент пропорциональности записан в таком виде, чтобы константа вещества t имела размерность времени. Она определяет, насколько быстро распадаются ядра данного вещества. В теории радиоактивного распада обычно используют другую постоянную $\\lambda=1 / \\tau$, называемую радиоактивной постоянной.\n",
    "\n",
    "Нам кажется использование $\\tau$ более удобным, тем более что оно, как покажет эксперимент, имеет простой физический смысл. Если $\\tau-$ велико, то за время $\\Delta t$ распадется мало ядер, и наоборот, если $\\tau$ - мало, то ядра распадаются быстро. Во втором случае требуется выбирать достаточно маленькое $\\Delta t$, чтобы $\\Delta N$ было малым и уравнение справедливым. Величина $\\tau$ должна быть измерена в натурном эксперименте по подсчету числа распадов в заданном образце на небольшом интервале времени и вычислена по формуле.  \n",
    "\n",
    "Опыт дает очень разные значения этой константы для разных веществ. Так, для радона $\\tau=5,56$ дня, для радия - 2640 лет, для урана - 7,5\\bullet10 $^{9}$ лет. Для полного определения функции $N(t)$ нужно задать число ядер вещества в начальный момент:\n",
    "\n",
    "$$\n",
    "t=0: N=N_{0}\n",
    "$$\n",
    "\n",
    "Уравнения определяют математическую модель радиоактивного распада. Теперь в модели нужно перейти к относительным единицам, чтобы уменьшить число параметров задачи и представить результаты численного эксперимента в относительных единицах.\n",
    "В качестве характерного времени процесса можно взять $\\tau$ - оно будет служить новой единицей времени: размерное время $t$, измеряемое в секундах, представим в виде $\\mathrm{t}=\\tau \\cdot \\tilde{t}, \\tilde{t}-6$ езразмерное время.\n",
    "\n",
    "В качестве характерного числа атомов возьмем их количество в момент $t=0$, т.е. представим число атомов в произвольный момент времени в виде $N=N_{0}$* $\\widetilde{N} .$ Число $\\widetilde{N}$ показывает долю оставшихся ядер от их числа в начальный момент. Подставим размерные величины:\n",
    "\n",
    "$$\n",
    "\\Delta \\widetilde{N}=-\\widetilde{N} \\cdot \\Delta t, \\tilde{t}=0: \\tilde{N}=1\n",
    "$$\n",
    "\n",
    "Все входящие в уравнение величины безразмерные, поэтому в дальнейшем знак безразмерной величины “ \" писать не будем.\n",
    "\n",
    "Перейдем к описанию алгоритма вычисления числа ядер, не распавшихся к моменту времени $t$. Вдоль оси времени будем продвигаться малыми, но конечными шагами величиной $\\Delta t$, обозначая соответствующие моменты времени $t_{n}=n \\Delta t$ и число ядер $N_{n} .$ Связь между этими числами задается уравнением:\n",
    "\n",
    "$$\n",
    "\\Delta N=N_{n+1}-N_{n}=-N_{n} \\cdot \\Delta t\n",
    "$$\n",
    "\n",
    "Запись в правой части числа ядер на левом конце временного интервала $\\Delta t$ может привести к заметной ошибке, если на этом интервале происходит заметное изменение числа ядер.\n",
    "\n",
    "$$\n",
    "N_{0}=1, N_{n}+1=N_{n}-N_{n} \\cdot \\Delta t, n=1,2, \\ldots\n",
    "$$\n",
    "\n",
    "Система разностных уравнений определяет число нераспавшихся ядер в последовательные моменты времени. Обратим внимание на то, что она не содержит характеристик вещества: полученные при численном эксперименте свойства распада будут универсальными.\n",
    "Индивидуальность ядер проявится только через масштаб времени t.\n",
    "\n",
    "Вернемся к вопросам, поставленным перед численным экспериментом. Для определения зависимости $N(t)$ по вычисленным значениям $N_{a}$ нужно построить плавную кривую процесса. Чтобы вычислить среднее время жизни ядра $T_{1}$, нужно просуммировать время жизни каждого из ядер и разделить его на полное число распавшихся ядер. Время жизни $t_{n}$ имеют те ядра, которые распались на интервале $t_{n+1}-t_{n} .$ Их число есть $N_{n}-N_{n+1}  .$ Отсюда получим\n",
    "\n",
    "$$\n",
    "T_{1}=\\left(\\sum_{n=0}^{\\infty} t_{n}\\left(N_{n}-N_{n+1}\\right)/N_{0}\\right)=(\\Delta t)^{2} \\sum_{n=0}^{\\infty} n N_{n}\n",
    "$$\n",
    "\n",
    "Для вычисления времени $T_{2}$, за которое распадается половина начального числа ядер, нужно найти для определяемой в численном эксперименте функции $N(t)$ решение уравнения $N(t)=0,5 .$  \n",
    "\n"
   ]
  },
  {
   "cell_type": "markdown",
   "id": "1c19c088",
   "metadata": {
    "id": "EKx4yX6RKigK"
   },
   "source": [
    "## Задание 10*. Моделирование броуновского движения.\n",
    "\n"
   ]
  },
  {
   "cell_type": "markdown",
   "id": "76762b91",
   "metadata": {
    "id": "E3fJx9Q1L8Bo"
   },
   "source": [
    "### Постановка задачи."
   ]
  },
  {
   "cell_type": "markdown",
   "id": "596e075e",
   "metadata": {
    "id": "BhSMh5EbL-xv"
   },
   "source": [
    "Броуновским движением называют наблюдающееся под микроскопом непрерывное хаотическое движение мелких частиц, взвешенных в жидкости или газе. Молекулы среды находятся в непрерывном тепловом движении и при столкновении с частицей передают ей соответствующий импульс. Если размеры частицы достаточно малы (меньше $10^{-4}$ см), то удары, получаемые частицей с разных сторон, не компенсируют друг друга в силу их небольшого количества. Под влиянием этих флуктуаций давления на поверхности частицы она приходит в беспорядочное движение, направление и скорость которого меняются с большой частотой ($10^{12} c^{-1}$). \n",
    "\n",
    "Чтобы анализировать это явление, экспериментатор фиксирует положение частицы через равные промежутки времени, например, через 30 сек., и соединяет их прямыми линиями. \n",
    "\n",
    "В каждый момент времени частица может с одинаковой вероятностью переместиться по любому направлению. Величина этого смещения также случайна и зависит от свойств жидкости, ее температуры и размеров частицы. Для фиксированной системы имеется некоторое среднее за один такт наблюдения смещение l, которое возрастает с ростом T.   "
   ]
  },
  {
   "cell_type": "markdown",
   "id": "ce7e83c5",
   "metadata": {
    "id": "Pm8eqxLdMWff"
   },
   "source": [
    "### Численная модель."
   ]
  },
  {
   "cell_type": "markdown",
   "id": "e995cc70",
   "metadata": {
    "id": "IEestA0QMdMx"
   },
   "source": [
    "Положение броуновской частицы будем задавать в декартовой системе координат. В начальный момент пусть частица находится в начале координат. Смещение частицы вдоль каждой из осей является случайным со средним по величине смещением / и равновероятным в обоих направлениях. Это смещение будем формировать с помощью датчика случайных чисел с равномерным распределением от 0 до $1 .$\n",
    "\n",
    "$$\n",
    "d x=2 \\cdot l \\cdot(\\text { random }-0.5), \\quad d y=2 \\cdot l \\cdot(\\text { random }-0.5) ;\n",
    "$$\n",
    "\n",
    "Координаты нового положения частицы в последовательные моменты времени будем определять так: $x_{n+1}=x_{n}+d x, y_{n+1}=y_{n}+d y .$\n",
    "Соответствующий момент времени будет $t_{n}=\\Delta t \\cdot n$. \n",
    "\n",
    "Таким образом, можно сказать, что время пропорционально числу шагов по фиксации положения частицы. Расстояние $L$, на которое удалилась частица от начала координат, очевидно, равно $\\sqrt{x_{n}^{2}+y_{n}^{2}} .$ За интервал времени $\\mathrm{T}=\\mathrm{t}_{n}-\\mathrm{t}_{\\mathrm{m}}$ квадрат смещения броуновской частицы равен $\\mathrm{S} .$\n",
    "\n",
    "В численном эксперименте нужно исследовать зависимость $S$ от $\\mathrm{T} .$  Ниже приведён пример моделирования броуновского движения на плоскости."
   ]
  },
  {
   "cell_type": "code",
   "execution_count": 8,
   "id": "adda9e37",
   "metadata": {
    "colab": {
     "base_uri": "https://localhost:8080/",
     "height": 639
    },
    "id": "Hf1NoP35MrhQ",
    "outputId": "989309b8-d507-4f43-dc71-dced33cad6a5"
   },
   "outputs": [
    {
     "data": {
      "text/plain": [
       "[<matplotlib.lines.Line2D at 0x7f1c584514d0>]"
      ]
     },
     "execution_count": 8,
     "metadata": {},
     "output_type": "execute_result"
    },
    {
     "data": {
      "image/png": "[encoded data removed]",
      "text/plain": [
       "<Figure size 720x720 with 1 Axes>"
      ]
     },
     "metadata": {
      "needs_background": "light"
     },
     "output_type": "display_data"
    }
   ],
   "source": [
    "import numpy as np\n",
    "import random\n",
    "import matplotlib.pyplot as plt\n",
    "%matplotlib inline\n",
    "steps = 5000\n",
    "random.seed(42)\n",
    "x,y = np.cumsum(np.random.randn(steps)), np.cumsum(np.random.randn(steps))\n",
    "points = 10\n",
    "ip = lambda x, steps, points: np.interp(np.arange(steps*points), \n",
    "                                        np.arange(steps)*points, \n",
    "                                        x)\n",
    "X, Y = ip(x, steps, points), ip(y, steps, points)\n",
    "fig, ax = plt.subplots(1, 1, figsize=(10, 10))\n",
    "ax.set_title('Brownian Motion')\n",
    "ax.set_xlabel('x')\n",
    "ax.set_ylabel('y')\n",
    "ax.plot(X, Y, color='blue',\n",
    "        marker='o',  markersize=1)  "
   ]
  },
  {
   "cell_type": "markdown",
   "id": "875e170c",
   "metadata": {
    "id": "hm3v03pjceN2"
   },
   "source": [
    "## Задание 11*. Исследование аппроксимации и сходимости разностной схемы."
   ]
  },
  {
   "cell_type": "markdown",
   "id": "ebcfd1c2",
   "metadata": {
    "id": "NE_VB-HVckEH"
   },
   "source": [
    "Для предложенных разностных схем вычислить порядок аппроксимации, найти точное решение и исследовать его сходимость к решению дифференциальной задачи Коши $y^{\\prime}=\\alpha x, y(0)=y_{0}, 0 \\leqslant t \\leqslant T, \\alpha=$ const. У казать дополнительные краевые условия в схемах в) и г) и выяснить их влияние на сходимость и требования к точности их задания.\n",
    "\n",
    "\n",
    "a) $\\frac{y_{n+1}-y_{n}}{\\tau}=\\alpha y_{n}$,\n",
    "\n",
    "б) $\\frac{y_{n+1}-y_{n}}{\\tau}=\\alpha \\frac{y_{n}+y_{n+1}}{2}$,\n",
    "\n",
    "в) $\\frac{y_{n+1}-y_{n-1}}{2 \\tau}=\\alpha y_{n}$,\n",
    "\n",
    "г) $\\frac{y_{n+1}-y_{n}}{\\tau}=\\frac{\\alpha}{2}\\left(3 y_{n}-y_{n-1}\\right)$.\n",
    "\n",
    "Решение. "
   ]
  },
  {
   "cell_type": "markdown",
   "id": "50919bec",
   "metadata": {
    "id": "QspZlag4coNw"
   },
   "source": [
    "Аппроксимация\n",
    "\n",
    "\n",
    "a)\n",
    "$$\n",
    "\\begin{aligned}\n",
    "\\psi^{(h)} &=\\left\\{\\begin{array}{l}\n",
    "{[y]_{0}-y_{0}} \\\\\n",
    "\\frac{[y]_{n+1}-[y]_{n}}{\\tau}-\\alpha[y]_{n}, \\quad=\\left\\{\\begin{array} { l } \n",
    "{ 0 } \\\\\n",
    "{ [ n = 0 , \\ldots , N - 1 }\n",
    "\\end{array} \\quad \\left\\{\\begin{array}{l}\n",
    "{[y]_{n}+\\tau\\left[y^{\\prime}\\right]_{n}+\\frac{\\tau^{2}}{2}\\left[y^{\\prime \\prime}\\right]_{n}+O\\left(\\tau^{3}\\right)-[y]_{n}} \\\\\n",
    "\\tau \\\\\n",
    "n=0, \\ldots, N-1\n",
    "\\end{array}-\\alpha[y]_{n}, \\quad=\\right.\\right.\n",
    "\\end{array}\\right.\\\\\n",
    "&=\\left\\{\\begin{array}{l}\n",
    "0 \\\\\n",
    "{\\left[y^{\\prime}\\right]_{n}-\\alpha[y]_{n}+\\frac{\\tau}{2}\\left[y^{\\prime \\prime}\\right]_{n}+O\\left(\\tau^{2}\\right), \\quad=\\left\\{\\begin{array}{l}\n",
    "0 \\\\\n",
    "O(\\tau), n=0, \\ldots, N-1\n",
    "\\end{array}\\right.} \\\\\n",
    "n=0, \\ldots, N-1\n",
    "\\end{array}\\right.\n",
    "\\end{aligned}\n",
    "$$\n",
    "б)\n",
    "$$\n",
    "\\psi^{(h)}=\\left\\{\\begin{array}{l}\n",
    "{[y]_{0}-y_{0}} \\\\\n",
    "\\frac{[y]_{n+1}-[y]_{n}}{\\tau}-\\frac{\\alpha}{2}\\left([y]_{n}+[y]_{n+1}\\right), \\\\\n",
    "n=0, \\ldots, N-1\n",
    "\\end{array}=\\right.\n",
    "$$  "
   ]
  }
 ],
 "metadata": {
  "kernelspec": {
   "display_name": "Python 3",
   "language": "python",
   "name": "python3"
  },
  "language_info": {
   "codemirror_mode": {
    "name": "ipython",
    "version": 3
   },
   "file_extension": ".py",
   "mimetype": "text/x-python",
   "name": "python",
   "nbconvert_exporter": "python",
   "pygments_lexer": "ipython3",
   "version": "3.8.8"
  }
 },
 "nbformat": 4,
 "nbformat_minor": 5
}
